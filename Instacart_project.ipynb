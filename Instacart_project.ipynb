{
 "cells": [
  {
   "cell_type": "markdown",
   "id": "aad391f7",
   "metadata": {},
   "source": [
    "# EDA Project for Instacart\n",
    "\n",
    "### Project Description:\n",
    "Perform Exploratory Data Analysis (EDA) to understand the shopping habits of Instacart customers"
   ]
  },
  {
   "cell_type": "code",
   "execution_count": null,
   "id": "d65f67ac",
   "metadata": {},
   "outputs": [],
   "source": [
    "# Import necessary libraries\n",
    "import pandas as pd\n",
    "import numpy as np\n",
    "from matplotlib import pyplot as plt"
   ]
  },
  {
   "cell_type": "code",
   "execution_count": null,
   "id": "7825368f",
   "metadata": {},
   "outputs": [],
   "source": [
    "# Load datasets and set new variable names\n",
    "instacart_orders = pd.read_csv('/datasets/instacart_orders.csv', sep = ';' )\n",
    "products = pd.read_csv('/datasets/products.csv', sep = ';')\n",
    "aisles = pd.read_csv('/datasets/aisles.csv', sep = ';')\n",
    "departments = pd.read_csv('/datasets/departments.csv', sep = ';')\n",
    "order_products = pd.read_csv('/datasets/order_products.csv', sep = ';')"
   ]
  },
  {
   "cell_type": "code",
   "execution_count": null,
   "id": "fbf1adab",
   "metadata": {
    "trusted": false
   },
   "outputs": [
    {
     "name": "stdout",
     "output_type": "stream",
     "text": [
      "<class 'pandas.core.frame.DataFrame'>\n",
      "RangeIndex: 478967 entries, 0 to 478966\n",
      "Data columns (total 6 columns):\n",
      " #   Column                  Non-Null Count   Dtype  \n",
      "---  ------                  --------------   -----  \n",
      " 0   order_id                478967 non-null  int64  \n",
      " 1   user_id                 478967 non-null  int64  \n",
      " 2   order_number            478967 non-null  int64  \n",
      " 3   order_dow               478967 non-null  int64  \n",
      " 4   order_hour_of_day       478967 non-null  int64  \n",
      " 5   days_since_prior_order  450148 non-null  float64\n",
      "dtypes: float64(1), int64(5)\n",
      "memory usage: 21.9 MB\n",
      "None\n",
      "   order_id  user_id  order_number  order_dow  order_hour_of_day  \\\n",
      "0   1515936   183418            11          6                 13   \n",
      "1   1690866   163593             5          5                 12   \n",
      "2   1454967    39980             4          5                 19   \n",
      "3   1768857    82516            56          0                 20   \n",
      "4   3007858   196724             2          4                 12   \n",
      "\n",
      "   days_since_prior_order  \n",
      "0                    30.0  \n",
      "1                     9.0  \n",
      "2                     2.0  \n",
      "3                    10.0  \n",
      "4                    17.0  \n",
      "\n",
      "<class 'pandas.core.frame.DataFrame'>\n",
      "RangeIndex: 49694 entries, 0 to 49693\n",
      "Data columns (total 4 columns):\n",
      " #   Column         Non-Null Count  Dtype \n",
      "---  ------         --------------  ----- \n",
      " 0   product_id     49694 non-null  int64 \n",
      " 1   product_name   48436 non-null  object\n",
      " 2   aisle_id       49694 non-null  int64 \n",
      " 3   department_id  49694 non-null  int64 \n",
      "dtypes: int64(3), object(1)\n",
      "memory usage: 1.5+ MB\n",
      "None\n",
      "   product_id                                       product_name  aisle_id  \\\n",
      "0           1                         Chocolate Sandwich Cookies        61   \n",
      "1           2                                   All-Seasons Salt       104   \n",
      "2           3               Robust Golden Unsweetened Oolong Tea        94   \n",
      "3           4  Smart Ones Classic Favorites Mini Rigatoni Wit...        38   \n",
      "4           5                          Green Chile Anytime Sauce         5   \n",
      "\n",
      "   department_id  \n",
      "0             19  \n",
      "1             13  \n",
      "2              7  \n",
      "3              1  \n",
      "4             13  \n",
      "\n",
      "<class 'pandas.core.frame.DataFrame'>\n",
      "RangeIndex: 134 entries, 0 to 133\n",
      "Data columns (total 2 columns):\n",
      " #   Column    Non-Null Count  Dtype \n",
      "---  ------    --------------  ----- \n",
      " 0   aisle_id  134 non-null    int64 \n",
      " 1   aisle     134 non-null    object\n",
      "dtypes: int64(1), object(1)\n",
      "memory usage: 2.2+ KB\n",
      "None\n",
      "   aisle_id                       aisle\n",
      "0         1       prepared soups salads\n",
      "1         2           specialty cheeses\n",
      "2         3         energy granola bars\n",
      "3         4               instant foods\n",
      "4         5  marinades meat preparation\n",
      "\n",
      "<class 'pandas.core.frame.DataFrame'>\n",
      "RangeIndex: 21 entries, 0 to 20\n",
      "Data columns (total 2 columns):\n",
      " #   Column         Non-Null Count  Dtype \n",
      "---  ------         --------------  ----- \n",
      " 0   department_id  21 non-null     int64 \n",
      " 1   department     21 non-null     object\n",
      "dtypes: int64(1), object(1)\n",
      "memory usage: 464.0+ bytes\n",
      "None\n",
      "   department_id department\n",
      "0              1     frozen\n",
      "1              2      other\n",
      "2              3     bakery\n",
      "3              4    produce\n",
      "4              5    alcohol\n",
      "\n",
      "<class 'pandas.core.frame.DataFrame'>\n",
      "RangeIndex: 4545007 entries, 0 to 4545006\n",
      "Data columns (total 4 columns):\n",
      " #   Column             Non-Null Count    Dtype  \n",
      "---  ------             --------------    -----  \n",
      " 0   order_id           4545007 non-null  int64  \n",
      " 1   product_id         4545007 non-null  int64  \n",
      " 2   add_to_cart_order  4544171 non-null  float64\n",
      " 3   reordered          4545007 non-null  int64  \n",
      "dtypes: float64(1), int64(3)\n",
      "memory usage: 138.7 MB\n",
      "None\n",
      "   order_id  product_id  add_to_cart_order  reordered\n",
      "0   2141543       11440               17.0          0\n",
      "1    567889        1560                1.0          1\n",
      "2   2261212       26683                1.0          1\n",
      "3    491251        8670               35.0          1\n",
      "4   2571142        1940                5.0          1\n"
     ]
    }
   ],
   "source": [
    "# Display the structure and first few rows of each dataset\n",
    "\n",
    "print(instacart_orders.info())\n",
    "print(instacart_orders.head())\n",
    "print()\n",
    "print(products.info())\n",
    "print(products.head())\n",
    "print()\n",
    "print(aisles.info())\n",
    "print(aisles.head())\n",
    "print()\n",
    "print(departments.info())\n",
    "print(departments.head())\n",
    "print()\n",
    "print(order_products.info(show_counts = True))\n",
    "print(order_products.head())"
   ]
  },
  {
   "cell_type": "markdown",
   "id": "73ca3c9d",
   "metadata": {},
   "source": [
    "<div class=\"alert alert-block alert-success\">\n",
    "<div class style=color:black> \n",
    "<b>Code Comments:</b> First I imported all the necessary packages (it's best to keep this section seperate as you may need to update with more packages as you work through the project). Next I set a new variable for each of the datafiles so it is easy to call them out as needed. I looked at the structure of each file using df.info() because this provides us with 4 critical pieces of information: size of the dataset, number of null-values, column names and their data types. Lastly, I used df.head() to see a few of the rows within each dataset to a get a good outlook on the kind of data we're working with."
   ]
  },
  {
   "cell_type": "markdown",
   "id": "07357848-dc64-4156-9cc3-01ff4365226d",
   "metadata": {},
   "source": [
    "### Task 1: Find and remove duplicate values. Describe your process."
   ]
  },
  {
   "cell_type": "markdown",
   "id": "f179f0a9",
   "metadata": {},
   "source": [
    "### `orders` data frame"
   ]
  },
  {
   "cell_type": "code",
   "execution_count": 2,
   "id": "b99297a5-405a-463d-8535-9adc3da4ad74",
   "metadata": {
    "trusted": false
   },
   "outputs": [
    {
     "name": "stdout",
     "output_type": "stream",
     "text": [
      "15\n"
     ]
    }
   ],
   "source": [
    "# Check for duplicated orders\n",
    "print(instacart_orders.duplicated().sum())"
   ]
  },
  {
   "cell_type": "code",
   "execution_count": 4,
   "id": "480563c7",
   "metadata": {
    "trusted": false
   },
   "outputs": [
    {
     "name": "stdout",
     "output_type": "stream",
     "text": [
      "0\n"
     ]
    }
   ],
   "source": [
    "# Remove duplicate orders\n",
    "instacart_orders = instacart_orders.drop_duplicates()\n",
    "print(instacart_orders.duplicated().sum())"
   ]
  },
  {
   "cell_type": "code",
   "execution_count": 6,
   "id": "f6113ef1",
   "metadata": {
    "trusted": false
   },
   "outputs": [
    {
     "name": "stdout",
     "output_type": "stream",
     "text": [
      "0\n"
     ]
    }
   ],
   "source": [
    "# Double check for duplicate order IDs only\n",
    "print(instacart_orders.duplicated(subset=['order_id']).sum())"
   ]
  },
  {
   "cell_type": "markdown",
   "id": "45e6bc46",
   "metadata": {},
   "source": [
    "### `products` data frame"
   ]
  },
  {
   "cell_type": "code",
   "execution_count": 7,
   "id": "5f526b5b-8175-46fa-a0fd-441767d50e64",
   "metadata": {
    "trusted": false
   },
   "outputs": [
    {
     "name": "stdout",
     "output_type": "stream",
     "text": [
      "0\n"
     ]
    }
   ],
   "source": [
    "# Check for fully duplicate rows\n",
    "print(products.duplicated().sum())"
   ]
  },
  {
   "cell_type": "code",
   "execution_count": null,
   "id": "88daa4f4",
   "metadata": {
    "trusted": false
   },
   "outputs": [
    {
     "name": "stdout",
     "output_type": "stream",
     "text": [
      "0\n"
     ]
    }
   ],
   "source": [
    "# Check for just duplicates on product IDs\n",
    "print(products.duplicated(subset=['product_id'], keep = False).sum())"
   ]
  },
  {
   "cell_type": "code",
   "execution_count": null,
   "id": "c773f0bf",
   "metadata": {
    "trusted": false
   },
   "outputs": [
    {
     "name": "stdout",
     "output_type": "stream",
     "text": [
      "1465\n"
     ]
    }
   ],
   "source": [
    "# Check for just duplicate product names (convert names to lowercase to compare more accurately)\n",
    "products['product_name'] = products['product_name'].str.lower()\n",
    "print(products.duplicated(subset=['product_name'], keep = False).sum())"
   ]
  },
  {
   "cell_type": "code",
   "execution_count": 10,
   "id": "01efd02e",
   "metadata": {
    "trusted": false
   },
   "outputs": [
    {
     "name": "stdout",
     "output_type": "stream",
     "text": [
      "207\n"
     ]
    }
   ],
   "source": [
    "# Check for duplicate product names that aren't missing\n",
    "products_filtered = products.dropna(subset=['product_name'])\n",
    "print(products_filtered.duplicated(subset=['product_name'], keep = False).sum())"
   ]
  },
  {
   "cell_type": "markdown",
   "id": "ba36cc25",
   "metadata": {},
   "source": [
    "<div class=\"alert alert-block alert-success\">\n",
    "<div class style=color:black> \n",
    "<b>Code Comments:</b> Seeing there are 1465 duplicates is concerning, so I created a new df called products_filtered that removed all records where the product_name was missing. Then I re-checked for duplicates on the product_name column of products_filtered and saw the number of duplicates drop down to 207, which is still high but much less than before."
   ]
  },
  {
   "cell_type": "markdown",
   "id": "60f30db1",
   "metadata": {},
   "source": [
    "### `departments` data frame"
   ]
  },
  {
   "cell_type": "code",
   "execution_count": 11,
   "id": "fb410ad4-0fbf-4b80-bb09-23fdea79afe3",
   "metadata": {
    "trusted": false
   },
   "outputs": [
    {
     "name": "stdout",
     "output_type": "stream",
     "text": [
      "0     False\n",
      "1     False\n",
      "2     False\n",
      "3     False\n",
      "4     False\n",
      "5     False\n",
      "6     False\n",
      "7     False\n",
      "8     False\n",
      "9     False\n",
      "10    False\n",
      "11    False\n",
      "12    False\n",
      "13    False\n",
      "14    False\n",
      "15    False\n",
      "16    False\n",
      "17    False\n",
      "18    False\n",
      "19    False\n",
      "20    False\n",
      "dtype: bool\n",
      "\n",
      "0\n"
     ]
    }
   ],
   "source": [
    "# Check for fullly duplicate rows\n",
    "print(departments.duplicated())\n",
    "print()\n",
    "print(departments.duplicated().sum())"
   ]
  },
  {
   "cell_type": "code",
   "execution_count": 12,
   "id": "332b12bb",
   "metadata": {
    "trusted": false
   },
   "outputs": [
    {
     "name": "stdout",
     "output_type": "stream",
     "text": [
      "0\n",
      "0\n"
     ]
    }
   ],
   "source": [
    "# Double check for any other tricky duplicates\n",
    "print(departments.duplicated(subset = ['department']).sum())\n",
    "print(departments.duplicated(subset = ['department_id']).sum())"
   ]
  },
  {
   "cell_type": "markdown",
   "id": "f27bc091",
   "metadata": {},
   "source": [
    "<div class=\"alert alert-block alert-success\">\n",
    "<div class style=color:black> \n",
    "<b>Code Comments:</b> Since the departments datafile is very small, I can show duplicates as a boolean as well, just as an alternative to the sum method I applied earlier. Seeing that all the rows are false means there are no duplicate entries here. As a sanity check I also verified duplicates on department_id column as well."
   ]
  },
  {
   "cell_type": "markdown",
   "id": "889349c1",
   "metadata": {},
   "source": [
    "### `aisles` data frame"
   ]
  },
  {
   "cell_type": "code",
   "execution_count": 13,
   "id": "9da89fb9-4679-40f5-ad0d-c34df753a3f8",
   "metadata": {
    "trusted": false
   },
   "outputs": [
    {
     "name": "stdout",
     "output_type": "stream",
     "text": [
      "0\n"
     ]
    }
   ],
   "source": [
    "# Check for fullly duplicate rows\n",
    "print(aisles.duplicated().sum())"
   ]
  },
  {
   "cell_type": "code",
   "execution_count": 14,
   "id": "da7c2822",
   "metadata": {
    "trusted": false
   },
   "outputs": [
    {
     "name": "stdout",
     "output_type": "stream",
     "text": [
      "0\n",
      "0\n"
     ]
    }
   ],
   "source": [
    "# Double check for any other tricky duplicates\n",
    "print(aisles.duplicated(subset = ['aisle']).sum())\n",
    "print(aisles.duplicated(subset = ['aisle_id']).sum())"
   ]
  },
  {
   "cell_type": "markdown",
   "id": "274cd06a",
   "metadata": {},
   "source": [
    "### `order_products` data frame"
   ]
  },
  {
   "cell_type": "code",
   "execution_count": 15,
   "id": "52326689-84a8-4b8f-a881-7c68780f62c9",
   "metadata": {
    "trusted": false
   },
   "outputs": [
    {
     "name": "stdout",
     "output_type": "stream",
     "text": [
      "0\n"
     ]
    }
   ],
   "source": [
    "# Check for fullly duplicate rows\n",
    "print(order_products.duplicated().sum())"
   ]
  },
  {
   "cell_type": "code",
   "execution_count": 16,
   "id": "7b861391",
   "metadata": {
    "trusted": false
   },
   "outputs": [
    {
     "name": "stdout",
     "output_type": "stream",
     "text": [
      "0\n"
     ]
    }
   ],
   "source": [
    "# Double check for any other tricky duplicates\n",
    "print(order_products.duplicated(subset=['product_id', 'order_id'], keep = False).sum())"
   ]
  },
  {
   "cell_type": "markdown",
   "id": "d576b0d5",
   "metadata": {},
   "source": [
    "<div class=\"alert alert-block alert-success\">\n",
    "<div class style=color:black> \n",
    "<b>Code Comments:</b> The thought process here is that since there are 2 main identifier columns in 'order_id' and 'product_id', we need to just check if there are any duplicates where both order_id and product_id are exactly the same. When checked for this, the result is 0. So there are no tricky duplicates here."
   ]
  },
  {
   "cell_type": "markdown",
   "id": "1e46de76",
   "metadata": {},
   "source": [
    "###  Task 2: Find and remove missing values\n"
   ]
  },
  {
   "cell_type": "markdown",
   "id": "c0aebd78",
   "metadata": {},
   "source": [
    "### `products` data frame"
   ]
  },
  {
   "cell_type": "code",
   "execution_count": 17,
   "id": "fe4a8b0f",
   "metadata": {
    "trusted": false
   },
   "outputs": [
    {
     "name": "stdout",
     "output_type": "stream",
     "text": [
      "<class 'pandas.core.frame.DataFrame'>\n",
      "RangeIndex: 49694 entries, 0 to 49693\n",
      "Data columns (total 4 columns):\n",
      " #   Column         Non-Null Count  Dtype \n",
      "---  ------         --------------  ----- \n",
      " 0   product_id     49694 non-null  int64 \n",
      " 1   product_name   48436 non-null  object\n",
      " 2   aisle_id       49694 non-null  int64 \n",
      " 3   department_id  49694 non-null  int64 \n",
      "dtypes: int64(3), object(1)\n",
      "memory usage: 1.5+ MB\n"
     ]
    }
   ],
   "source": [
    "products.info()"
   ]
  },
  {
   "cell_type": "code",
   "execution_count": null,
   "id": "e96167bc",
   "metadata": {
    "trusted": false
   },
   "outputs": [
    {
     "name": "stdout",
     "output_type": "stream",
     "text": [
      "[100]\n"
     ]
    }
   ],
   "source": [
    "# Check for missing values associated with aisle_id\n",
    "missing_products = products[products['product_name'].isna()]\n",
    "print(missing_products['aisle_id'].unique())"
   ]
  },
  {
   "cell_type": "code",
   "execution_count": null,
   "id": "8fd0a541",
   "metadata": {
    "trusted": false
   },
   "outputs": [
    {
     "name": "stdout",
     "output_type": "stream",
     "text": [
      "[21]\n"
     ]
    }
   ],
   "source": [
    "# Check for missing values associated with department_id\n",
    "missing_products = products[products['product_name'].isna()]\n",
    "print(missing_products['department_id'].unique())"
   ]
  },
  {
   "cell_type": "code",
   "execution_count": 20,
   "id": "325c3464",
   "metadata": {
    "trusted": false
   },
   "outputs": [
    {
     "name": "stdout",
     "output_type": "stream",
     "text": [
      "    aisle_id    aisle\n",
      "99       100  missing\n",
      "\n",
      "    department_id department\n",
      "20             21    missing\n"
     ]
    }
   ],
   "source": [
    "# What is this ailse and department?\n",
    "print(aisles[aisles['aisle_id'] == 100])\n",
    "print()\n",
    "print(departments[departments['department_id'] == 21])\n"
   ]
  },
  {
   "cell_type": "code",
   "execution_count": 21,
   "id": "6b295120",
   "metadata": {
    "trusted": false
   },
   "outputs": [
    {
     "name": "stdout",
     "output_type": "stream",
     "text": [
      "<class 'pandas.core.frame.DataFrame'>\n",
      "RangeIndex: 49694 entries, 0 to 49693\n",
      "Data columns (total 4 columns):\n",
      " #   Column         Non-Null Count  Dtype \n",
      "---  ------         --------------  ----- \n",
      " 0   product_id     49694 non-null  int64 \n",
      " 1   product_name   49694 non-null  object\n",
      " 2   aisle_id       49694 non-null  int64 \n",
      " 3   department_id  49694 non-null  int64 \n",
      "dtypes: int64(3), object(1)\n",
      "memory usage: 1.5+ MB\n"
     ]
    }
   ],
   "source": [
    "# Fill missing product names with 'Unknown'\n",
    "products['product_name'] = products['product_name'].fillna('Unknown')\n",
    "products.info()"
   ]
  },
  {
   "cell_type": "markdown",
   "id": "828e8f4a",
   "metadata": {},
   "source": [
    "<div class=\"alert alert-block alert-success\">\n",
    "<div class style=color:black> \n",
    "<b>Code Comments:</b> By using products.info() I can see all the columns within the products df and the null values within each column. Luckily we only have 1 column 'product_name' with the missing values. Additionally, I found that all the Missing Values for product_name were associated with asisle_id = 100 and department_id = 21. An important factor to consider in EDA is what to do with entries that have missing values. In this case, I updated all missing values in the products to 'Unknown', instead of simply deleting these values."
   ]
  },
  {
   "cell_type": "markdown",
   "id": "7eb45c86",
   "metadata": {},
   "source": [
    "### `orders` data frame"
   ]
  },
  {
   "cell_type": "code",
   "execution_count": 22,
   "id": "93e41d96",
   "metadata": {
    "trusted": false
   },
   "outputs": [
    {
     "data": {
      "text/plain": [
       "order_id                      0\n",
       "user_id                       0\n",
       "order_number                  0\n",
       "order_dow                     0\n",
       "order_hour_of_day             0\n",
       "days_since_prior_order    28817\n",
       "dtype: int64"
      ]
     },
     "execution_count": 22,
     "metadata": {},
     "output_type": "execute_result"
    }
   ],
   "source": [
    "instacart_orders.isna().sum()"
   ]
  },
  {
   "cell_type": "code",
   "execution_count": 23,
   "id": "166e5a86",
   "metadata": {
    "trusted": false
   },
   "outputs": [
    {
     "name": "stdout",
     "output_type": "stream",
     "text": [
      "order_id                      0\n",
      "user_id                       0\n",
      "order_number                  0\n",
      "order_dow                     0\n",
      "order_hour_of_day             0\n",
      "days_since_prior_order    28817\n",
      "dtype: int64\n",
      "\n",
      "order_id                  0\n",
      "user_id                   0\n",
      "order_number              0\n",
      "order_dow                 0\n",
      "order_hour_of_day         0\n",
      "days_since_prior_order    0\n",
      "dtype: int64\n"
     ]
    }
   ],
   "source": [
    "# Are there any missing values where it's not a customer's first order\n",
    "first_orders = instacart_orders[instacart_orders['order_number'] == 1]\n",
    "repeat_orders = instacart_orders[instacart_orders['order_number'] > 1]\n",
    "print(first_orders.isna().sum())\n",
    "print()\n",
    "print(repeat_orders.isna().sum())"
   ]
  },
  {
   "cell_type": "markdown",
   "id": "dfa50776",
   "metadata": {},
   "source": [
    "<div class=\"alert alert-block alert-success\">\n",
    "<div class style=color:black> \n",
    "<b>Code Comments:</b>\n",
    "In order to check whether missing values occur in first orders or repeat orders, I created a dataframe called first_orders (instacart_orders with order_number = 1) and a dataframe called repeat_orders (instacart_orders with order_number greater than 1), indicating a customer's 2nd or more order. Then I checked for null values in both first_orders and repeat_orders dataframes, using df.isna().sum(). From the results, we see that there 28,817 null values in the first_orders dataframe in the 'days_since_prior_order' column. Whereas, the repeat_orders dataframe shows 0 null values all across the columns. As such, all null values occur with customer's first orders and never in a customer's repeat orders."
   ]
  },
  {
   "cell_type": "markdown",
   "id": "69dc9ca4",
   "metadata": {},
   "source": [
    "### `order_products` data frame"
   ]
  },
  {
   "cell_type": "code",
   "execution_count": 24,
   "id": "b8240253",
   "metadata": {
    "trusted": false
   },
   "outputs": [
    {
     "data": {
      "text/plain": [
       "order_id               0\n",
       "product_id             0\n",
       "add_to_cart_order    836\n",
       "reordered              0\n",
       "dtype: int64"
      ]
     },
     "execution_count": 24,
     "metadata": {},
     "output_type": "execute_result"
    }
   ],
   "source": [
    "order_products.isna().sum()"
   ]
  },
  {
   "cell_type": "code",
   "execution_count": 25,
   "id": "9a78e5ee",
   "metadata": {
    "trusted": false
   },
   "outputs": [
    {
     "name": "stdout",
     "output_type": "stream",
     "text": [
      "1.0 64.0\n"
     ]
    }
   ],
   "source": [
    "# What are the min and max values in this column?\n",
    "min, max = order_products['add_to_cart_order'].agg(['min', 'max'])\n",
    "print(min, max)"
   ]
  },
  {
   "cell_type": "code",
   "execution_count": 26,
   "id": "ab9d0c2b",
   "metadata": {
    "trusted": false
   },
   "outputs": [
    {
     "name": "stdout",
     "output_type": "stream",
     "text": [
      "[2449164 1968313 2926893 1717990 1959075  844733   61355  936852  264710\n",
      " 1564093  129627  293169 2849370 1386261 3308010  903110 2136777 3347453\n",
      " 1888628  165801 2094761 1038146 2997021  813364 2256933  171934 2409109\n",
      " 1730767 1169835  733526  404157 3125735  747668 1800005 1961723  871281\n",
      "  388234 1648217 1477139  102236 1021563 1832957 2721963  678116 1220886\n",
      " 1673227 2999801 1633337 2470674 2625444 1677118 2479011 3383594 1183255\n",
      " 1713430 2652650 1598369 1916118  854647 1302315  888470  180546 2621907\n",
      " 1308785 2729254    9310 2170451 2979697 1625713 1529171]\n"
     ]
    }
   ],
   "source": [
    "# Save all order IDs with at least one missing value in 'add_to_cart_order'\n",
    "orders_missing_values = order_products[order_products['add_to_cart_order'].isna()]\n",
    "print(orders_missing_values['order_id'].unique())"
   ]
  },
  {
   "cell_type": "code",
   "execution_count": 27,
   "id": "54c31695",
   "metadata": {
    "trusted": false
   },
   "outputs": [
    {
     "name": "stdout",
     "output_type": "stream",
     "text": [
      "order_id\n",
      "61355      63\n",
      "3308010    51\n",
      "2136777    44\n",
      "171934     40\n",
      "1959075    34\n",
      "           ..\n",
      "888470      1\n",
      "1598369     1\n",
      "747668      1\n",
      "1677118     1\n",
      "9310        1\n",
      "Name: product_id, Length: 70, dtype: int64\n"
     ]
    }
   ],
   "source": [
    "# Do all orders with missing values have more than 64 products?\n",
    "print(orders_missing_values.groupby('order_id')['product_id'].count().sort_values(ascending = False))\n",
    "\n",
    "## No, none of the orders with missing values have more than 64 products as the maximum value is only 63 for 1 order_id."
   ]
  },
  {
   "cell_type": "code",
   "execution_count": 28,
   "id": "7a987d08",
   "metadata": {
    "trusted": false
   },
   "outputs": [
    {
     "data": {
      "text/plain": [
       "order_id             0\n",
       "product_id           0\n",
       "add_to_cart_order    0\n",
       "reordered            0\n",
       "dtype: int64"
      ]
     },
     "execution_count": 28,
     "metadata": {},
     "output_type": "execute_result"
    }
   ],
   "source": [
    "# Replace missing values with 999 and convert column to integer type\n",
    "order_products['add_to_cart_order'] = order_products['add_to_cart_order'].fillna(999).astype(int)\n",
    "order_products.isna().sum()"
   ]
  },
  {
   "cell_type": "markdown",
   "id": "b6482a97",
   "metadata": {},
   "source": [
    "<div class=\"alert alert-block alert-success\">\n",
    "<div class style=color:black> \n",
    "<b>Code Comments:</b>\n",
    "I found the null values in order_products dataframe with df.isna().sum(), which showed there are null values in 'add_to_cart_order' column. Then I found min and max for that column to be 1 and 64. Then I created a new dataframe called orders_missing_value for all the records where 'add_to_cart_order' column was null. Then I applied the .unique() method to the 'order_id' column of this dataframe to get all distinct order IDs with at least one missing value in 'add_to_cart_order'. Next to answer the question, do all orders with missing values have more tha 64 products? I did the following: I took the orders_missing_values df and grouped by Order_Id then I used the count() function on the 'product_id' column to yield total products per order_id. Then I sorted by descending order to see the maximum value of products. This showed the max value of the product is 63. So the answer, is No, None of the orders with missing values have more than 64 products. Finally, I replaced the missing values in 'add_to_cart_order' with 999, converted to integer type and verified for null values using df.isna().sum()."
   ]
  },
  {
   "cell_type": "markdown",
   "id": "short-capability",
   "metadata": {},
   "source": [
    "### Task 3a: Verify that the `'order_hour_of_day'` ranges from 0 to 23, and the `'order_dow'` values range from 0 to 6, in the `orders` tables."
   ]
  },
  {
   "cell_type": "code",
   "execution_count": 29,
   "id": "growing-fruit",
   "metadata": {
    "trusted": false
   },
   "outputs": [
    {
     "data": {
      "text/plain": [
       "order_id                      0\n",
       "user_id                       0\n",
       "order_number                  0\n",
       "order_dow                     0\n",
       "order_hour_of_day             0\n",
       "days_since_prior_order    28817\n",
       "dtype: int64"
      ]
     },
     "execution_count": 29,
     "metadata": {},
     "output_type": "execute_result"
    }
   ],
   "source": [
    "instacart_orders.isna().sum()"
   ]
  },
  {
   "cell_type": "code",
   "execution_count": 30,
   "id": "accessory-malaysia",
   "metadata": {
    "trusted": false
   },
   "outputs": [
    {
     "name": "stdout",
     "output_type": "stream",
     "text": [
      "[ 0  1  2  3  4  5  6  7  8  9 10 11 12 13 14 15 16 17 18 19 20 21 22 23]\n",
      "\n",
      "[0 1 2 3 4 5 6]\n"
     ]
    }
   ],
   "source": [
    "print(instacart_orders['order_hour_of_day'].sort_values().unique())\n",
    "print()\n",
    "print(instacart_orders['order_dow'].sort_values().unique())"
   ]
  },
  {
   "cell_type": "markdown",
   "id": "c8ca0c3f",
   "metadata": {},
   "source": [
    "<div class=\"alert alert-block alert-success\">\n",
    "<div class style=color:black> \n",
    "<b>Code Comments:</b>\n",
    "I verified that there were no null values in the columns of order_hour_of_day and order_dow and then used .unique() to check if both columns were in their appropriate range. They are both sensible and within range"
   ]
  },
  {
   "cell_type": "markdown",
   "id": "a6743a70",
   "metadata": {},
   "source": [
    "### Task 3b: What time of day do people shop for groceries?"
   ]
  },
  {
   "cell_type": "code",
   "execution_count": 31,
   "id": "a36cca27",
   "metadata": {
    "trusted": false
   },
   "outputs": [
    {
     "data": {
      "image/png": "[encoded data removed]",
      "text/plain": [
       "<Figure size 640x480 with 1 Axes>"
      ]
     },
     "metadata": {},
     "output_type": "display_data"
    }
   ],
   "source": [
    "number_of_orders = instacart_orders['order_hour_of_day'].value_counts()\n",
    "number_of_orders.plot(x = 'order_hour_of_day', xlabel = 'hour_of_day', ylabel = 'number_of_orders', rot = 0, kind = 'bar')\n",
    "plt.show()"
   ]
  },
  {
   "cell_type": "code",
   "execution_count": 3,
   "id": "0d44de5d",
   "metadata": {
    "trusted": false
   },
   "outputs": [
    {
     "name": "stdout",
     "output_type": "stream",
     "text": [
      "        order_id  user_id  order_number  order_dow  order_hour_of_day  \\\n",
      "4838     2766110   162084            41          3                  2   \n",
      "5156     2190225   138285            18          3                  2   \n",
      "15506     553049    58599            13          3                  2   \n",
      "18420     382357   120200            19          3                  2   \n",
      "24691     690242    77357             2          3                  2   \n",
      "...          ...      ...           ...        ...                ...   \n",
      "457013   3384021    14881             6          3                  2   \n",
      "458816    910166   164782            18          3                  2   \n",
      "459635   1680532   106435             6          3                  2   \n",
      "468324    222962    54979            59          3                  2   \n",
      "477526   2592344    46860            38          3                  2   \n",
      "\n",
      "        days_since_prior_order  \n",
      "4838                      16.0  \n",
      "5156                      11.0  \n",
      "15506                      7.0  \n",
      "18420                     11.0  \n",
      "24691                      9.0  \n",
      "...                        ...  \n",
      "457013                    30.0  \n",
      "458816                     4.0  \n",
      "459635                    21.0  \n",
      "468324                     3.0  \n",
      "477526                     3.0  \n",
      "\n",
      "[121 rows x 6 columns]\n"
     ]
    }
   ],
   "source": [
    "# Check for all orders placed Wednesday at 2:00 AM\n",
    "print(instacart_orders[(instacart_orders['order_dow'] == 3) & (instacart_orders['order_hour_of_day'] == 2)])"
   ]
  },
  {
   "cell_type": "markdown",
   "id": "7e2140da",
   "metadata": {},
   "source": [
    "<div class=\"alert alert-block alert-success\">\n",
    "<div class style=color:black> \n",
    "<b>Code Comments:</b> \n",
    "To visualize how the time of day affects customer's shopping habits, I used value_counts to total the number of orders submitted for each hour of the day and then plotted this using a bar graph and sorted by highest number of orders. From the graph, we see 10am and 11am are the most preferred time slots for customers to buy groceries, followed by the afternoon window from noon-4pm. The hours when least number of customers shop for groceries are between midnight and 4am, which makes sense as most people are sleeping at this time unless they work night-shift."
   ]
  },
  {
   "cell_type": "markdown",
   "id": "documented-command",
   "metadata": {},
   "source": [
    "### Task 3c: What day of the week do people shop for groceries?"
   ]
  },
  {
   "cell_type": "code",
   "execution_count": 32,
   "id": "chief-digit",
   "metadata": {
    "trusted": false
   },
   "outputs": [
    {
     "data": {
      "image/png": "[encoded data removed]",
      "text/plain": [
       "<Figure size 640x480 with 1 Axes>"
      ]
     },
     "metadata": {},
     "output_type": "display_data"
    }
   ],
   "source": [
    "number_of_orders = instacart_orders['order_dow'].value_counts()\n",
    "number_of_orders.plot(x = 'order_dow', xlabel = 'day_of_week', ylabel = 'number_of_orders', rot = 0, kind = 'bar')\n",
    "plt.show()"
   ]
  },
  {
   "cell_type": "markdown",
   "id": "dominant-lightning",
   "metadata": {},
   "source": [
    "<div class=\"alert alert-block alert-success\">\n",
    "<div class style=color:black> \n",
    "<b>Code Comments:</b> \n",
    "Applying the same logic as the previous question, we can build a bar graph to visualize how days of the week affect customer's shopping habits. Here we see that Sunday (day=0) is the most popular day for Instacart Orders, followed by Monday, whereas the rest of the days are pretty much constant but certainly less than Sunday and Monday. Intuitively it makes sense that the most popular day would be Sunday."
   ]
  },
  {
   "cell_type": "markdown",
   "id": "cutting-concert",
   "metadata": {},
   "source": [
    "### Task 3d: How long do people wait until placing another order?"
   ]
  },
  {
   "cell_type": "code",
   "execution_count": 33,
   "id": "c231f523",
   "metadata": {
    "trusted": false
   },
   "outputs": [
    {
     "data": {
      "image/png": "[encoded data removed]",
      "text/plain": [
       "<Figure size 1500x500 with 1 Axes>"
      ]
     },
     "metadata": {},
     "output_type": "display_data"
    }
   ],
   "source": [
    "count = instacart_orders['days_since_prior_order'].value_counts()\n",
    "count.plot(title = 'wait time until next order', x = 'days_since_prior_order', \n",
    "                      xlabel = 'days_since_prior_order', ylabel = 'count', \n",
    "                      rot = 0, kind = 'bar', figsize = [15,5])\n",
    "plt.show()"
   ]
  },
  {
   "cell_type": "code",
   "execution_count": 34,
   "id": "exciting-fantasy",
   "metadata": {
    "trusted": false
   },
   "outputs": [
    {
     "name": "stdout",
     "output_type": "stream",
     "text": [
      "30.0    51337\n",
      "Name: days_since_prior_order, dtype: int64\n",
      "26.0    2640\n",
      "Name: days_since_prior_order, dtype: int64\n"
     ]
    }
   ],
   "source": [
    "print(count[count== count.max()])\n",
    "print(count[count== count.min()])"
   ]
  },
  {
   "cell_type": "markdown",
   "id": "be803c02",
   "metadata": {},
   "source": [
    "<div class=\"alert alert-block alert-success\">\n",
    "<div class style=color:black> \n",
    "<b>Code Comments:</b>\n",
    "Applying Value Counts on the 'days_since_prior_order column, sorting the data and plotting it on a bar graph, we can see that most of the repeat orders come at least 30 days post the first order. This makes sense as there may be a lot of customers that order on a monthly basis (perhaphs subscriptions). Futhermore, the 2nd max time is 7 days, which adds support to the reasoning behind 30 days as there are many customer's who tend to do a weekly order or subscription as well. Some of the least days between orders occur between 22 and 29 as these are somewhat odd days and suggests these are manual one-offs rather than repeats/subscriptions."
   ]
  },
  {
   "cell_type": "markdown",
   "id": "packed-classic",
   "metadata": {},
   "source": [
    "### Task 4a: Is there a difference in `'order_hour_of_day'` distributions on Wednesdays and Saturdays? Plot the histograms and describe the differences."
   ]
  },
  {
   "cell_type": "code",
   "execution_count": 35,
   "id": "d89b8403",
   "metadata": {
    "trusted": false
   },
   "outputs": [
    {
     "data": {
      "text/plain": [
       "<matplotlib.legend.Legend at 0x7ff5d4517d60>"
      ]
     },
     "execution_count": 35,
     "metadata": {},
     "output_type": "execute_result"
    },
    {
     "data": {
      "image/png": "[encoded data removed]",
      "text/plain": [
       "<Figure size 640x480 with 1 Axes>"
      ]
     },
     "metadata": {},
     "output_type": "display_data"
    }
   ],
   "source": [
    "wed_orders = instacart_orders[instacart_orders['order_dow'] == 3]\n",
    "sat_orders = instacart_orders[instacart_orders['order_dow'] == 6]\n",
    "plt.hist(wed_orders['order_hour_of_day'],bins = 24, color = 'yellow', edgecolor='black', alpha = 0.2, label = 'Wednesday')\n",
    "plt.hist(sat_orders['order_hour_of_day'],bins = 24, color = 'blue', edgecolor='black', alpha = 0.2, label = 'Saturday')\n",
    "plt.xlabel('Hours')\n",
    "plt.ylabel('Number of orders')\n",
    "plt.title('Hourly Distributions: Wednesday vs Saturday')\n",
    "plt.xlim([0,24])\n",
    "plt.legend()"
   ]
  },
  {
   "cell_type": "markdown",
   "id": "e1a5ce7d",
   "metadata": {},
   "source": [
    "<div class=\"alert alert-block alert-success\">\n",
    "<div class style=color:black> \n",
    "<b>Code Comments:</b>\n",
    "As per the graph above, we can see that the hourly distributions of orders received on Wednesdays vs Saturdays are similar but with some differences as well:\n",
    "\n",
    "\n",
    "- Early morning window on Wednesday may see more orders than on Saturdays, which makes sense as Wednesday is a school/working day.\n",
    "- Conversely, Saturday late night window sees a greater peak in orders than on Wednesdays since people sleep earlier on Wednesdays being that is a school/work night.\n",
    "- Lastly, during lunch hours (12-2) it seems like on Saturdays the peak is greater since lunch is more relaxed; however, on Wednesdays the peaks fall right before and after the lunch window, seeing that lunch time may be limited on a work day, so customers may want to order before lunch begins or immediately after it ends.\n",
    "- Overall the distributions are very similar as they rise early morning, peak between 11am-3pm, then fall down into the night."
   ]
  },
  {
   "cell_type": "markdown",
   "id": "e3891143",
   "metadata": {},
   "source": [
    "### Task 4b: What's the distribution for the number of orders per customer?"
   ]
  },
  {
   "cell_type": "code",
   "execution_count": 36,
   "id": "d8c26c23",
   "metadata": {
    "scrolled": true,
    "trusted": false
   },
   "outputs": [],
   "source": [
    "orders_per_customer = instacart_orders.groupby('user_id')['order_id'].count()"
   ]
  },
  {
   "cell_type": "code",
   "execution_count": 37,
   "id": "0da0acf1",
   "metadata": {
    "trusted": false
   },
   "outputs": [
    {
     "data": {
      "image/png": "[encoded data removed]",
      "text/plain": [
       "<Figure size 640x480 with 1 Axes>"
      ]
     },
     "metadata": {},
     "output_type": "display_data"
    }
   ],
   "source": [
    "orders_per_customer.plot(kind = 'hist', bins = 30, title = 'Distribution of Number of Order per Customer')\n",
    "plt.xlabel('Number of Orders')\n",
    "plt.ylabel('Number of Customers')\n",
    "plt.show()"
   ]
  },
  {
   "cell_type": "markdown",
   "id": "d2eff7d5",
   "metadata": {},
   "source": [
    "<div class=\"alert alert-block alert-success\">\n",
    "<div class style=color:black> \n",
    "<b>Code Comments:</b>\n",
    "Using a histogram, we can plot the distribution of number of orders per customer and we can conclude that the majority of the customers only order once or twice. The number of customers with more than 10 orders is very low margin. The general trend is the most people make very few orders and a few people make a lot of orders. This is very useful information for a company for understanding their customer base. This allows them to market differently to those who only order once by providing some incentives like discounts on their next purchase. Additionally, the can identify and acknowledge the customers that have lots of orders by giving them rewards or other forms of recognition."
   ]
  },
  {
   "cell_type": "markdown",
   "id": "54a0319c",
   "metadata": {},
   "source": [
    "### Task 4c: What are the top 20 popular products (display their id and name)?"
   ]
  },
  {
   "cell_type": "code",
   "execution_count": 38,
   "id": "exterior-arizona",
   "metadata": {
    "scrolled": true,
    "trusted": false
   },
   "outputs": [
    {
     "data": {
      "text/html": [
       "<div>\n",
       "<style scoped>\n",
       "    .dataframe tbody tr th:only-of-type {\n",
       "        vertical-align: middle;\n",
       "    }\n",
       "\n",
       "    .dataframe tbody tr th {\n",
       "        vertical-align: top;\n",
       "    }\n",
       "\n",
       "    .dataframe thead th {\n",
       "        text-align: right;\n",
       "    }\n",
       "</style>\n",
       "<table border=\"1\" class=\"dataframe\">\n",
       "  <thead>\n",
       "    <tr style=\"text-align: right;\">\n",
       "      <th></th>\n",
       "      <th>product_id</th>\n",
       "      <th>order_id</th>\n",
       "    </tr>\n",
       "  </thead>\n",
       "  <tbody>\n",
       "    <tr>\n",
       "      <th>22808</th>\n",
       "      <td>24852</td>\n",
       "      <td>66050</td>\n",
       "    </tr>\n",
       "    <tr>\n",
       "      <th>12025</th>\n",
       "      <td>13176</td>\n",
       "      <td>53297</td>\n",
       "    </tr>\n",
       "    <tr>\n",
       "      <th>19370</th>\n",
       "      <td>21137</td>\n",
       "      <td>37039</td>\n",
       "    </tr>\n",
       "    <tr>\n",
       "      <th>20077</th>\n",
       "      <td>21903</td>\n",
       "      <td>33971</td>\n",
       "    </tr>\n",
       "    <tr>\n",
       "      <th>43271</th>\n",
       "      <td>47209</td>\n",
       "      <td>29773</td>\n",
       "    </tr>\n",
       "    <tr>\n",
       "      <th>43788</th>\n",
       "      <td>47766</td>\n",
       "      <td>24689</td>\n",
       "    </tr>\n",
       "    <tr>\n",
       "      <th>43663</th>\n",
       "      <td>47626</td>\n",
       "      <td>21495</td>\n",
       "    </tr>\n",
       "    <tr>\n",
       "      <th>15364</th>\n",
       "      <td>16797</td>\n",
       "      <td>20018</td>\n",
       "    </tr>\n",
       "    <tr>\n",
       "      <th>24047</th>\n",
       "      <td>26209</td>\n",
       "      <td>19690</td>\n",
       "    </tr>\n",
       "    <tr>\n",
       "      <th>25556</th>\n",
       "      <td>27845</td>\n",
       "      <td>19600</td>\n",
       "    </tr>\n",
       "    <tr>\n",
       "      <th>25666</th>\n",
       "      <td>27966</td>\n",
       "      <td>19197</td>\n",
       "    </tr>\n",
       "    <tr>\n",
       "      <th>21025</th>\n",
       "      <td>22935</td>\n",
       "      <td>15898</td>\n",
       "    </tr>\n",
       "    <tr>\n",
       "      <th>22908</th>\n",
       "      <td>24964</td>\n",
       "      <td>15292</td>\n",
       "    </tr>\n",
       "    <tr>\n",
       "      <th>41244</th>\n",
       "      <td>45007</td>\n",
       "      <td>14584</td>\n",
       "    </tr>\n",
       "    <tr>\n",
       "      <th>35996</th>\n",
       "      <td>39275</td>\n",
       "      <td>13879</td>\n",
       "    </tr>\n",
       "    <tr>\n",
       "      <th>45561</th>\n",
       "      <td>49683</td>\n",
       "      <td>13675</td>\n",
       "    </tr>\n",
       "    <tr>\n",
       "      <th>25889</th>\n",
       "      <td>28204</td>\n",
       "      <td>12544</td>\n",
       "    </tr>\n",
       "    <tr>\n",
       "      <th>5375</th>\n",
       "      <td>5876</td>\n",
       "      <td>12232</td>\n",
       "    </tr>\n",
       "    <tr>\n",
       "      <th>7543</th>\n",
       "      <td>8277</td>\n",
       "      <td>11993</td>\n",
       "    </tr>\n",
       "    <tr>\n",
       "      <th>37301</th>\n",
       "      <td>40706</td>\n",
       "      <td>11781</td>\n",
       "    </tr>\n",
       "  </tbody>\n",
       "</table>\n",
       "</div>"
      ],
      "text/plain": [
       "       product_id  order_id\n",
       "22808       24852     66050\n",
       "12025       13176     53297\n",
       "19370       21137     37039\n",
       "20077       21903     33971\n",
       "43271       47209     29773\n",
       "43788       47766     24689\n",
       "43663       47626     21495\n",
       "15364       16797     20018\n",
       "24047       26209     19690\n",
       "25556       27845     19600\n",
       "25666       27966     19197\n",
       "21025       22935     15898\n",
       "22908       24964     15292\n",
       "41244       45007     14584\n",
       "35996       39275     13879\n",
       "45561       49683     13675\n",
       "25889       28204     12544\n",
       "5375         5876     12232\n",
       "7543         8277     11993\n",
       "37301       40706     11781"
      ]
     },
     "execution_count": 38,
     "metadata": {},
     "output_type": "execute_result"
    }
   ],
   "source": [
    "popular_products = order_products.groupby('product_id')['order_id'].count().reset_index().sort_values(by= 'order_id', ascending = False)\n",
    "top_20 = popular_products.head(20)\n",
    "top_20"
   ]
  },
  {
   "cell_type": "code",
   "execution_count": 39,
   "id": "universal-facial",
   "metadata": {
    "trusted": false
   },
   "outputs": [
    {
     "data": {
      "text/html": [
       "<div>\n",
       "<style scoped>\n",
       "    .dataframe tbody tr th:only-of-type {\n",
       "        vertical-align: middle;\n",
       "    }\n",
       "\n",
       "    .dataframe tbody tr th {\n",
       "        vertical-align: top;\n",
       "    }\n",
       "\n",
       "    .dataframe thead th {\n",
       "        text-align: right;\n",
       "    }\n",
       "</style>\n",
       "<table border=\"1\" class=\"dataframe\">\n",
       "  <thead>\n",
       "    <tr style=\"text-align: right;\">\n",
       "      <th></th>\n",
       "      <th>product_id</th>\n",
       "      <th>product_name</th>\n",
       "      <th>order_id</th>\n",
       "    </tr>\n",
       "  </thead>\n",
       "  <tbody>\n",
       "    <tr>\n",
       "      <th>0</th>\n",
       "      <td>24852</td>\n",
       "      <td>banana</td>\n",
       "      <td>66050</td>\n",
       "    </tr>\n",
       "    <tr>\n",
       "      <th>1</th>\n",
       "      <td>13176</td>\n",
       "      <td>bag of organic bananas</td>\n",
       "      <td>53297</td>\n",
       "    </tr>\n",
       "    <tr>\n",
       "      <th>2</th>\n",
       "      <td>21137</td>\n",
       "      <td>organic strawberries</td>\n",
       "      <td>37039</td>\n",
       "    </tr>\n",
       "    <tr>\n",
       "      <th>3</th>\n",
       "      <td>21903</td>\n",
       "      <td>organic baby spinach</td>\n",
       "      <td>33971</td>\n",
       "    </tr>\n",
       "    <tr>\n",
       "      <th>4</th>\n",
       "      <td>47209</td>\n",
       "      <td>organic hass avocado</td>\n",
       "      <td>29773</td>\n",
       "    </tr>\n",
       "    <tr>\n",
       "      <th>5</th>\n",
       "      <td>47766</td>\n",
       "      <td>organic avocado</td>\n",
       "      <td>24689</td>\n",
       "    </tr>\n",
       "    <tr>\n",
       "      <th>6</th>\n",
       "      <td>47626</td>\n",
       "      <td>large lemon</td>\n",
       "      <td>21495</td>\n",
       "    </tr>\n",
       "    <tr>\n",
       "      <th>7</th>\n",
       "      <td>16797</td>\n",
       "      <td>strawberries</td>\n",
       "      <td>20018</td>\n",
       "    </tr>\n",
       "    <tr>\n",
       "      <th>8</th>\n",
       "      <td>26209</td>\n",
       "      <td>limes</td>\n",
       "      <td>19690</td>\n",
       "    </tr>\n",
       "    <tr>\n",
       "      <th>9</th>\n",
       "      <td>27845</td>\n",
       "      <td>organic whole milk</td>\n",
       "      <td>19600</td>\n",
       "    </tr>\n",
       "    <tr>\n",
       "      <th>10</th>\n",
       "      <td>27966</td>\n",
       "      <td>organic raspberries</td>\n",
       "      <td>19197</td>\n",
       "    </tr>\n",
       "    <tr>\n",
       "      <th>11</th>\n",
       "      <td>22935</td>\n",
       "      <td>organic yellow onion</td>\n",
       "      <td>15898</td>\n",
       "    </tr>\n",
       "    <tr>\n",
       "      <th>12</th>\n",
       "      <td>24964</td>\n",
       "      <td>organic garlic</td>\n",
       "      <td>15292</td>\n",
       "    </tr>\n",
       "    <tr>\n",
       "      <th>13</th>\n",
       "      <td>45007</td>\n",
       "      <td>organic zucchini</td>\n",
       "      <td>14584</td>\n",
       "    </tr>\n",
       "    <tr>\n",
       "      <th>14</th>\n",
       "      <td>39275</td>\n",
       "      <td>organic blueberries</td>\n",
       "      <td>13879</td>\n",
       "    </tr>\n",
       "    <tr>\n",
       "      <th>15</th>\n",
       "      <td>49683</td>\n",
       "      <td>cucumber kirby</td>\n",
       "      <td>13675</td>\n",
       "    </tr>\n",
       "    <tr>\n",
       "      <th>16</th>\n",
       "      <td>28204</td>\n",
       "      <td>organic fuji apple</td>\n",
       "      <td>12544</td>\n",
       "    </tr>\n",
       "    <tr>\n",
       "      <th>17</th>\n",
       "      <td>5876</td>\n",
       "      <td>organic lemon</td>\n",
       "      <td>12232</td>\n",
       "    </tr>\n",
       "    <tr>\n",
       "      <th>18</th>\n",
       "      <td>8277</td>\n",
       "      <td>apple honeycrisp organic</td>\n",
       "      <td>11993</td>\n",
       "    </tr>\n",
       "    <tr>\n",
       "      <th>19</th>\n",
       "      <td>40706</td>\n",
       "      <td>organic grape tomatoes</td>\n",
       "      <td>11781</td>\n",
       "    </tr>\n",
       "  </tbody>\n",
       "</table>\n",
       "</div>"
      ],
      "text/plain": [
       "    product_id              product_name  order_id\n",
       "0        24852                    banana     66050\n",
       "1        13176    bag of organic bananas     53297\n",
       "2        21137      organic strawberries     37039\n",
       "3        21903      organic baby spinach     33971\n",
       "4        47209      organic hass avocado     29773\n",
       "5        47766           organic avocado     24689\n",
       "6        47626               large lemon     21495\n",
       "7        16797              strawberries     20018\n",
       "8        26209                     limes     19690\n",
       "9        27845        organic whole milk     19600\n",
       "10       27966       organic raspberries     19197\n",
       "11       22935      organic yellow onion     15898\n",
       "12       24964            organic garlic     15292\n",
       "13       45007          organic zucchini     14584\n",
       "14       39275       organic blueberries     13879\n",
       "15       49683            cucumber kirby     13675\n",
       "16       28204        organic fuji apple     12544\n",
       "17        5876             organic lemon     12232\n",
       "18        8277  apple honeycrisp organic     11993\n",
       "19       40706    organic grape tomatoes     11781"
      ]
     },
     "execution_count": 39,
     "metadata": {},
     "output_type": "execute_result"
    }
   ],
   "source": [
    "top_20 = top_20.merge(products, on = 'product_id', how = 'inner')\n",
    "top_20[['product_id', 'product_name', 'order_id']]"
   ]
  },
  {
   "cell_type": "markdown",
   "id": "fb762280",
   "metadata": {},
   "source": [
    "<div class=\"alert alert-block alert-success\">\n",
    "<div class style=color:black> \n",
    "<b>Code Comments:</b>\n",
    "To identify the top 20 most frequenely ordered products, I started by first grouping the entries by product_id and order_id and then applying count on each to get a total number of orders per product. I sorted it from most to least and limited the list to 20 most ordered products. Since we want the name of the product as well, I needed to merge the products dataset onto this new list of top20 that I created. I applied the inner merge to retain only data matching on both datasets. Compiling this list we see the top 20 most ordered products and the most ordered is bananas."
   ]
  },
  {
   "cell_type": "markdown",
   "id": "1e78175b",
   "metadata": {},
   "source": [
    "### Task 5a: How many items do people typically buy in one order? What does the distribution look like?"
   ]
  },
  {
   "cell_type": "code",
   "execution_count": 40,
   "id": "virtual-punch",
   "metadata": {
    "scrolled": true,
    "trusted": false
   },
   "outputs": [
    {
     "data": {
      "image/png": "[encoded data removed]",
      "text/plain": [
       "<Figure size 640x480 with 1 Axes>"
      ]
     },
     "metadata": {},
     "output_type": "display_data"
    }
   ],
   "source": [
    "products_per_order = order_products.groupby('order_id')['product_id'].count()\n",
    "products_per_order.plot(kind = 'hist', bins = 50)\n",
    "plt.title('Distribution of Number of Products per Order')\n",
    "plt.xlabel('Number of Products')\n",
    "plt.ylabel('Number of Orders')\n",
    "plt.show()"
   ]
  },
  {
   "cell_type": "code",
   "execution_count": 41,
   "id": "sensitive-breathing",
   "metadata": {
    "trusted": false
   },
   "outputs": [
    {
     "data": {
      "text/plain": [
       "count    450046.000000\n",
       "mean         10.098983\n",
       "std           7.540206\n",
       "min           1.000000\n",
       "25%           5.000000\n",
       "50%           8.000000\n",
       "75%          14.000000\n",
       "max         127.000000\n",
       "Name: product_id, dtype: float64"
      ]
     },
     "execution_count": 41,
     "metadata": {},
     "output_type": "execute_result"
    }
   ],
   "source": [
    "products_per_order.describe()"
   ]
  },
  {
   "cell_type": "markdown",
   "id": "f913d5ab",
   "metadata": {},
   "source": [
    "<div class=\"alert alert-block alert-success\">\n",
    "<div class style=color:black> \n",
    "<b>Code Comments:</b>\n",
    "First I grouped the data by order_id and applied count to the product_id to see the number of products per order. I graphed the distribution using a histogram and based on the graph, we know the distribution is very Right-Skewed because most of the datapoints are grouped on the left side of the graph meanwhile a very small number of points exist on the right. We can also make the statement that most customers tend to buy less than 10 products per order, whereas only a few number of customers have bought more than 30 products per order. I verified this using df.describe() and saw the mean was at 10 and a std of 7.5. Studying the distributions in this manner can help a company understand identify the needs of their different customer bases and how they can cater to each group differently."
   ]
  },
  {
   "cell_type": "markdown",
   "id": "5e6b5537",
   "metadata": {},
   "source": [
    "### Task 5b: What are the top 20 items that are reordered most frequently (display their names and product IDs)?"
   ]
  },
  {
   "cell_type": "code",
   "execution_count": 42,
   "id": "9374e55a",
   "metadata": {
    "trusted": false
   },
   "outputs": [
    {
     "data": {
      "text/html": [
       "<div>\n",
       "<style scoped>\n",
       "    .dataframe tbody tr th:only-of-type {\n",
       "        vertical-align: middle;\n",
       "    }\n",
       "\n",
       "    .dataframe tbody tr th {\n",
       "        vertical-align: top;\n",
       "    }\n",
       "\n",
       "    .dataframe thead th {\n",
       "        text-align: right;\n",
       "    }\n",
       "</style>\n",
       "<table border=\"1\" class=\"dataframe\">\n",
       "  <thead>\n",
       "    <tr style=\"text-align: right;\">\n",
       "      <th></th>\n",
       "      <th>product_id</th>\n",
       "      <th>reordered</th>\n",
       "      <th>product_name</th>\n",
       "    </tr>\n",
       "  </thead>\n",
       "  <tbody>\n",
       "    <tr>\n",
       "      <th>0</th>\n",
       "      <td>24852</td>\n",
       "      <td>55763</td>\n",
       "      <td>banana</td>\n",
       "    </tr>\n",
       "    <tr>\n",
       "      <th>1</th>\n",
       "      <td>13176</td>\n",
       "      <td>44450</td>\n",
       "      <td>bag of organic bananas</td>\n",
       "    </tr>\n",
       "    <tr>\n",
       "      <th>2</th>\n",
       "      <td>21137</td>\n",
       "      <td>28639</td>\n",
       "      <td>organic strawberries</td>\n",
       "    </tr>\n",
       "    <tr>\n",
       "      <th>3</th>\n",
       "      <td>21903</td>\n",
       "      <td>26233</td>\n",
       "      <td>organic baby spinach</td>\n",
       "    </tr>\n",
       "    <tr>\n",
       "      <th>4</th>\n",
       "      <td>47209</td>\n",
       "      <td>23629</td>\n",
       "      <td>organic hass avocado</td>\n",
       "    </tr>\n",
       "    <tr>\n",
       "      <th>5</th>\n",
       "      <td>47766</td>\n",
       "      <td>18743</td>\n",
       "      <td>organic avocado</td>\n",
       "    </tr>\n",
       "    <tr>\n",
       "      <th>6</th>\n",
       "      <td>27845</td>\n",
       "      <td>16251</td>\n",
       "      <td>organic whole milk</td>\n",
       "    </tr>\n",
       "    <tr>\n",
       "      <th>7</th>\n",
       "      <td>47626</td>\n",
       "      <td>15044</td>\n",
       "      <td>large lemon</td>\n",
       "    </tr>\n",
       "    <tr>\n",
       "      <th>8</th>\n",
       "      <td>27966</td>\n",
       "      <td>14748</td>\n",
       "      <td>organic raspberries</td>\n",
       "    </tr>\n",
       "    <tr>\n",
       "      <th>9</th>\n",
       "      <td>16797</td>\n",
       "      <td>13945</td>\n",
       "      <td>strawberries</td>\n",
       "    </tr>\n",
       "    <tr>\n",
       "      <th>10</th>\n",
       "      <td>26209</td>\n",
       "      <td>13327</td>\n",
       "      <td>limes</td>\n",
       "    </tr>\n",
       "    <tr>\n",
       "      <th>11</th>\n",
       "      <td>22935</td>\n",
       "      <td>11145</td>\n",
       "      <td>organic yellow onion</td>\n",
       "    </tr>\n",
       "    <tr>\n",
       "      <th>12</th>\n",
       "      <td>24964</td>\n",
       "      <td>10411</td>\n",
       "      <td>organic garlic</td>\n",
       "    </tr>\n",
       "    <tr>\n",
       "      <th>13</th>\n",
       "      <td>45007</td>\n",
       "      <td>10076</td>\n",
       "      <td>organic zucchini</td>\n",
       "    </tr>\n",
       "    <tr>\n",
       "      <th>14</th>\n",
       "      <td>49683</td>\n",
       "      <td>9538</td>\n",
       "      <td>cucumber kirby</td>\n",
       "    </tr>\n",
       "    <tr>\n",
       "      <th>15</th>\n",
       "      <td>28204</td>\n",
       "      <td>8989</td>\n",
       "      <td>organic fuji apple</td>\n",
       "    </tr>\n",
       "    <tr>\n",
       "      <th>16</th>\n",
       "      <td>8277</td>\n",
       "      <td>8836</td>\n",
       "      <td>apple honeycrisp organic</td>\n",
       "    </tr>\n",
       "    <tr>\n",
       "      <th>17</th>\n",
       "      <td>39275</td>\n",
       "      <td>8799</td>\n",
       "      <td>organic blueberries</td>\n",
       "    </tr>\n",
       "    <tr>\n",
       "      <th>18</th>\n",
       "      <td>5876</td>\n",
       "      <td>8412</td>\n",
       "      <td>organic lemon</td>\n",
       "    </tr>\n",
       "    <tr>\n",
       "      <th>19</th>\n",
       "      <td>49235</td>\n",
       "      <td>8389</td>\n",
       "      <td>organic half &amp; half</td>\n",
       "    </tr>\n",
       "  </tbody>\n",
       "</table>\n",
       "</div>"
      ],
      "text/plain": [
       "    product_id  reordered              product_name\n",
       "0        24852      55763                    banana\n",
       "1        13176      44450    bag of organic bananas\n",
       "2        21137      28639      organic strawberries\n",
       "3        21903      26233      organic baby spinach\n",
       "4        47209      23629      organic hass avocado\n",
       "5        47766      18743           organic avocado\n",
       "6        27845      16251        organic whole milk\n",
       "7        47626      15044               large lemon\n",
       "8        27966      14748       organic raspberries\n",
       "9        16797      13945              strawberries\n",
       "10       26209      13327                     limes\n",
       "11       22935      11145      organic yellow onion\n",
       "12       24964      10411            organic garlic\n",
       "13       45007      10076          organic zucchini\n",
       "14       49683       9538            cucumber kirby\n",
       "15       28204       8989        organic fuji apple\n",
       "16        8277       8836  apple honeycrisp organic\n",
       "17       39275       8799       organic blueberries\n",
       "18        5876       8412             organic lemon\n",
       "19       49235       8389       organic half & half"
      ]
     },
     "execution_count": 42,
     "metadata": {},
     "output_type": "execute_result"
    }
   ],
   "source": [
    "top_20 = order_products.groupby('product_id')['reordered'].sum().reset_index().sort_values(by= 'reordered', ascending = False)\n",
    "top_20 = top_20.merge(products, on = 'product_id', how = 'left')\n",
    "top_20[['product_id', 'reordered', 'product_name']].head(20)"
   ]
  },
  {
   "cell_type": "markdown",
   "id": "25c47953",
   "metadata": {},
   "source": [
    "<div class=\"alert alert-block alert-success\">\n",
    "<div class style=color:black> \n",
    "<b>Code Comments:</b>\n",
    "I applied similar technique as in a previous task above. I simply filtered the order_products dataset to groupby 'product_id' and sum (not count) the reordered column to get the number of times each product was re-ordered. I sorted by descending to get the most reordered products at the top. Then I merged in with the products dataset on product_id and finally only kept the columns I wanted with 20 rows"
   ]
  },
  {
   "cell_type": "markdown",
   "id": "9d312b14",
   "metadata": {},
   "source": [
    "### Task 5c: For each product, what proportion of its orders are reorders?"
   ]
  },
  {
   "cell_type": "code",
   "execution_count": 43,
   "id": "8ae9f4b1",
   "metadata": {
    "trusted": false
   },
   "outputs": [
    {
     "name": "stdout",
     "output_type": "stream",
     "text": [
      "       product_id                                       product_name  \\\n",
      "0           24852                                             banana   \n",
      "1           13176                             bag of organic bananas   \n",
      "2           21137                               organic strawberries   \n",
      "3           21903                               organic baby spinach   \n",
      "4           47209                               organic hass avocado   \n",
      "...           ...                                                ...   \n",
      "45568        5836                       arctic d cod liver oil lemon   \n",
      "45569       43573                                     whisk- 10 inch   \n",
      "45570       43570                                       queso cotija   \n",
      "45571       36174                                  whole pinto beans   \n",
      "45572       41403  extra rich & thick spaghetti sauce spices & se...   \n",
      "\n",
      "       order_id  reordered  proportion  \n",
      "0         66050      55763    0.844254  \n",
      "1         53297      44450    0.834006  \n",
      "2         37039      28639    0.773212  \n",
      "3         33971      26233    0.772217  \n",
      "4         29773      23629    0.793639  \n",
      "...         ...        ...         ...  \n",
      "45568         1          1    1.000000  \n",
      "45569         1          0    0.000000  \n",
      "45570         1          0    0.000000  \n",
      "45571         1          0    0.000000  \n",
      "45572         1          0    0.000000  \n",
      "\n",
      "[45573 rows x 5 columns]\n"
     ]
    }
   ],
   "source": [
    "total_reorders = order_products.groupby('product_id')['reordered'].sum().reset_index().sort_values(by= 'reordered', ascending = False)\n",
    "total_orders = order_products.groupby('product_id')['order_id'].count().reset_index().sort_values(by='order_id', ascending = False)\n",
    "proportion = total_orders.merge(total_reorders, on = 'product_id', how = 'left')\n",
    "proportion['proportion'] = proportion['reordered'] / proportion['order_id'] \n",
    "proportion = proportion.merge(products, on = 'product_id', how = 'inner')\n",
    "print(proportion[['product_id', 'product_name', 'order_id', 'reordered', 'proportion']])"
   ]
  },
  {
   "cell_type": "markdown",
   "id": "ae89ef36",
   "metadata": {},
   "source": [
    "<div class=\"alert alert-block alert-success\">\n",
    "<div class style=color:black> \n",
    "<b>Code Comments:</b>\n",
    "I created 2 new dataframes called total_orders and total_reorders, which shows the total number of orders and reorders, respectively, per product_id. Then I merged the 2 datasets so all the information was together as follows, the product_id with total number of orders and total number of reorders. Then I created a proportion column that was assigned to the value of the reordered sum divided by the ordered sum for each record. This shows the proportion of reorders for each product. Then I merged this dataset with products dataset to retrieve the product_names. So as an example, Bananas with product_id 24852 were ordered 66,050 times and reordered 55,763 times which means that 55,763 divided by 66,0505 gives the proportion value of 0.844. Therefore, 84% of all banana orders are reorders."
   ]
  },
  {
   "cell_type": "markdown",
   "id": "92d35137",
   "metadata": {},
   "source": [
    "### Task 5d: What are the top 20 items that people put in their carts first? "
   ]
  },
  {
   "cell_type": "code",
   "execution_count": null,
   "id": "0ae57274",
   "metadata": {
    "scrolled": true,
    "trusted": false
   },
   "outputs": [
    {
     "data": {
      "text/html": [
       "<div>\n",
       "<style scoped>\n",
       "    .dataframe tbody tr th:only-of-type {\n",
       "        vertical-align: middle;\n",
       "    }\n",
       "\n",
       "    .dataframe tbody tr th {\n",
       "        vertical-align: top;\n",
       "    }\n",
       "\n",
       "    .dataframe thead th {\n",
       "        text-align: right;\n",
       "    }\n",
       "</style>\n",
       "<table border=\"1\" class=\"dataframe\">\n",
       "  <thead>\n",
       "    <tr style=\"text-align: right;\">\n",
       "      <th></th>\n",
       "      <th>product_id</th>\n",
       "      <th>sum_added_first</th>\n",
       "      <th>product_name</th>\n",
       "      <th>aisle_id</th>\n",
       "      <th>department_id</th>\n",
       "    </tr>\n",
       "  </thead>\n",
       "  <tbody>\n",
       "    <tr>\n",
       "      <th>0</th>\n",
       "      <td>24852</td>\n",
       "      <td>15562</td>\n",
       "      <td>banana</td>\n",
       "      <td>24</td>\n",
       "      <td>4</td>\n",
       "    </tr>\n",
       "    <tr>\n",
       "      <th>1</th>\n",
       "      <td>13176</td>\n",
       "      <td>11026</td>\n",
       "      <td>bag of organic bananas</td>\n",
       "      <td>24</td>\n",
       "      <td>4</td>\n",
       "    </tr>\n",
       "    <tr>\n",
       "      <th>2</th>\n",
       "      <td>27845</td>\n",
       "      <td>4363</td>\n",
       "      <td>organic whole milk</td>\n",
       "      <td>84</td>\n",
       "      <td>16</td>\n",
       "    </tr>\n",
       "    <tr>\n",
       "      <th>3</th>\n",
       "      <td>21137</td>\n",
       "      <td>3946</td>\n",
       "      <td>organic strawberries</td>\n",
       "      <td>24</td>\n",
       "      <td>4</td>\n",
       "    </tr>\n",
       "    <tr>\n",
       "      <th>4</th>\n",
       "      <td>47209</td>\n",
       "      <td>3390</td>\n",
       "      <td>organic hass avocado</td>\n",
       "      <td>24</td>\n",
       "      <td>4</td>\n",
       "    </tr>\n",
       "    <tr>\n",
       "      <th>5</th>\n",
       "      <td>21903</td>\n",
       "      <td>3336</td>\n",
       "      <td>organic baby spinach</td>\n",
       "      <td>123</td>\n",
       "      <td>4</td>\n",
       "    </tr>\n",
       "    <tr>\n",
       "      <th>6</th>\n",
       "      <td>47766</td>\n",
       "      <td>3044</td>\n",
       "      <td>organic avocado</td>\n",
       "      <td>24</td>\n",
       "      <td>4</td>\n",
       "    </tr>\n",
       "    <tr>\n",
       "      <th>7</th>\n",
       "      <td>19660</td>\n",
       "      <td>2336</td>\n",
       "      <td>spring water</td>\n",
       "      <td>115</td>\n",
       "      <td>7</td>\n",
       "    </tr>\n",
       "    <tr>\n",
       "      <th>8</th>\n",
       "      <td>16797</td>\n",
       "      <td>2308</td>\n",
       "      <td>strawberries</td>\n",
       "      <td>24</td>\n",
       "      <td>4</td>\n",
       "    </tr>\n",
       "    <tr>\n",
       "      <th>9</th>\n",
       "      <td>27966</td>\n",
       "      <td>2024</td>\n",
       "      <td>organic raspberries</td>\n",
       "      <td>123</td>\n",
       "      <td>4</td>\n",
       "    </tr>\n",
       "    <tr>\n",
       "      <th>10</th>\n",
       "      <td>44632</td>\n",
       "      <td>1914</td>\n",
       "      <td>sparkling water grapefruit</td>\n",
       "      <td>115</td>\n",
       "      <td>7</td>\n",
       "    </tr>\n",
       "    <tr>\n",
       "      <th>11</th>\n",
       "      <td>49235</td>\n",
       "      <td>1797</td>\n",
       "      <td>organic half &amp; half</td>\n",
       "      <td>53</td>\n",
       "      <td>16</td>\n",
       "    </tr>\n",
       "    <tr>\n",
       "      <th>12</th>\n",
       "      <td>47626</td>\n",
       "      <td>1737</td>\n",
       "      <td>large lemon</td>\n",
       "      <td>24</td>\n",
       "      <td>4</td>\n",
       "    </tr>\n",
       "    <tr>\n",
       "      <th>13</th>\n",
       "      <td>196</td>\n",
       "      <td>1733</td>\n",
       "      <td>soda</td>\n",
       "      <td>77</td>\n",
       "      <td>7</td>\n",
       "    </tr>\n",
       "    <tr>\n",
       "      <th>14</th>\n",
       "      <td>38689</td>\n",
       "      <td>1397</td>\n",
       "      <td>organic reduced fat milk</td>\n",
       "      <td>84</td>\n",
       "      <td>16</td>\n",
       "    </tr>\n",
       "    <tr>\n",
       "      <th>15</th>\n",
       "      <td>26209</td>\n",
       "      <td>1370</td>\n",
       "      <td>limes</td>\n",
       "      <td>24</td>\n",
       "      <td>4</td>\n",
       "    </tr>\n",
       "    <tr>\n",
       "      <th>16</th>\n",
       "      <td>12341</td>\n",
       "      <td>1340</td>\n",
       "      <td>hass avocados</td>\n",
       "      <td>32</td>\n",
       "      <td>4</td>\n",
       "    </tr>\n",
       "    <tr>\n",
       "      <th>17</th>\n",
       "      <td>5785</td>\n",
       "      <td>1310</td>\n",
       "      <td>organic reduced fat 2% milk</td>\n",
       "      <td>84</td>\n",
       "      <td>16</td>\n",
       "    </tr>\n",
       "    <tr>\n",
       "      <th>18</th>\n",
       "      <td>27086</td>\n",
       "      <td>1309</td>\n",
       "      <td>half &amp; half</td>\n",
       "      <td>53</td>\n",
       "      <td>16</td>\n",
       "    </tr>\n",
       "    <tr>\n",
       "      <th>19</th>\n",
       "      <td>22935</td>\n",
       "      <td>1246</td>\n",
       "      <td>organic yellow onion</td>\n",
       "      <td>83</td>\n",
       "      <td>4</td>\n",
       "    </tr>\n",
       "  </tbody>\n",
       "</table>\n",
       "</div>"
      ],
      "text/plain": [
       "    product_id  sum_added_first                 product_name  aisle_id  \\\n",
       "0        24852            15562                       banana        24   \n",
       "1        13176            11026       bag of organic bananas        24   \n",
       "2        27845             4363           organic whole milk        84   \n",
       "3        21137             3946         organic strawberries        24   \n",
       "4        47209             3390         organic hass avocado        24   \n",
       "5        21903             3336         organic baby spinach       123   \n",
       "6        47766             3044              organic avocado        24   \n",
       "7        19660             2336                 spring water       115   \n",
       "8        16797             2308                 strawberries        24   \n",
       "9        27966             2024          organic raspberries       123   \n",
       "10       44632             1914   sparkling water grapefruit       115   \n",
       "11       49235             1797          organic half & half        53   \n",
       "12       47626             1737                  large lemon        24   \n",
       "13         196             1733                         soda        77   \n",
       "14       38689             1397     organic reduced fat milk        84   \n",
       "15       26209             1370                        limes        24   \n",
       "16       12341             1340                hass avocados        32   \n",
       "17        5785             1310  organic reduced fat 2% milk        84   \n",
       "18       27086             1309                  half & half        53   \n",
       "19       22935             1246         organic yellow onion        83   \n",
       "\n",
       "    department_id  \n",
       "0               4  \n",
       "1               4  \n",
       "2              16  \n",
       "3               4  \n",
       "4               4  \n",
       "5               4  \n",
       "6               4  \n",
       "7               7  \n",
       "8               4  \n",
       "9               4  \n",
       "10              7  \n",
       "11             16  \n",
       "12              4  \n",
       "13              7  \n",
       "14             16  \n",
       "15              4  \n",
       "16              4  \n",
       "17             16  \n",
       "18             16  \n",
       "19              4  "
      ]
     },
     "execution_count": 44,
     "metadata": {},
     "output_type": "execute_result"
    }
   ],
   "source": [
    "added_first = order_products[order_products['add_to_cart_order'] ==  1]\n",
    "top_added_first = added_first['product_id'].value_counts().reset_index()\n",
    "top_added_first.columns = ['product_id', 'sum_added_first']\n",
    "top_added_first = top_added_first.merge(products, on = 'product_id', how = 'left')\n",
    "top_added_first.head(20)"
   ]
  },
  {
   "cell_type": "markdown",
   "id": "85586432",
   "metadata": {
    "scrolled": true
   },
   "source": [
    "<div class=\"alert alert-block alert-success\">\n",
    "<div class style=color:black> \n",
    "<b>Code Comments:</b>\n",
    "I filtered the order_products database so it only included items that were added first at least once, using the add_to_cart_order column in the order_products dataset. Then I used value_counts to count how many times each product was added in cart, and sorted it with most at top. I renamed the columns to make it easier and finally I merged this dataframe with the products dataframe to retreive the product names. I printed top 20 and as expected from the previous analysis, bananas are the first item added for the greatest number of orders."
   ]
  },
  {
   "cell_type": "markdown",
   "id": "a5fe8a0b",
   "metadata": {},
   "source": [
    "<div class=\"alert alert-block alert-warning\">\n",
    "<div class style=color:black> \n",
    "<b>Conclusion:</b>\n",
    "This project was heavily structured on performing EDA on a group of datasets all relating to a single company and its customers. The goal of this project was to identify, visualize and understand the various shopping habits of the customers of Instacart. For any EDA project, the first steps are to clean and preprocess the data prior to starting any actual analysis, which includes finding and addressing duplicates and missing values. One important note here is that it is best to apply data cleaning steps to each individual file rather than merging them into 1 master file as it avoids potential gaps in the data. Since there were several files with varying data in each file, the data cleaning and preprocessing takes quite a bit of time but the more time put here, the more time is saved later. \n",
    "\n",
    "This objective of this project was to help a company like Instacart understand its customer's habits better so they can improve the needs of their customers as well as generate a greater revenue for themselves. As such, we started by looking when do customer's shop the most, and we learned that Sundays and Mondays and morning time between 10am and 11am is the highest activity periods. Instacart can study the different activity levels throughout each day to see when is a low period and why that might be the case. For instance, middle of the week like Wednesdays are low activity along with nighttime from midnight to 4am. Additionally, by analyzing on different columns within all the datasets, we learned that most customers tend to order less products per order and have longer wait times between reorders. There is also a smaller but more loyal customer base that makes more frequent orders and bigger orders. Instacart can identify these different groups and apply different marketing tactics to cater to each one seperately. For instance, it can offer a discount on the next order for customers, who tend to wait a long time before re-ordering. Also, it can offer rewards and loyalty points for customers who tend to order more frequently. Lastly, we also analyzed some of the most popular and in-demand products by mergind different datasets, grouping and counting totals, we saw bananas are a heavily in-demand product that tend to be the first item a customer adds to their cart. This also lets Instacart know to better record the supplies of certain products over others. \n",
    "\n",
    "This is a great project for practicing the process of data cleaning, grouping and merging data, creating graphs and analyzing distributions. Overall, this was a fantastic project that led to a better understanding of what it means to conduct data analysis in real-world applications."
   ]
  },
  {
   "cell_type": "markdown",
   "id": "a2b8eda2",
   "metadata": {},
   "source": []
  }
 ],
 "metadata": {
  "ExecuteTimeLog": [
   {
    "duration": 156,
    "start_time": "2025-02-12T19:35:20.911Z"
   },
   {
    "duration": 11,
    "start_time": "2025-02-12T19:35:34.033Z"
   },
   {
    "duration": 551,
    "start_time": "2025-02-12T19:35:47.164Z"
   },
   {
    "duration": 245,
    "start_time": "2025-02-12T19:35:53.926Z"
   },
   {
    "duration": 2075,
    "start_time": "2025-02-12T19:37:04.715Z"
   },
   {
    "duration": 4,
    "start_time": "2025-02-12T19:37:30.135Z"
   },
   {
    "duration": 1880,
    "start_time": "2025-02-12T19:38:08.565Z"
   },
   {
    "duration": 1819,
    "start_time": "2025-02-12T19:38:11.078Z"
   },
   {
    "duration": 1839,
    "start_time": "2025-02-12T19:38:15.124Z"
   },
   {
    "duration": 1834,
    "start_time": "2025-02-12T19:38:19.110Z"
   },
   {
    "duration": 1790,
    "start_time": "2025-02-12T19:38:34.884Z"
   },
   {
    "duration": 6,
    "start_time": "2025-02-12T19:38:36.676Z"
   },
   {
    "duration": 11,
    "start_time": "2025-02-12T19:39:07.755Z"
   },
   {
    "duration": 13,
    "start_time": "2025-02-12T19:39:25.574Z"
   },
   {
    "duration": 18,
    "start_time": "2025-02-12T19:39:33.363Z"
   },
   {
    "duration": 1796,
    "start_time": "2025-02-12T19:40:07.183Z"
   },
   {
    "duration": 19,
    "start_time": "2025-02-12T19:40:08.981Z"
   },
   {
    "duration": 868,
    "start_time": "2025-02-12T19:40:53.360Z"
   },
   {
    "duration": 26,
    "start_time": "2025-02-12T19:40:54.230Z"
   },
   {
    "duration": 157,
    "start_time": "2025-02-12T19:43:49.187Z"
   },
   {
    "duration": 1178,
    "start_time": "2025-02-12T19:43:50.622Z"
   },
   {
    "duration": 51,
    "start_time": "2025-02-12T19:43:51.802Z"
   },
   {
    "duration": 889,
    "start_time": "2025-02-12T19:44:05.233Z"
   },
   {
    "duration": 858,
    "start_time": "2025-02-12T19:52:49.555Z"
   },
   {
    "duration": 109,
    "start_time": "2025-02-12T19:56:27.693Z"
   },
   {
    "duration": 54,
    "start_time": "2025-02-12T19:56:32.593Z"
   },
   {
    "duration": 12,
    "start_time": "2025-02-12T19:56:34.157Z"
   },
   {
    "duration": 12,
    "start_time": "2025-02-12T19:56:34.878Z"
   },
   {
    "duration": 710,
    "start_time": "2025-02-12T19:56:35.824Z"
   },
   {
    "duration": 806,
    "start_time": "2025-02-12T19:58:59.175Z"
   },
   {
    "duration": 896,
    "start_time": "2025-02-12T19:59:07.991Z"
   },
   {
    "duration": 844,
    "start_time": "2025-02-12T19:59:49.132Z"
   },
   {
    "duration": 847,
    "start_time": "2025-02-12T20:00:10.783Z"
   },
   {
    "duration": 851,
    "start_time": "2025-02-12T20:00:29.812Z"
   },
   {
    "duration": 62,
    "start_time": "2025-02-12T20:04:16.397Z"
   },
   {
    "duration": 68,
    "start_time": "2025-02-12T20:04:48.495Z"
   },
   {
    "duration": 64,
    "start_time": "2025-02-12T20:05:28.712Z"
   },
   {
    "duration": 66,
    "start_time": "2025-02-12T20:05:40.646Z"
   },
   {
    "duration": 64,
    "start_time": "2025-02-12T20:05:50.487Z"
   },
   {
    "duration": 81,
    "start_time": "2025-02-12T20:06:01.519Z"
   },
   {
    "duration": 64,
    "start_time": "2025-02-12T20:06:24.746Z"
   },
   {
    "duration": 95,
    "start_time": "2025-02-12T20:06:29.108Z"
   },
   {
    "duration": 63,
    "start_time": "2025-02-12T20:06:31.679Z"
   },
   {
    "duration": 11,
    "start_time": "2025-02-12T20:07:07.681Z"
   },
   {
    "duration": 840,
    "start_time": "2025-02-12T20:07:19.452Z"
   },
   {
    "duration": 858,
    "start_time": "2025-02-12T20:07:38.748Z"
   },
   {
    "duration": 66,
    "start_time": "2025-02-12T20:07:41.614Z"
   },
   {
    "duration": 7,
    "start_time": "2025-02-12T20:07:42.815Z"
   },
   {
    "duration": 14,
    "start_time": "2025-02-12T20:09:49.526Z"
   },
   {
    "duration": 9,
    "start_time": "2025-02-12T20:10:04.348Z"
   },
   {
    "duration": 8,
    "start_time": "2025-02-12T20:10:12.977Z"
   },
   {
    "duration": 7,
    "start_time": "2025-02-12T20:11:33.073Z"
   },
   {
    "duration": 7,
    "start_time": "2025-02-12T20:12:39.629Z"
   },
   {
    "duration": 279,
    "start_time": "2025-02-12T20:13:32.011Z"
   },
   {
    "duration": 2,
    "start_time": "2025-02-12T20:13:51.577Z"
   },
   {
    "duration": 5,
    "start_time": "2025-02-12T20:13:55.130Z"
   },
   {
    "duration": 11,
    "start_time": "2025-02-12T20:15:17.010Z"
   },
   {
    "duration": 10,
    "start_time": "2025-02-12T20:15:58.817Z"
   },
   {
    "duration": 10,
    "start_time": "2025-02-12T20:16:04.554Z"
   },
   {
    "duration": 10,
    "start_time": "2025-02-12T20:18:05.330Z"
   },
   {
    "duration": 74,
    "start_time": "2025-02-12T20:19:09.862Z"
   },
   {
    "duration": 79,
    "start_time": "2025-02-12T20:19:17.450Z"
   },
   {
    "duration": 86,
    "start_time": "2025-02-12T20:19:47.329Z"
   },
   {
    "duration": 877,
    "start_time": "2025-02-12T20:20:03.119Z"
   },
   {
    "duration": 73,
    "start_time": "2025-02-12T20:20:03.999Z"
   },
   {
    "duration": 11,
    "start_time": "2025-02-12T20:20:04.074Z"
   },
   {
    "duration": 94,
    "start_time": "2025-02-12T20:20:04.086Z"
   },
   {
    "duration": 81,
    "start_time": "2025-02-12T20:20:20.314Z"
   },
   {
    "duration": 69,
    "start_time": "2025-02-12T20:20:41.878Z"
   },
   {
    "duration": 33,
    "start_time": "2025-02-12T20:21:48.270Z"
   },
   {
    "duration": 9,
    "start_time": "2025-02-12T20:22:37.289Z"
   },
   {
    "duration": 13,
    "start_time": "2025-02-12T20:24:09.755Z"
   },
   {
    "duration": 11,
    "start_time": "2025-02-12T20:24:19.538Z"
   },
   {
    "duration": 15,
    "start_time": "2025-02-12T20:24:24.716Z"
   },
   {
    "duration": 5,
    "start_time": "2025-02-12T20:24:42.877Z"
   },
   {
    "duration": 152,
    "start_time": "2025-02-12T20:24:48.237Z"
   },
   {
    "duration": 5,
    "start_time": "2025-02-12T20:24:50.394Z"
   },
   {
    "duration": 10,
    "start_time": "2025-02-12T20:25:17.299Z"
   },
   {
    "duration": 9,
    "start_time": "2025-02-12T20:25:51.760Z"
   },
   {
    "duration": 8,
    "start_time": "2025-02-12T20:25:57.962Z"
   },
   {
    "duration": 15,
    "start_time": "2025-02-12T20:26:05.376Z"
   },
   {
    "duration": 38,
    "start_time": "2025-02-12T20:26:26.495Z"
   },
   {
    "duration": 10,
    "start_time": "2025-02-12T20:26:48.845Z"
   },
   {
    "duration": 10,
    "start_time": "2025-02-12T20:27:16.823Z"
   },
   {
    "duration": 10,
    "start_time": "2025-02-12T20:27:22.454Z"
   },
   {
    "duration": 18,
    "start_time": "2025-02-12T20:27:50.803Z"
   },
   {
    "duration": 21,
    "start_time": "2025-02-12T20:27:58.596Z"
   },
   {
    "duration": 21,
    "start_time": "2025-02-12T20:28:09.476Z"
   },
   {
    "duration": 9,
    "start_time": "2025-02-12T20:28:15.275Z"
   },
   {
    "duration": 841,
    "start_time": "2025-02-12T20:28:21.024Z"
   },
   {
    "duration": 76,
    "start_time": "2025-02-12T20:28:21.867Z"
   },
   {
    "duration": 11,
    "start_time": "2025-02-12T20:28:21.945Z"
   },
   {
    "duration": 85,
    "start_time": "2025-02-12T20:28:21.957Z"
   },
   {
    "duration": 71,
    "start_time": "2025-02-12T20:28:22.045Z"
   },
   {
    "duration": 34,
    "start_time": "2025-02-12T20:28:22.118Z"
   },
   {
    "duration": 11,
    "start_time": "2025-02-12T20:28:22.154Z"
   },
   {
    "duration": 5,
    "start_time": "2025-02-12T20:28:22.167Z"
   },
   {
    "duration": 8,
    "start_time": "2025-02-12T20:28:22.173Z"
   },
   {
    "duration": 22,
    "start_time": "2025-02-12T20:28:26.811Z"
   },
   {
    "duration": 22,
    "start_time": "2025-02-12T20:28:59.058Z"
   },
   {
    "duration": 22,
    "start_time": "2025-02-12T20:29:04.719Z"
   },
   {
    "duration": 853,
    "start_time": "2025-02-12T20:29:08.668Z"
   },
   {
    "duration": 66,
    "start_time": "2025-02-12T20:29:09.524Z"
   },
   {
    "duration": 22,
    "start_time": "2025-02-12T20:29:09.591Z"
   },
   {
    "duration": 73,
    "start_time": "2025-02-12T20:29:09.615Z"
   },
   {
    "duration": 86,
    "start_time": "2025-02-12T20:29:09.690Z"
   },
   {
    "duration": 44,
    "start_time": "2025-02-12T20:29:09.778Z"
   },
   {
    "duration": 12,
    "start_time": "2025-02-12T20:29:09.823Z"
   },
   {
    "duration": 4,
    "start_time": "2025-02-12T20:29:09.836Z"
   },
   {
    "duration": 20,
    "start_time": "2025-02-12T20:29:09.842Z"
   },
   {
    "duration": 5,
    "start_time": "2025-02-12T20:29:22.223Z"
   },
   {
    "duration": 37,
    "start_time": "2025-02-12T20:29:28.533Z"
   },
   {
    "duration": 84,
    "start_time": "2025-02-12T20:29:37.622Z"
   },
   {
    "duration": 45,
    "start_time": "2025-02-12T20:29:43.607Z"
   },
   {
    "duration": 879,
    "start_time": "2025-02-12T20:30:21.366Z"
   },
   {
    "duration": 74,
    "start_time": "2025-02-12T20:30:22.247Z"
   },
   {
    "duration": 11,
    "start_time": "2025-02-12T20:30:22.323Z"
   },
   {
    "duration": 89,
    "start_time": "2025-02-12T20:30:22.335Z"
   },
   {
    "duration": 64,
    "start_time": "2025-02-12T20:30:22.427Z"
   },
   {
    "duration": 55,
    "start_time": "2025-02-12T20:30:22.493Z"
   },
   {
    "duration": 0,
    "start_time": "2025-02-12T20:30:22.550Z"
   },
   {
    "duration": 0,
    "start_time": "2025-02-12T20:30:22.551Z"
   },
   {
    "duration": 1,
    "start_time": "2025-02-12T20:30:22.551Z"
   },
   {
    "duration": 0,
    "start_time": "2025-02-12T20:30:22.553Z"
   },
   {
    "duration": 0,
    "start_time": "2025-02-12T20:30:22.553Z"
   },
   {
    "duration": 0,
    "start_time": "2025-02-12T20:30:22.555Z"
   },
   {
    "duration": 0,
    "start_time": "2025-02-12T20:30:22.556Z"
   },
   {
    "duration": 0,
    "start_time": "2025-02-12T20:30:22.556Z"
   },
   {
    "duration": 0,
    "start_time": "2025-02-12T20:30:22.558Z"
   },
   {
    "duration": 0,
    "start_time": "2025-02-12T20:30:22.559Z"
   },
   {
    "duration": 0,
    "start_time": "2025-02-12T20:30:22.561Z"
   },
   {
    "duration": 0,
    "start_time": "2025-02-12T20:30:22.562Z"
   },
   {
    "duration": 0,
    "start_time": "2025-02-12T20:30:22.563Z"
   },
   {
    "duration": 0,
    "start_time": "2025-02-12T20:30:22.564Z"
   },
   {
    "duration": 0,
    "start_time": "2025-02-12T20:30:22.565Z"
   },
   {
    "duration": 7,
    "start_time": "2025-02-12T20:30:49.820Z"
   },
   {
    "duration": 77,
    "start_time": "2025-02-12T20:30:55.853Z"
   },
   {
    "duration": 78,
    "start_time": "2025-02-12T20:30:57.175Z"
   },
   {
    "duration": 36,
    "start_time": "2025-02-12T20:31:01.969Z"
   },
   {
    "duration": 14,
    "start_time": "2025-02-12T20:31:04.942Z"
   },
   {
    "duration": 5,
    "start_time": "2025-02-12T20:31:45.274Z"
   },
   {
    "duration": 22,
    "start_time": "2025-02-12T20:31:47.636Z"
   },
   {
    "duration": 41,
    "start_time": "2025-02-12T20:31:51.860Z"
   },
   {
    "duration": 22,
    "start_time": "2025-02-12T20:32:01.901Z"
   },
   {
    "duration": 10,
    "start_time": "2025-02-12T20:35:48.628Z"
   },
   {
    "duration": 13,
    "start_time": "2025-02-12T20:36:11.216Z"
   },
   {
    "duration": 13,
    "start_time": "2025-02-12T20:36:14.744Z"
   },
   {
    "duration": 17,
    "start_time": "2025-02-12T20:37:23.986Z"
   },
   {
    "duration": 15,
    "start_time": "2025-02-12T20:37:35.360Z"
   },
   {
    "duration": 15,
    "start_time": "2025-02-12T20:37:38.686Z"
   },
   {
    "duration": 23,
    "start_time": "2025-02-12T20:38:17.625Z"
   },
   {
    "duration": 18,
    "start_time": "2025-02-12T20:38:50.410Z"
   },
   {
    "duration": 4,
    "start_time": "2025-02-12T20:39:00.012Z"
   },
   {
    "duration": 21,
    "start_time": "2025-02-12T20:39:03.488Z"
   },
   {
    "duration": 20,
    "start_time": "2025-02-12T20:39:22.241Z"
   },
   {
    "duration": 4,
    "start_time": "2025-02-12T20:44:46.356Z"
   },
   {
    "duration": 5,
    "start_time": "2025-02-12T20:45:02.458Z"
   },
   {
    "duration": 5,
    "start_time": "2025-02-12T20:45:49.082Z"
   },
   {
    "duration": 5,
    "start_time": "2025-02-12T20:46:05.170Z"
   },
   {
    "duration": 6,
    "start_time": "2025-02-12T20:46:13.951Z"
   },
   {
    "duration": 10,
    "start_time": "2025-02-12T20:46:24.687Z"
   },
   {
    "duration": 5,
    "start_time": "2025-02-12T20:46:33.932Z"
   },
   {
    "duration": 10,
    "start_time": "2025-02-12T20:46:46.270Z"
   },
   {
    "duration": 6,
    "start_time": "2025-02-12T20:46:50.434Z"
   },
   {
    "duration": 5,
    "start_time": "2025-02-12T20:46:58.483Z"
   },
   {
    "duration": 4,
    "start_time": "2025-02-12T20:47:05.278Z"
   },
   {
    "duration": 4,
    "start_time": "2025-02-12T20:47:24.251Z"
   },
   {
    "duration": 5,
    "start_time": "2025-02-12T20:47:37.308Z"
   },
   {
    "duration": 4,
    "start_time": "2025-02-12T20:47:44.396Z"
   },
   {
    "duration": 3,
    "start_time": "2025-02-12T20:48:11.276Z"
   },
   {
    "duration": 4,
    "start_time": "2025-02-12T20:48:19.734Z"
   },
   {
    "duration": 4,
    "start_time": "2025-02-12T20:48:27.906Z"
   },
   {
    "duration": 4,
    "start_time": "2025-02-12T20:48:32.376Z"
   },
   {
    "duration": 4,
    "start_time": "2025-02-12T20:48:49.792Z"
   },
   {
    "duration": 864,
    "start_time": "2025-02-12T20:51:15.327Z"
   },
   {
    "duration": 63,
    "start_time": "2025-02-12T20:51:17.952Z"
   },
   {
    "duration": 8,
    "start_time": "2025-02-12T20:51:34.311Z"
   },
   {
    "duration": 74,
    "start_time": "2025-02-12T20:51:39.058Z"
   },
   {
    "duration": 72,
    "start_time": "2025-02-12T20:51:39.579Z"
   },
   {
    "duration": 36,
    "start_time": "2025-02-12T20:51:40.781Z"
   },
   {
    "duration": 12,
    "start_time": "2025-02-12T20:51:43.380Z"
   },
   {
    "duration": 5,
    "start_time": "2025-02-12T20:51:43.942Z"
   },
   {
    "duration": 23,
    "start_time": "2025-02-12T20:51:44.433Z"
   },
   {
    "duration": 21,
    "start_time": "2025-02-12T20:51:46.215Z"
   },
   {
    "duration": 4,
    "start_time": "2025-02-12T20:51:58.760Z"
   },
   {
    "duration": 5,
    "start_time": "2025-02-12T20:52:15.381Z"
   },
   {
    "duration": 4,
    "start_time": "2025-02-12T20:52:19.347Z"
   },
   {
    "duration": 4,
    "start_time": "2025-02-12T20:52:55.184Z"
   },
   {
    "duration": 718,
    "start_time": "2025-02-12T20:54:18.102Z"
   },
   {
    "duration": 7,
    "start_time": "2025-02-12T20:54:52.158Z"
   },
   {
    "duration": 12,
    "start_time": "2025-02-12T20:55:03.770Z"
   },
   {
    "duration": 20,
    "start_time": "2025-02-12T20:55:09.881Z"
   },
   {
    "duration": 19,
    "start_time": "2025-02-12T20:55:32.447Z"
   },
   {
    "duration": 23,
    "start_time": "2025-02-12T20:55:49.688Z"
   },
   {
    "duration": 27,
    "start_time": "2025-02-12T20:56:20.864Z"
   },
   {
    "duration": 425,
    "start_time": "2025-02-12T20:56:35.318Z"
   },
   {
    "duration": 435,
    "start_time": "2025-02-12T20:56:46.335Z"
   },
   {
    "duration": 428,
    "start_time": "2025-02-12T20:57:00.706Z"
   },
   {
    "duration": 411,
    "start_time": "2025-02-12T20:57:06.050Z"
   },
   {
    "duration": 22,
    "start_time": "2025-02-12T20:57:27.449Z"
   },
   {
    "duration": 25,
    "start_time": "2025-02-12T20:57:40.734Z"
   },
   {
    "duration": 25,
    "start_time": "2025-02-12T21:03:18.724Z"
   },
   {
    "duration": 25,
    "start_time": "2025-02-12T21:03:53.628Z"
   },
   {
    "duration": 4,
    "start_time": "2025-02-12T21:04:05.336Z"
   },
   {
    "duration": 9,
    "start_time": "2025-02-12T21:04:16.395Z"
   },
   {
    "duration": 284,
    "start_time": "2025-02-12T21:04:23.033Z"
   },
   {
    "duration": 8,
    "start_time": "2025-02-12T21:04:28.217Z"
   },
   {
    "duration": 9,
    "start_time": "2025-02-12T21:04:37.537Z"
   },
   {
    "duration": 19,
    "start_time": "2025-02-12T21:05:07.713Z"
   },
   {
    "duration": 19,
    "start_time": "2025-02-12T21:05:12.321Z"
   },
   {
    "duration": 663,
    "start_time": "2025-02-12T21:05:29.037Z"
   },
   {
    "duration": 162,
    "start_time": "2025-02-12T21:05:34.679Z"
   },
   {
    "duration": 143,
    "start_time": "2025-02-12T21:05:55.303Z"
   },
   {
    "duration": 134,
    "start_time": "2025-02-12T21:06:18.390Z"
   },
   {
    "duration": 191,
    "start_time": "2025-02-12T21:06:30.965Z"
   },
   {
    "duration": 13,
    "start_time": "2025-02-12T21:06:44.275Z"
   },
   {
    "duration": 3,
    "start_time": "2025-02-12T21:06:50.094Z"
   },
   {
    "duration": 149,
    "start_time": "2025-02-12T21:06:54.938Z"
   },
   {
    "duration": 144,
    "start_time": "2025-02-12T21:07:09.194Z"
   },
   {
    "duration": 211,
    "start_time": "2025-02-12T21:07:34.975Z"
   },
   {
    "duration": 231,
    "start_time": "2025-02-12T21:08:08.361Z"
   },
   {
    "duration": 13,
    "start_time": "2025-02-12T21:08:19.438Z"
   },
   {
    "duration": 221,
    "start_time": "2025-02-12T21:08:22.639Z"
   },
   {
    "duration": 215,
    "start_time": "2025-02-12T21:08:30.370Z"
   },
   {
    "duration": 248,
    "start_time": "2025-02-12T21:08:57.805Z"
   },
   {
    "duration": 6,
    "start_time": "2025-02-12T21:09:10.330Z"
   },
   {
    "duration": 671,
    "start_time": "2025-02-12T21:09:46.680Z"
   },
   {
    "duration": 682,
    "start_time": "2025-02-12T21:09:58.520Z"
   },
   {
    "duration": 5,
    "start_time": "2025-02-12T21:10:42.795Z"
   },
   {
    "duration": 148,
    "start_time": "2025-02-12T21:11:05.749Z"
   },
   {
    "duration": 165,
    "start_time": "2025-02-12T21:11:41.569Z"
   },
   {
    "duration": 164,
    "start_time": "2025-02-12T21:11:48.095Z"
   },
   {
    "duration": 147,
    "start_time": "2025-02-12T21:12:18.505Z"
   },
   {
    "duration": 3,
    "start_time": "2025-02-12T21:13:09.007Z"
   },
   {
    "duration": 916,
    "start_time": "2025-02-12T21:13:16.952Z"
   },
   {
    "duration": 908,
    "start_time": "2025-02-12T21:13:43.055Z"
   },
   {
    "duration": 845,
    "start_time": "2025-02-12T21:13:54.279Z"
   },
   {
    "duration": 1357,
    "start_time": "2025-02-12T21:14:56.342Z"
   },
   {
    "duration": 675,
    "start_time": "2025-02-12T21:15:08.409Z"
   },
   {
    "duration": 578,
    "start_time": "2025-02-12T21:15:15.961Z"
   },
   {
    "duration": 163,
    "start_time": "2025-02-12T21:15:37.212Z"
   },
   {
    "duration": 583,
    "start_time": "2025-02-12T21:15:51.598Z"
   },
   {
    "duration": 628,
    "start_time": "2025-02-12T21:16:08.735Z"
   },
   {
    "duration": 587,
    "start_time": "2025-02-12T21:16:18.797Z"
   },
   {
    "duration": 783,
    "start_time": "2025-02-12T21:16:31.801Z"
   },
   {
    "duration": 804,
    "start_time": "2025-02-12T21:17:05.072Z"
   },
   {
    "duration": 791,
    "start_time": "2025-02-12T21:17:10.921Z"
   },
   {
    "duration": 647,
    "start_time": "2025-02-12T21:17:32.904Z"
   },
   {
    "duration": 1341,
    "start_time": "2025-02-13T16:45:29.252Z"
   },
   {
    "duration": 98,
    "start_time": "2025-02-13T16:45:30.594Z"
   },
   {
    "duration": 15,
    "start_time": "2025-02-13T16:45:30.694Z"
   },
   {
    "duration": 97,
    "start_time": "2025-02-13T16:45:30.712Z"
   },
   {
    "duration": 99,
    "start_time": "2025-02-13T16:45:30.811Z"
   },
   {
    "duration": 54,
    "start_time": "2025-02-13T16:45:30.912Z"
   },
   {
    "duration": 17,
    "start_time": "2025-02-13T16:45:30.970Z"
   },
   {
    "duration": 5,
    "start_time": "2025-02-13T16:45:30.989Z"
   },
   {
    "duration": 25,
    "start_time": "2025-02-13T16:45:31.010Z"
   },
   {
    "duration": 20,
    "start_time": "2025-02-13T16:45:31.039Z"
   },
   {
    "duration": 4,
    "start_time": "2025-02-13T16:45:31.061Z"
   },
   {
    "duration": 4,
    "start_time": "2025-02-13T16:45:31.067Z"
   },
   {
    "duration": 38,
    "start_time": "2025-02-13T16:45:31.073Z"
   },
   {
    "duration": 4,
    "start_time": "2025-02-13T16:45:31.113Z"
   },
   {
    "duration": 819,
    "start_time": "2025-02-13T16:45:31.118Z"
   },
   {
    "duration": 846,
    "start_time": "2025-02-13T16:45:31.939Z"
   },
   {
    "duration": 6,
    "start_time": "2025-02-13T16:47:07.973Z"
   },
   {
    "duration": 10,
    "start_time": "2025-02-13T16:47:22.717Z"
   },
   {
    "duration": 13,
    "start_time": "2025-02-13T16:47:26.869Z"
   },
   {
    "duration": 15,
    "start_time": "2025-02-13T16:50:56.783Z"
   },
   {
    "duration": 89,
    "start_time": "2025-02-13T16:51:01.586Z"
   },
   {
    "duration": 10,
    "start_time": "2025-02-13T16:51:05.680Z"
   },
   {
    "duration": 23,
    "start_time": "2025-02-13T16:53:48.557Z"
   },
   {
    "duration": 23,
    "start_time": "2025-02-13T16:53:54.195Z"
   },
   {
    "duration": 23,
    "start_time": "2025-02-13T16:54:00.990Z"
   },
   {
    "duration": 877,
    "start_time": "2025-02-13T16:54:05.856Z"
   },
   {
    "duration": 85,
    "start_time": "2025-02-13T16:54:06.736Z"
   },
   {
    "duration": 8,
    "start_time": "2025-02-13T16:54:06.822Z"
   },
   {
    "duration": 91,
    "start_time": "2025-02-13T16:54:06.833Z"
   },
   {
    "duration": 102,
    "start_time": "2025-02-13T16:54:06.926Z"
   },
   {
    "duration": 57,
    "start_time": "2025-02-13T16:54:07.030Z"
   },
   {
    "duration": 29,
    "start_time": "2025-02-13T16:54:07.089Z"
   },
   {
    "duration": 6,
    "start_time": "2025-02-13T16:54:07.119Z"
   },
   {
    "duration": 25,
    "start_time": "2025-02-13T16:54:07.127Z"
   },
   {
    "duration": 28,
    "start_time": "2025-02-13T16:54:07.155Z"
   },
   {
    "duration": 887,
    "start_time": "2025-02-13T16:54:15.938Z"
   },
   {
    "duration": 95,
    "start_time": "2025-02-13T16:54:16.827Z"
   },
   {
    "duration": 8,
    "start_time": "2025-02-13T16:54:16.924Z"
   },
   {
    "duration": 146,
    "start_time": "2025-02-13T16:54:16.934Z"
   },
   {
    "duration": 97,
    "start_time": "2025-02-13T16:54:17.082Z"
   },
   {
    "duration": 75,
    "start_time": "2025-02-13T16:54:17.183Z"
   },
   {
    "duration": 29,
    "start_time": "2025-02-13T16:54:17.261Z"
   },
   {
    "duration": 6,
    "start_time": "2025-02-13T16:54:17.294Z"
   },
   {
    "duration": 903,
    "start_time": "2025-02-13T16:54:22.698Z"
   },
   {
    "duration": 78,
    "start_time": "2025-02-13T16:54:23.603Z"
   },
   {
    "duration": 8,
    "start_time": "2025-02-13T16:54:23.683Z"
   },
   {
    "duration": 98,
    "start_time": "2025-02-13T16:54:23.694Z"
   },
   {
    "duration": 85,
    "start_time": "2025-02-13T16:54:23.794Z"
   },
   {
    "duration": 46,
    "start_time": "2025-02-13T16:54:23.881Z"
   },
   {
    "duration": 13,
    "start_time": "2025-02-13T16:54:23.929Z"
   },
   {
    "duration": 5,
    "start_time": "2025-02-13T16:54:23.944Z"
   },
   {
    "duration": 22,
    "start_time": "2025-02-13T16:54:23.950Z"
   },
   {
    "duration": 45,
    "start_time": "2025-02-13T16:54:23.975Z"
   },
   {
    "duration": 5,
    "start_time": "2025-02-13T16:54:24.021Z"
   },
   {
    "duration": 5,
    "start_time": "2025-02-13T16:54:24.027Z"
   },
   {
    "duration": 5,
    "start_time": "2025-02-13T16:54:24.033Z"
   },
   {
    "duration": 4,
    "start_time": "2025-02-13T16:54:24.039Z"
   },
   {
    "duration": 780,
    "start_time": "2025-02-13T16:54:24.044Z"
   },
   {
    "duration": 766,
    "start_time": "2025-02-13T16:54:24.826Z"
   },
   {
    "duration": 2,
    "start_time": "2025-02-13T16:54:25.594Z"
   },
   {
    "duration": 12,
    "start_time": "2025-02-13T16:54:25.598Z"
   },
   {
    "duration": 3,
    "start_time": "2025-02-13T16:54:25.611Z"
   },
   {
    "duration": 3,
    "start_time": "2025-02-13T16:54:25.615Z"
   },
   {
    "duration": 2,
    "start_time": "2025-02-13T16:54:25.620Z"
   },
   {
    "duration": 3,
    "start_time": "2025-02-13T16:54:25.624Z"
   },
   {
    "duration": 3,
    "start_time": "2025-02-13T16:54:25.628Z"
   },
   {
    "duration": 3,
    "start_time": "2025-02-13T16:54:25.632Z"
   },
   {
    "duration": 3,
    "start_time": "2025-02-13T16:54:25.636Z"
   },
   {
    "duration": 1096,
    "start_time": "2025-02-13T16:54:38.135Z"
   },
   {
    "duration": 67,
    "start_time": "2025-02-13T16:54:39.233Z"
   },
   {
    "duration": 9,
    "start_time": "2025-02-13T16:54:39.309Z"
   },
   {
    "duration": 123,
    "start_time": "2025-02-13T16:54:39.319Z"
   },
   {
    "duration": 104,
    "start_time": "2025-02-13T16:54:39.445Z"
   },
   {
    "duration": 58,
    "start_time": "2025-02-13T16:54:39.551Z"
   },
   {
    "duration": 15,
    "start_time": "2025-02-13T16:54:39.611Z"
   },
   {
    "duration": 6,
    "start_time": "2025-02-13T16:54:39.628Z"
   },
   {
    "duration": 21,
    "start_time": "2025-02-13T16:54:39.635Z"
   },
   {
    "duration": 22,
    "start_time": "2025-02-13T16:54:39.657Z"
   },
   {
    "duration": 28,
    "start_time": "2025-02-13T16:54:39.681Z"
   },
   {
    "duration": 4,
    "start_time": "2025-02-13T16:54:39.710Z"
   },
   {
    "duration": 3,
    "start_time": "2025-02-13T16:54:39.716Z"
   },
   {
    "duration": 4,
    "start_time": "2025-02-13T16:54:39.722Z"
   },
   {
    "duration": 781,
    "start_time": "2025-02-13T16:54:39.728Z"
   },
   {
    "duration": 784,
    "start_time": "2025-02-13T16:54:40.510Z"
   },
   {
    "duration": 2,
    "start_time": "2025-02-13T16:54:41.296Z"
   },
   {
    "duration": 3,
    "start_time": "2025-02-13T16:54:41.308Z"
   },
   {
    "duration": 2,
    "start_time": "2025-02-13T16:54:41.312Z"
   },
   {
    "duration": 3,
    "start_time": "2025-02-13T16:54:41.316Z"
   },
   {
    "duration": 2,
    "start_time": "2025-02-13T16:54:41.322Z"
   },
   {
    "duration": 3,
    "start_time": "2025-02-13T16:54:41.325Z"
   },
   {
    "duration": 3,
    "start_time": "2025-02-13T16:54:41.330Z"
   },
   {
    "duration": 2,
    "start_time": "2025-02-13T16:54:41.336Z"
   },
   {
    "duration": 2,
    "start_time": "2025-02-13T16:54:41.339Z"
   },
   {
    "duration": 5,
    "start_time": "2025-02-13T16:55:04.159Z"
   },
   {
    "duration": 105,
    "start_time": "2025-02-13T16:55:22.470Z"
   },
   {
    "duration": 13,
    "start_time": "2025-02-13T16:55:46.919Z"
   },
   {
    "duration": 9,
    "start_time": "2025-02-13T16:55:50.736Z"
   },
   {
    "duration": 12,
    "start_time": "2025-02-13T16:56:15.639Z"
   },
   {
    "duration": 5,
    "start_time": "2025-02-13T16:56:39.524Z"
   },
   {
    "duration": 5,
    "start_time": "2025-02-13T16:56:55.104Z"
   },
   {
    "duration": 4,
    "start_time": "2025-02-13T16:57:06.143Z"
   },
   {
    "duration": 7,
    "start_time": "2025-02-13T16:57:23.187Z"
   },
   {
    "duration": 13,
    "start_time": "2025-02-13T16:57:25.622Z"
   },
   {
    "duration": 5,
    "start_time": "2025-02-13T16:57:33.280Z"
   },
   {
    "duration": 5,
    "start_time": "2025-02-13T16:57:38.717Z"
   },
   {
    "duration": 4,
    "start_time": "2025-02-13T17:00:24.190Z"
   },
   {
    "duration": 4,
    "start_time": "2025-02-13T17:00:27.817Z"
   },
   {
    "duration": 295,
    "start_time": "2025-02-13T17:00:34.132Z"
   },
   {
    "duration": 3,
    "start_time": "2025-02-13T17:00:40.131Z"
   },
   {
    "duration": 4,
    "start_time": "2025-02-13T17:00:48.721Z"
   },
   {
    "duration": 5,
    "start_time": "2025-02-13T17:01:00.334Z"
   },
   {
    "duration": 4,
    "start_time": "2025-02-13T17:01:23.916Z"
   },
   {
    "duration": 5,
    "start_time": "2025-02-13T17:01:34.215Z"
   },
   {
    "duration": 22,
    "start_time": "2025-02-13T17:02:33.376Z"
   },
   {
    "duration": 5,
    "start_time": "2025-02-13T17:02:37.223Z"
   },
   {
    "duration": 4,
    "start_time": "2025-02-13T17:02:38.249Z"
   },
   {
    "duration": 4,
    "start_time": "2025-02-13T17:02:40.538Z"
   },
   {
    "duration": 5,
    "start_time": "2025-02-13T17:02:41.042Z"
   },
   {
    "duration": 682,
    "start_time": "2025-02-13T17:02:45.514Z"
   },
   {
    "duration": 689,
    "start_time": "2025-02-13T17:02:46.199Z"
   },
   {
    "duration": 4,
    "start_time": "2025-02-13T17:02:49.511Z"
   },
   {
    "duration": 849,
    "start_time": "2025-02-13T17:02:58.251Z"
   },
   {
    "duration": 67,
    "start_time": "2025-02-13T17:02:59.110Z"
   },
   {
    "duration": 7,
    "start_time": "2025-02-13T17:02:59.179Z"
   },
   {
    "duration": 94,
    "start_time": "2025-02-13T17:02:59.188Z"
   },
   {
    "duration": 72,
    "start_time": "2025-02-13T17:02:59.286Z"
   },
   {
    "duration": 55,
    "start_time": "2025-02-13T17:02:59.360Z"
   },
   {
    "duration": 11,
    "start_time": "2025-02-13T17:02:59.417Z"
   },
   {
    "duration": 4,
    "start_time": "2025-02-13T17:02:59.430Z"
   },
   {
    "duration": 24,
    "start_time": "2025-02-13T17:02:59.436Z"
   },
   {
    "duration": 22,
    "start_time": "2025-02-13T17:02:59.462Z"
   },
   {
    "duration": 5,
    "start_time": "2025-02-13T17:02:59.509Z"
   },
   {
    "duration": 5,
    "start_time": "2025-02-13T17:02:59.516Z"
   },
   {
    "duration": 4,
    "start_time": "2025-02-13T17:02:59.522Z"
   },
   {
    "duration": 5,
    "start_time": "2025-02-13T17:02:59.528Z"
   },
   {
    "duration": 696,
    "start_time": "2025-02-13T17:02:59.534Z"
   },
   {
    "duration": 705,
    "start_time": "2025-02-13T17:03:00.231Z"
   },
   {
    "duration": 4,
    "start_time": "2025-02-13T17:03:00.938Z"
   },
   {
    "duration": 6,
    "start_time": "2025-02-13T17:03:10.449Z"
   },
   {
    "duration": 7,
    "start_time": "2025-02-13T17:03:15.194Z"
   },
   {
    "duration": 5,
    "start_time": "2025-02-13T17:03:19.609Z"
   },
   {
    "duration": 22,
    "start_time": "2025-02-13T17:04:04.139Z"
   },
   {
    "duration": 21,
    "start_time": "2025-02-13T17:04:09.552Z"
   },
   {
    "duration": 836,
    "start_time": "2025-02-13T17:04:13.569Z"
   },
   {
    "duration": 72,
    "start_time": "2025-02-13T17:04:14.408Z"
   },
   {
    "duration": 8,
    "start_time": "2025-02-13T17:04:14.481Z"
   },
   {
    "duration": 89,
    "start_time": "2025-02-13T17:04:14.491Z"
   },
   {
    "duration": 82,
    "start_time": "2025-02-13T17:04:14.581Z"
   },
   {
    "duration": 44,
    "start_time": "2025-02-13T17:04:14.665Z"
   },
   {
    "duration": 12,
    "start_time": "2025-02-13T17:04:14.711Z"
   },
   {
    "duration": 5,
    "start_time": "2025-02-13T17:04:14.725Z"
   },
   {
    "duration": 28,
    "start_time": "2025-02-13T17:04:14.731Z"
   },
   {
    "duration": 23,
    "start_time": "2025-02-13T17:04:14.763Z"
   },
   {
    "duration": 25,
    "start_time": "2025-02-13T17:04:14.788Z"
   },
   {
    "duration": 5,
    "start_time": "2025-02-13T17:04:14.815Z"
   },
   {
    "duration": 6,
    "start_time": "2025-02-13T17:04:14.821Z"
   },
   {
    "duration": 4,
    "start_time": "2025-02-13T17:04:14.829Z"
   },
   {
    "duration": 818,
    "start_time": "2025-02-13T17:04:14.835Z"
   },
   {
    "duration": 817,
    "start_time": "2025-02-13T17:04:15.655Z"
   },
   {
    "duration": 8,
    "start_time": "2025-02-13T17:04:16.474Z"
   },
   {
    "duration": 2,
    "start_time": "2025-02-13T17:04:16.483Z"
   },
   {
    "duration": 3,
    "start_time": "2025-02-13T17:04:16.487Z"
   },
   {
    "duration": 18,
    "start_time": "2025-02-13T17:04:16.491Z"
   },
   {
    "duration": 3,
    "start_time": "2025-02-13T17:04:16.510Z"
   },
   {
    "duration": 3,
    "start_time": "2025-02-13T17:04:16.514Z"
   },
   {
    "duration": 2,
    "start_time": "2025-02-13T17:04:16.519Z"
   },
   {
    "duration": 2,
    "start_time": "2025-02-13T17:04:16.523Z"
   },
   {
    "duration": 3,
    "start_time": "2025-02-13T17:04:16.527Z"
   },
   {
    "duration": 3,
    "start_time": "2025-02-13T17:04:16.532Z"
   },
   {
    "duration": 22,
    "start_time": "2025-02-13T17:04:50.807Z"
   },
   {
    "duration": 22,
    "start_time": "2025-02-13T17:04:55.691Z"
   },
   {
    "duration": 22,
    "start_time": "2025-02-13T17:05:31.226Z"
   },
   {
    "duration": 18,
    "start_time": "2025-02-13T17:08:48.555Z"
   },
   {
    "duration": 876,
    "start_time": "2025-02-13T17:10:18.374Z"
   },
   {
    "duration": 74,
    "start_time": "2025-02-13T17:10:19.252Z"
   },
   {
    "duration": 8,
    "start_time": "2025-02-13T17:10:19.328Z"
   },
   {
    "duration": 91,
    "start_time": "2025-02-13T17:10:19.338Z"
   },
   {
    "duration": 67,
    "start_time": "2025-02-13T17:10:19.430Z"
   },
   {
    "duration": 42,
    "start_time": "2025-02-13T17:10:19.499Z"
   },
   {
    "duration": 13,
    "start_time": "2025-02-13T17:10:19.543Z"
   },
   {
    "duration": 4,
    "start_time": "2025-02-13T17:10:19.559Z"
   },
   {
    "duration": 21,
    "start_time": "2025-02-13T17:10:19.565Z"
   },
   {
    "duration": 18,
    "start_time": "2025-02-13T17:10:19.610Z"
   },
   {
    "duration": 4,
    "start_time": "2025-02-13T17:10:19.630Z"
   },
   {
    "duration": 4,
    "start_time": "2025-02-13T17:10:19.636Z"
   },
   {
    "duration": 4,
    "start_time": "2025-02-13T17:10:19.641Z"
   },
   {
    "duration": 4,
    "start_time": "2025-02-13T17:10:19.647Z"
   },
   {
    "duration": 766,
    "start_time": "2025-02-13T17:10:19.653Z"
   },
   {
    "duration": 708,
    "start_time": "2025-02-13T17:10:20.421Z"
   },
   {
    "duration": 7,
    "start_time": "2025-02-13T17:10:21.130Z"
   },
   {
    "duration": 2,
    "start_time": "2025-02-13T17:10:21.139Z"
   },
   {
    "duration": 2,
    "start_time": "2025-02-13T17:10:21.143Z"
   },
   {
    "duration": 2,
    "start_time": "2025-02-13T17:10:21.149Z"
   },
   {
    "duration": 3,
    "start_time": "2025-02-13T17:10:21.153Z"
   },
   {
    "duration": 3,
    "start_time": "2025-02-13T17:10:21.157Z"
   },
   {
    "duration": 3,
    "start_time": "2025-02-13T17:10:21.162Z"
   },
   {
    "duration": 2,
    "start_time": "2025-02-13T17:10:21.167Z"
   },
   {
    "duration": 4,
    "start_time": "2025-02-13T17:10:21.209Z"
   },
   {
    "duration": 3,
    "start_time": "2025-02-13T17:10:21.214Z"
   },
   {
    "duration": 9,
    "start_time": "2025-02-13T17:13:05.711Z"
   },
   {
    "duration": 5,
    "start_time": "2025-02-13T17:15:19.094Z"
   },
   {
    "duration": 9,
    "start_time": "2025-02-13T17:15:27.506Z"
   },
   {
    "duration": 7,
    "start_time": "2025-02-13T17:15:32.150Z"
   },
   {
    "duration": 7,
    "start_time": "2025-02-13T17:15:36.447Z"
   },
   {
    "duration": 11,
    "start_time": "2025-02-13T17:15:43.820Z"
   },
   {
    "duration": 5,
    "start_time": "2025-02-13T17:15:57.668Z"
   },
   {
    "duration": 8,
    "start_time": "2025-02-13T17:16:07.455Z"
   },
   {
    "duration": 6,
    "start_time": "2025-02-13T17:16:39.894Z"
   },
   {
    "duration": 6,
    "start_time": "2025-02-13T17:16:45.003Z"
   },
   {
    "duration": 6,
    "start_time": "2025-02-13T17:16:48.086Z"
   },
   {
    "duration": 6,
    "start_time": "2025-02-13T17:19:45.633Z"
   },
   {
    "duration": 5,
    "start_time": "2025-02-13T17:19:46.336Z"
   },
   {
    "duration": 6,
    "start_time": "2025-02-13T17:19:53.469Z"
   },
   {
    "duration": 5,
    "start_time": "2025-02-13T17:20:10.669Z"
   },
   {
    "duration": 8,
    "start_time": "2025-02-13T17:20:11.149Z"
   },
   {
    "duration": 12,
    "start_time": "2025-02-13T17:25:06.080Z"
   },
   {
    "duration": 5,
    "start_time": "2025-02-13T17:25:08.631Z"
   },
   {
    "duration": 5,
    "start_time": "2025-02-13T17:25:39.395Z"
   },
   {
    "duration": 5,
    "start_time": "2025-02-13T17:25:54.472Z"
   },
   {
    "duration": 4,
    "start_time": "2025-02-13T17:26:08.682Z"
   },
   {
    "duration": 6,
    "start_time": "2025-02-13T17:27:08.278Z"
   },
   {
    "duration": 5,
    "start_time": "2025-02-13T17:27:20.219Z"
   },
   {
    "duration": 5,
    "start_time": "2025-02-13T17:27:22.910Z"
   },
   {
    "duration": 5,
    "start_time": "2025-02-13T17:27:38.945Z"
   },
   {
    "duration": 6,
    "start_time": "2025-02-13T17:27:59.967Z"
   },
   {
    "duration": 6,
    "start_time": "2025-02-13T17:28:06.998Z"
   },
   {
    "duration": 6,
    "start_time": "2025-02-13T17:28:13.377Z"
   },
   {
    "duration": 17,
    "start_time": "2025-02-13T17:28:28.904Z"
   },
   {
    "duration": 7,
    "start_time": "2025-02-13T17:28:32.312Z"
   },
   {
    "duration": 5,
    "start_time": "2025-02-13T17:28:47.474Z"
   },
   {
    "duration": 4,
    "start_time": "2025-02-13T17:30:53.103Z"
   },
   {
    "duration": 3,
    "start_time": "2025-02-13T17:30:56.477Z"
   },
   {
    "duration": 4,
    "start_time": "2025-02-13T17:30:59.904Z"
   },
   {
    "duration": 3,
    "start_time": "2025-02-13T17:31:08.249Z"
   },
   {
    "duration": 5,
    "start_time": "2025-02-13T17:31:15.265Z"
   },
   {
    "duration": 4,
    "start_time": "2025-02-13T17:31:30.289Z"
   },
   {
    "duration": 7,
    "start_time": "2025-02-13T17:31:47.151Z"
   },
   {
    "duration": 6,
    "start_time": "2025-02-13T17:31:56.733Z"
   },
   {
    "duration": 4,
    "start_time": "2025-02-13T17:32:16.754Z"
   },
   {
    "duration": 7,
    "start_time": "2025-02-13T17:32:23.601Z"
   },
   {
    "duration": 867,
    "start_time": "2025-02-13T17:37:43.722Z"
   },
   {
    "duration": 76,
    "start_time": "2025-02-13T17:37:44.592Z"
   },
   {
    "duration": 7,
    "start_time": "2025-02-13T17:37:44.670Z"
   },
   {
    "duration": 89,
    "start_time": "2025-02-13T17:37:44.679Z"
   },
   {
    "duration": 97,
    "start_time": "2025-02-13T17:37:44.770Z"
   },
   {
    "duration": 41,
    "start_time": "2025-02-13T17:37:44.869Z"
   },
   {
    "duration": 13,
    "start_time": "2025-02-13T17:37:44.912Z"
   },
   {
    "duration": 4,
    "start_time": "2025-02-13T17:37:44.927Z"
   },
   {
    "duration": 21,
    "start_time": "2025-02-13T17:37:44.933Z"
   },
   {
    "duration": 18,
    "start_time": "2025-02-13T17:37:44.957Z"
   },
   {
    "duration": 33,
    "start_time": "2025-02-13T17:37:44.976Z"
   },
   {
    "duration": 5,
    "start_time": "2025-02-13T17:37:45.010Z"
   },
   {
    "duration": 4,
    "start_time": "2025-02-13T17:37:45.016Z"
   },
   {
    "duration": 4,
    "start_time": "2025-02-13T17:37:45.022Z"
   },
   {
    "duration": 909,
    "start_time": "2025-02-13T17:37:45.027Z"
   },
   {
    "duration": 960,
    "start_time": "2025-02-13T17:37:45.938Z"
   },
   {
    "duration": 15,
    "start_time": "2025-02-13T17:37:46.899Z"
   },
   {
    "duration": 6,
    "start_time": "2025-02-13T17:37:46.915Z"
   },
   {
    "duration": 6,
    "start_time": "2025-02-13T17:37:46.923Z"
   },
   {
    "duration": 7,
    "start_time": "2025-02-13T17:37:46.930Z"
   },
   {
    "duration": 2,
    "start_time": "2025-02-13T17:37:46.939Z"
   },
   {
    "duration": 3,
    "start_time": "2025-02-13T17:37:46.943Z"
   },
   {
    "duration": 3,
    "start_time": "2025-02-13T17:37:46.947Z"
   },
   {
    "duration": 2,
    "start_time": "2025-02-13T17:37:46.952Z"
   },
   {
    "duration": 2,
    "start_time": "2025-02-13T17:37:46.956Z"
   },
   {
    "duration": 3,
    "start_time": "2025-02-13T17:37:46.960Z"
   },
   {
    "duration": 7,
    "start_time": "2025-02-13T17:38:07.093Z"
   },
   {
    "duration": 12,
    "start_time": "2025-02-13T17:38:22.588Z"
   },
   {
    "duration": 8,
    "start_time": "2025-02-13T17:38:28.117Z"
   },
   {
    "duration": 6,
    "start_time": "2025-02-13T17:39:15.643Z"
   },
   {
    "duration": 6,
    "start_time": "2025-02-13T17:39:18.827Z"
   },
   {
    "duration": 2,
    "start_time": "2025-02-13T17:39:19.265Z"
   },
   {
    "duration": 5,
    "start_time": "2025-02-13T17:39:30.107Z"
   },
   {
    "duration": 6,
    "start_time": "2025-02-13T17:39:32.977Z"
   },
   {
    "duration": 6,
    "start_time": "2025-02-13T17:39:55.225Z"
   },
   {
    "duration": 7,
    "start_time": "2025-02-13T17:40:00.042Z"
   },
   {
    "duration": 7,
    "start_time": "2025-02-13T17:40:36.674Z"
   },
   {
    "duration": 315,
    "start_time": "2025-02-13T17:41:03.330Z"
   },
   {
    "duration": 9,
    "start_time": "2025-02-13T17:41:22.590Z"
   },
   {
    "duration": 5,
    "start_time": "2025-02-13T17:42:19.315Z"
   },
   {
    "duration": 7,
    "start_time": "2025-02-13T17:42:26.192Z"
   },
   {
    "duration": 5,
    "start_time": "2025-02-13T17:42:35.745Z"
   },
   {
    "duration": 145,
    "start_time": "2025-02-13T17:42:46.476Z"
   },
   {
    "duration": 26,
    "start_time": "2025-02-13T17:43:13.387Z"
   },
   {
    "duration": 25,
    "start_time": "2025-02-13T17:43:42.634Z"
   },
   {
    "duration": 904,
    "start_time": "2025-02-13T17:43:46.741Z"
   },
   {
    "duration": 91,
    "start_time": "2025-02-13T17:43:47.648Z"
   },
   {
    "duration": 7,
    "start_time": "2025-02-13T17:43:47.741Z"
   },
   {
    "duration": 93,
    "start_time": "2025-02-13T17:43:47.750Z"
   },
   {
    "duration": 85,
    "start_time": "2025-02-13T17:43:47.846Z"
   },
   {
    "duration": 43,
    "start_time": "2025-02-13T17:43:47.932Z"
   },
   {
    "duration": 12,
    "start_time": "2025-02-13T17:43:47.977Z"
   },
   {
    "duration": 21,
    "start_time": "2025-02-13T17:43:47.991Z"
   },
   {
    "duration": 21,
    "start_time": "2025-02-13T17:43:48.013Z"
   },
   {
    "duration": 14,
    "start_time": "2025-02-13T17:43:48.037Z"
   },
   {
    "duration": 5,
    "start_time": "2025-02-13T17:43:48.052Z"
   },
   {
    "duration": 4,
    "start_time": "2025-02-13T17:43:48.058Z"
   },
   {
    "duration": 3,
    "start_time": "2025-02-13T17:43:48.064Z"
   },
   {
    "duration": 41,
    "start_time": "2025-02-13T17:43:48.069Z"
   },
   {
    "duration": 729,
    "start_time": "2025-02-13T17:43:48.111Z"
   },
   {
    "duration": 733,
    "start_time": "2025-02-13T17:43:48.841Z"
   },
   {
    "duration": 9,
    "start_time": "2025-02-13T17:43:49.576Z"
   },
   {
    "duration": 5,
    "start_time": "2025-02-13T17:43:49.587Z"
   },
   {
    "duration": 5,
    "start_time": "2025-02-13T17:43:49.609Z"
   },
   {
    "duration": 6,
    "start_time": "2025-02-13T17:43:49.616Z"
   },
   {
    "duration": 6,
    "start_time": "2025-02-13T17:43:49.623Z"
   },
   {
    "duration": 3,
    "start_time": "2025-02-13T17:43:49.630Z"
   },
   {
    "duration": 3,
    "start_time": "2025-02-13T17:43:49.634Z"
   },
   {
    "duration": 3,
    "start_time": "2025-02-13T17:43:49.639Z"
   },
   {
    "duration": 3,
    "start_time": "2025-02-13T17:43:49.643Z"
   },
   {
    "duration": 2,
    "start_time": "2025-02-13T17:43:49.648Z"
   },
   {
    "duration": 27,
    "start_time": "2025-02-13T17:44:30.476Z"
   },
   {
    "duration": 870,
    "start_time": "2025-02-13T17:44:35.363Z"
   },
   {
    "duration": 75,
    "start_time": "2025-02-13T17:44:36.235Z"
   },
   {
    "duration": 7,
    "start_time": "2025-02-13T17:44:36.312Z"
   },
   {
    "duration": 74,
    "start_time": "2025-02-13T17:44:36.321Z"
   },
   {
    "duration": 77,
    "start_time": "2025-02-13T17:44:36.408Z"
   },
   {
    "duration": 47,
    "start_time": "2025-02-13T17:44:36.487Z"
   },
   {
    "duration": 12,
    "start_time": "2025-02-13T17:44:36.536Z"
   },
   {
    "duration": 5,
    "start_time": "2025-02-13T17:44:36.550Z"
   },
   {
    "duration": 23,
    "start_time": "2025-02-13T17:44:36.556Z"
   },
   {
    "duration": 39,
    "start_time": "2025-02-13T17:44:36.582Z"
   },
   {
    "duration": 5,
    "start_time": "2025-02-13T17:44:36.622Z"
   },
   {
    "duration": 5,
    "start_time": "2025-02-13T17:44:36.628Z"
   },
   {
    "duration": 5,
    "start_time": "2025-02-13T17:44:36.634Z"
   },
   {
    "duration": 5,
    "start_time": "2025-02-13T17:44:36.640Z"
   },
   {
    "duration": 788,
    "start_time": "2025-02-13T17:44:36.647Z"
   },
   {
    "duration": 793,
    "start_time": "2025-02-13T17:44:37.437Z"
   },
   {
    "duration": 10,
    "start_time": "2025-02-13T17:44:38.232Z"
   },
   {
    "duration": 6,
    "start_time": "2025-02-13T17:44:38.243Z"
   },
   {
    "duration": 6,
    "start_time": "2025-02-13T17:44:38.250Z"
   },
   {
    "duration": 6,
    "start_time": "2025-02-13T17:44:38.257Z"
   },
   {
    "duration": 8,
    "start_time": "2025-02-13T17:44:38.265Z"
   },
   {
    "duration": 8,
    "start_time": "2025-02-13T17:44:56.788Z"
   },
   {
    "duration": 9,
    "start_time": "2025-02-13T17:45:06.501Z"
   },
   {
    "duration": 8,
    "start_time": "2025-02-13T17:45:09.928Z"
   },
   {
    "duration": 5,
    "start_time": "2025-02-13T17:45:17.348Z"
   },
   {
    "duration": 13,
    "start_time": "2025-02-13T17:46:48.395Z"
   },
   {
    "duration": 12,
    "start_time": "2025-02-13T17:47:44.263Z"
   },
   {
    "duration": 6,
    "start_time": "2025-02-13T17:48:38.873Z"
   },
   {
    "duration": 10,
    "start_time": "2025-02-13T17:49:08.773Z"
   },
   {
    "duration": 13,
    "start_time": "2025-02-13T17:51:52.853Z"
   },
   {
    "duration": 5,
    "start_time": "2025-02-13T17:51:57.654Z"
   },
   {
    "duration": 13,
    "start_time": "2025-02-13T17:52:17.083Z"
   },
   {
    "duration": 13,
    "start_time": "2025-02-13T17:52:33.361Z"
   },
   {
    "duration": 32,
    "start_time": "2025-02-13T17:52:39.045Z"
   },
   {
    "duration": 4,
    "start_time": "2025-02-13T17:53:47.918Z"
   },
   {
    "duration": 8,
    "start_time": "2025-02-13T17:53:57.402Z"
   },
   {
    "duration": 8,
    "start_time": "2025-02-13T17:58:54.992Z"
   },
   {
    "duration": 285,
    "start_time": "2025-02-13T17:59:06.782Z"
   },
   {
    "duration": 13,
    "start_time": "2025-02-13T17:59:53.391Z"
   },
   {
    "duration": 15,
    "start_time": "2025-02-13T18:00:07.513Z"
   },
   {
    "duration": 13,
    "start_time": "2025-02-13T18:00:25.721Z"
   },
   {
    "duration": 6,
    "start_time": "2025-02-13T18:00:34.480Z"
   },
   {
    "duration": 6,
    "start_time": "2025-02-13T18:00:36.720Z"
   },
   {
    "duration": 876,
    "start_time": "2025-02-13T18:00:42.723Z"
   },
   {
    "duration": 79,
    "start_time": "2025-02-13T18:00:43.602Z"
   },
   {
    "duration": 8,
    "start_time": "2025-02-13T18:00:43.683Z"
   },
   {
    "duration": 88,
    "start_time": "2025-02-13T18:00:43.710Z"
   },
   {
    "duration": 84,
    "start_time": "2025-02-13T18:00:43.800Z"
   },
   {
    "duration": 56,
    "start_time": "2025-02-13T18:00:43.886Z"
   },
   {
    "duration": 13,
    "start_time": "2025-02-13T18:00:43.944Z"
   },
   {
    "duration": 6,
    "start_time": "2025-02-13T18:00:43.959Z"
   },
   {
    "duration": 42,
    "start_time": "2025-02-13T18:00:43.967Z"
   },
   {
    "duration": 20,
    "start_time": "2025-02-13T18:00:44.012Z"
   },
   {
    "duration": 5,
    "start_time": "2025-02-13T18:00:44.034Z"
   },
   {
    "duration": 6,
    "start_time": "2025-02-13T18:00:44.041Z"
   },
   {
    "duration": 4,
    "start_time": "2025-02-13T18:00:44.049Z"
   },
   {
    "duration": 5,
    "start_time": "2025-02-13T18:00:44.054Z"
   },
   {
    "duration": 846,
    "start_time": "2025-02-13T18:00:44.061Z"
   },
   {
    "duration": 785,
    "start_time": "2025-02-13T18:00:44.909Z"
   },
   {
    "duration": 16,
    "start_time": "2025-02-13T18:00:45.696Z"
   },
   {
    "duration": 6,
    "start_time": "2025-02-13T18:00:45.714Z"
   },
   {
    "duration": 6,
    "start_time": "2025-02-13T18:00:45.723Z"
   },
   {
    "duration": 7,
    "start_time": "2025-02-13T18:00:45.730Z"
   },
   {
    "duration": 13,
    "start_time": "2025-02-13T18:00:45.738Z"
   },
   {
    "duration": 11,
    "start_time": "2025-02-13T18:00:45.752Z"
   },
   {
    "duration": 44,
    "start_time": "2025-02-13T18:00:45.764Z"
   },
   {
    "duration": 3,
    "start_time": "2025-02-13T18:00:45.811Z"
   },
   {
    "duration": 3,
    "start_time": "2025-02-13T18:00:45.815Z"
   },
   {
    "duration": 3,
    "start_time": "2025-02-13T18:00:45.820Z"
   },
   {
    "duration": 2,
    "start_time": "2025-02-13T18:00:45.825Z"
   },
   {
    "duration": 14,
    "start_time": "2025-02-13T18:01:27.580Z"
   },
   {
    "duration": 10,
    "start_time": "2025-02-13T18:01:38.131Z"
   },
   {
    "duration": 16,
    "start_time": "2025-02-13T18:02:21.255Z"
   },
   {
    "duration": 10,
    "start_time": "2025-02-13T18:02:31.883Z"
   },
   {
    "duration": 11,
    "start_time": "2025-02-13T18:02:54.758Z"
   },
   {
    "duration": 17,
    "start_time": "2025-02-13T18:03:14.026Z"
   },
   {
    "duration": 14,
    "start_time": "2025-02-13T18:03:35.343Z"
   },
   {
    "duration": 8,
    "start_time": "2025-02-13T18:03:43.964Z"
   },
   {
    "duration": 17,
    "start_time": "2025-02-13T18:04:05.090Z"
   },
   {
    "duration": 10,
    "start_time": "2025-02-13T18:04:46.026Z"
   },
   {
    "duration": 14,
    "start_time": "2025-02-13T18:05:06.856Z"
   },
   {
    "duration": 13,
    "start_time": "2025-02-13T18:05:12.793Z"
   },
   {
    "duration": 3,
    "start_time": "2025-02-13T18:05:32.914Z"
   },
   {
    "duration": 24,
    "start_time": "2025-02-13T18:05:36.873Z"
   },
   {
    "duration": 23,
    "start_time": "2025-02-13T18:05:43.193Z"
   },
   {
    "duration": 15,
    "start_time": "2025-02-13T18:28:19.549Z"
   },
   {
    "duration": 17,
    "start_time": "2025-02-13T18:28:53.600Z"
   },
   {
    "duration": 18,
    "start_time": "2025-02-13T18:29:58.154Z"
   },
   {
    "duration": 17,
    "start_time": "2025-02-13T18:30:14.489Z"
   },
   {
    "duration": 10,
    "start_time": "2025-02-13T18:35:49.857Z"
   },
   {
    "duration": 9,
    "start_time": "2025-02-13T18:37:34.893Z"
   },
   {
    "duration": 470,
    "start_time": "2025-02-13T18:37:42.156Z"
   },
   {
    "duration": 10,
    "start_time": "2025-02-13T18:38:00.256Z"
   },
   {
    "duration": 12,
    "start_time": "2025-02-13T18:38:15.962Z"
   },
   {
    "duration": 823,
    "start_time": "2025-02-13T18:38:43.002Z"
   },
   {
    "duration": 749,
    "start_time": "2025-02-13T18:38:52.866Z"
   },
   {
    "duration": 16,
    "start_time": "2025-02-13T18:40:49.704Z"
   },
   {
    "duration": 680,
    "start_time": "2025-02-13T18:41:13.280Z"
   },
   {
    "duration": 32,
    "start_time": "2025-02-13T18:42:18.170Z"
   },
   {
    "duration": 6,
    "start_time": "2025-02-13T18:42:58.989Z"
   },
   {
    "duration": 5,
    "start_time": "2025-02-13T18:43:46.101Z"
   },
   {
    "duration": 4,
    "start_time": "2025-02-13T18:46:16.644Z"
   },
   {
    "duration": 7,
    "start_time": "2025-02-13T18:46:25.730Z"
   },
   {
    "duration": 26,
    "start_time": "2025-02-13T18:46:31.403Z"
   },
   {
    "duration": 3,
    "start_time": "2025-02-13T18:46:51.621Z"
   },
   {
    "duration": 7,
    "start_time": "2025-02-13T18:46:55.999Z"
   },
   {
    "duration": 12,
    "start_time": "2025-02-13T18:48:07.054Z"
   },
   {
    "duration": 11,
    "start_time": "2025-02-13T18:48:12.132Z"
   },
   {
    "duration": 8,
    "start_time": "2025-02-13T18:48:26.597Z"
   },
   {
    "duration": 8,
    "start_time": "2025-02-13T18:48:30.838Z"
   },
   {
    "duration": 12,
    "start_time": "2025-02-13T18:48:35.991Z"
   },
   {
    "duration": 12,
    "start_time": "2025-02-13T18:48:48.637Z"
   },
   {
    "duration": 7,
    "start_time": "2025-02-13T18:48:56.840Z"
   },
   {
    "duration": 8,
    "start_time": "2025-02-13T18:49:13.765Z"
   },
   {
    "duration": 7,
    "start_time": "2025-02-13T18:49:32.244Z"
   },
   {
    "duration": 6,
    "start_time": "2025-02-13T18:52:21.072Z"
   },
   {
    "duration": 4,
    "start_time": "2025-02-13T18:52:48.798Z"
   },
   {
    "duration": 9,
    "start_time": "2025-02-13T18:53:07.832Z"
   },
   {
    "duration": 12,
    "start_time": "2025-02-13T18:53:16.073Z"
   },
   {
    "duration": 17,
    "start_time": "2025-02-13T18:53:39.525Z"
   },
   {
    "duration": 8,
    "start_time": "2025-02-13T18:53:45.255Z"
   },
   {
    "duration": 7,
    "start_time": "2025-02-13T18:53:48.831Z"
   },
   {
    "duration": 8,
    "start_time": "2025-02-13T18:53:59.844Z"
   },
   {
    "duration": 21,
    "start_time": "2025-02-13T18:54:09.763Z"
   },
   {
    "duration": 8,
    "start_time": "2025-02-13T18:54:18.095Z"
   },
   {
    "duration": 7,
    "start_time": "2025-02-13T18:54:25.261Z"
   },
   {
    "duration": 9,
    "start_time": "2025-02-13T18:55:26.729Z"
   },
   {
    "duration": 12,
    "start_time": "2025-02-13T18:55:57.632Z"
   },
   {
    "duration": 6,
    "start_time": "2025-02-13T18:56:08.160Z"
   },
   {
    "duration": 3,
    "start_time": "2025-02-13T18:56:39.556Z"
   },
   {
    "duration": 7,
    "start_time": "2025-02-13T18:56:42.722Z"
   },
   {
    "duration": 9,
    "start_time": "2025-02-13T18:56:54.871Z"
   },
   {
    "duration": 92,
    "start_time": "2025-02-13T18:57:28.213Z"
   },
   {
    "duration": 8,
    "start_time": "2025-02-13T18:57:37.039Z"
   },
   {
    "duration": 14,
    "start_time": "2025-02-13T18:57:43.009Z"
   },
   {
    "duration": 9,
    "start_time": "2025-02-13T18:57:51.907Z"
   },
   {
    "duration": 10,
    "start_time": "2025-02-13T18:57:58.129Z"
   },
   {
    "duration": 8,
    "start_time": "2025-02-13T18:58:07.796Z"
   },
   {
    "duration": 10,
    "start_time": "2025-02-13T18:58:12.660Z"
   },
   {
    "duration": 8,
    "start_time": "2025-02-13T18:58:52.887Z"
   },
   {
    "duration": 7,
    "start_time": "2025-02-13T18:59:01.226Z"
   },
   {
    "duration": 11,
    "start_time": "2025-02-13T18:59:17.726Z"
   },
   {
    "duration": 8,
    "start_time": "2025-02-13T18:59:30.161Z"
   },
   {
    "duration": 10,
    "start_time": "2025-02-13T18:59:44.393Z"
   },
   {
    "duration": 8,
    "start_time": "2025-02-13T19:01:50.596Z"
   },
   {
    "duration": 8,
    "start_time": "2025-02-13T19:02:01.088Z"
   },
   {
    "duration": 11,
    "start_time": "2025-02-13T19:05:17.683Z"
   },
   {
    "duration": 11,
    "start_time": "2025-02-13T19:05:25.796Z"
   },
   {
    "duration": 3,
    "start_time": "2025-02-13T19:06:51.261Z"
   },
   {
    "duration": 7,
    "start_time": "2025-02-13T19:06:54.090Z"
   },
   {
    "duration": 8,
    "start_time": "2025-02-13T19:07:03.563Z"
   },
   {
    "duration": 13,
    "start_time": "2025-02-13T19:07:30.058Z"
   },
   {
    "duration": 10,
    "start_time": "2025-02-13T19:11:19.357Z"
   },
   {
    "duration": 5,
    "start_time": "2025-02-13T19:11:40.278Z"
   },
   {
    "duration": 15,
    "start_time": "2025-02-13T19:12:32.533Z"
   },
   {
    "duration": 10,
    "start_time": "2025-02-13T19:12:42.612Z"
   },
   {
    "duration": 10,
    "start_time": "2025-02-13T19:13:37.385Z"
   },
   {
    "duration": 9,
    "start_time": "2025-02-13T19:13:42.099Z"
   },
   {
    "duration": 10,
    "start_time": "2025-02-13T19:13:46.403Z"
   },
   {
    "duration": 7,
    "start_time": "2025-02-13T19:14:29.597Z"
   },
   {
    "duration": 3,
    "start_time": "2025-02-13T19:14:43.626Z"
   },
   {
    "duration": 8,
    "start_time": "2025-02-13T19:14:50.059Z"
   },
   {
    "duration": 4,
    "start_time": "2025-02-13T19:15:08.060Z"
   },
   {
    "duration": 275,
    "start_time": "2025-02-13T19:15:35.282Z"
   },
   {
    "duration": 4,
    "start_time": "2025-02-13T19:15:45.034Z"
   },
   {
    "duration": 6,
    "start_time": "2025-02-13T19:16:01.025Z"
   },
   {
    "duration": 5,
    "start_time": "2025-02-13T19:16:08.582Z"
   },
   {
    "duration": 5,
    "start_time": "2025-02-13T19:16:20.013Z"
   },
   {
    "duration": 8,
    "start_time": "2025-02-13T19:16:30.644Z"
   },
   {
    "duration": 7,
    "start_time": "2025-02-13T19:17:16.263Z"
   },
   {
    "duration": 5,
    "start_time": "2025-02-13T19:17:26.496Z"
   },
   {
    "duration": 15,
    "start_time": "2025-02-13T19:17:38.949Z"
   },
   {
    "duration": 6,
    "start_time": "2025-02-13T19:17:53.698Z"
   },
   {
    "duration": 5,
    "start_time": "2025-02-13T19:18:11.600Z"
   },
   {
    "duration": 5,
    "start_time": "2025-02-13T19:18:19.840Z"
   },
   {
    "duration": 5,
    "start_time": "2025-02-13T19:18:22.735Z"
   },
   {
    "duration": 5,
    "start_time": "2025-02-13T19:18:33.070Z"
   },
   {
    "duration": 4,
    "start_time": "2025-02-13T19:18:38.206Z"
   },
   {
    "duration": 5,
    "start_time": "2025-02-13T19:19:09.876Z"
   },
   {
    "duration": 6,
    "start_time": "2025-02-13T19:19:54.853Z"
   },
   {
    "duration": 7,
    "start_time": "2025-02-13T19:19:57.308Z"
   },
   {
    "duration": 5,
    "start_time": "2025-02-13T19:20:04.612Z"
   },
   {
    "duration": 7,
    "start_time": "2025-02-13T19:23:59.370Z"
   },
   {
    "duration": 5,
    "start_time": "2025-02-13T19:24:37.636Z"
   },
   {
    "duration": 12,
    "start_time": "2025-02-13T19:25:34.115Z"
   },
   {
    "duration": 5,
    "start_time": "2025-02-13T19:26:06.551Z"
   },
   {
    "duration": 4,
    "start_time": "2025-02-13T19:26:17.991Z"
   },
   {
    "duration": 4,
    "start_time": "2025-02-13T19:26:33.544Z"
   },
   {
    "duration": 10,
    "start_time": "2025-02-13T19:26:44.614Z"
   },
   {
    "duration": 10,
    "start_time": "2025-02-13T19:27:43.639Z"
   },
   {
    "duration": 14,
    "start_time": "2025-02-13T19:28:24.357Z"
   },
   {
    "duration": 12,
    "start_time": "2025-02-13T19:28:30.080Z"
   },
   {
    "duration": 15,
    "start_time": "2025-02-13T19:31:09.303Z"
   },
   {
    "duration": 8,
    "start_time": "2025-02-13T19:32:05.216Z"
   },
   {
    "duration": 871,
    "start_time": "2025-02-13T19:32:14.889Z"
   },
   {
    "duration": 77,
    "start_time": "2025-02-13T19:32:15.762Z"
   },
   {
    "duration": 7,
    "start_time": "2025-02-13T19:32:15.842Z"
   },
   {
    "duration": 87,
    "start_time": "2025-02-13T19:32:15.851Z"
   },
   {
    "duration": 87,
    "start_time": "2025-02-13T19:32:15.940Z"
   },
   {
    "duration": 39,
    "start_time": "2025-02-13T19:32:16.029Z"
   },
   {
    "duration": 11,
    "start_time": "2025-02-13T19:32:16.070Z"
   },
   {
    "duration": 4,
    "start_time": "2025-02-13T19:32:16.083Z"
   },
   {
    "duration": 37,
    "start_time": "2025-02-13T19:32:16.089Z"
   },
   {
    "duration": 15,
    "start_time": "2025-02-13T19:32:16.128Z"
   },
   {
    "duration": 4,
    "start_time": "2025-02-13T19:32:16.144Z"
   },
   {
    "duration": 4,
    "start_time": "2025-02-13T19:32:16.150Z"
   },
   {
    "duration": 4,
    "start_time": "2025-02-13T19:32:16.156Z"
   },
   {
    "duration": 7,
    "start_time": "2025-02-13T19:32:16.163Z"
   },
   {
    "duration": 863,
    "start_time": "2025-02-13T19:32:16.172Z"
   },
   {
    "duration": 905,
    "start_time": "2025-02-13T19:32:17.037Z"
   },
   {
    "duration": 9,
    "start_time": "2025-02-13T19:32:17.944Z"
   },
   {
    "duration": 6,
    "start_time": "2025-02-13T19:32:17.955Z"
   },
   {
    "duration": 8,
    "start_time": "2025-02-13T19:32:17.963Z"
   },
   {
    "duration": 6,
    "start_time": "2025-02-13T19:32:17.973Z"
   },
   {
    "duration": 12,
    "start_time": "2025-02-13T19:32:18.009Z"
   },
   {
    "duration": 6,
    "start_time": "2025-02-13T19:32:18.023Z"
   },
   {
    "duration": 19,
    "start_time": "2025-02-13T19:32:18.031Z"
   },
   {
    "duration": 16,
    "start_time": "2025-02-13T19:32:18.052Z"
   },
   {
    "duration": 61,
    "start_time": "2025-02-13T19:32:18.070Z"
   },
   {
    "duration": 13,
    "start_time": "2025-02-13T19:32:18.133Z"
   },
   {
    "duration": 4,
    "start_time": "2025-02-13T19:32:18.148Z"
   },
   {
    "duration": 9,
    "start_time": "2025-02-13T19:32:18.154Z"
   },
   {
    "duration": 13,
    "start_time": "2025-02-13T19:34:38.161Z"
   },
   {
    "duration": 32,
    "start_time": "2025-02-13T19:34:45.355Z"
   },
   {
    "duration": 24,
    "start_time": "2025-02-13T19:35:04.210Z"
   },
   {
    "duration": 34,
    "start_time": "2025-02-13T19:35:20.314Z"
   },
   {
    "duration": 1322,
    "start_time": "2025-02-16T15:31:15.913Z"
   },
   {
    "duration": 97,
    "start_time": "2025-02-16T15:31:17.237Z"
   },
   {
    "duration": 8,
    "start_time": "2025-02-16T15:31:17.336Z"
   },
   {
    "duration": 112,
    "start_time": "2025-02-16T15:31:17.346Z"
   },
   {
    "duration": 88,
    "start_time": "2025-02-16T15:31:17.460Z"
   },
   {
    "duration": 43,
    "start_time": "2025-02-16T15:31:17.550Z"
   },
   {
    "duration": 11,
    "start_time": "2025-02-16T15:31:17.595Z"
   },
   {
    "duration": 25,
    "start_time": "2025-02-16T15:31:17.607Z"
   },
   {
    "duration": 28,
    "start_time": "2025-02-16T15:31:17.633Z"
   },
   {
    "duration": 18,
    "start_time": "2025-02-16T15:31:17.668Z"
   },
   {
    "duration": 4,
    "start_time": "2025-02-16T15:31:17.688Z"
   },
   {
    "duration": 4,
    "start_time": "2025-02-16T15:31:17.694Z"
   },
   {
    "duration": 3,
    "start_time": "2025-02-16T15:31:17.700Z"
   },
   {
    "duration": 27,
    "start_time": "2025-02-16T15:31:17.705Z"
   },
   {
    "duration": 798,
    "start_time": "2025-02-16T15:31:17.735Z"
   },
   {
    "duration": 749,
    "start_time": "2025-02-16T15:31:18.535Z"
   },
   {
    "duration": 10,
    "start_time": "2025-02-16T15:31:19.286Z"
   },
   {
    "duration": 6,
    "start_time": "2025-02-16T15:31:19.297Z"
   },
   {
    "duration": 26,
    "start_time": "2025-02-16T15:31:19.305Z"
   },
   {
    "duration": 6,
    "start_time": "2025-02-16T15:31:19.333Z"
   },
   {
    "duration": 13,
    "start_time": "2025-02-16T15:31:19.341Z"
   },
   {
    "duration": 9,
    "start_time": "2025-02-16T15:31:19.356Z"
   },
   {
    "duration": 17,
    "start_time": "2025-02-16T15:31:19.366Z"
   },
   {
    "duration": 50,
    "start_time": "2025-02-16T15:31:19.385Z"
   },
   {
    "duration": 31,
    "start_time": "2025-02-16T15:31:19.437Z"
   },
   {
    "duration": 13,
    "start_time": "2025-02-16T15:31:19.470Z"
   },
   {
    "duration": 5,
    "start_time": "2025-02-16T15:31:19.485Z"
   },
   {
    "duration": 64,
    "start_time": "2025-02-16T15:31:19.493Z"
   },
   {
    "duration": 6,
    "start_time": "2025-02-16T15:32:56.284Z"
   },
   {
    "duration": 13,
    "start_time": "2025-02-16T15:33:27.508Z"
   },
   {
    "duration": 6,
    "start_time": "2025-02-16T15:33:45.583Z"
   },
   {
    "duration": 174,
    "start_time": "2025-02-16T15:33:56.175Z"
   },
   {
    "duration": 27,
    "start_time": "2025-02-16T15:34:19.461Z"
   },
   {
    "duration": 45,
    "start_time": "2025-02-16T15:34:49.818Z"
   },
   {
    "duration": 10,
    "start_time": "2025-02-16T15:36:49.579Z"
   },
   {
    "duration": 3,
    "start_time": "2025-02-16T15:37:22.004Z"
   },
   {
    "duration": 2,
    "start_time": "2025-02-16T15:37:27.757Z"
   },
   {
    "duration": 8,
    "start_time": "2025-02-16T15:37:39.874Z"
   },
   {
    "duration": 40,
    "start_time": "2025-02-16T15:38:01.648Z"
   },
   {
    "duration": 7,
    "start_time": "2025-02-16T15:38:14.458Z"
   },
   {
    "duration": 7,
    "start_time": "2025-02-16T15:38:52.740Z"
   },
   {
    "duration": 44,
    "start_time": "2025-02-16T15:39:00.241Z"
   },
   {
    "duration": 10,
    "start_time": "2025-02-16T15:40:41.348Z"
   },
   {
    "duration": 2708,
    "start_time": "2025-02-16T15:42:54.253Z"
   },
   {
    "duration": 895,
    "start_time": "2025-02-16T15:42:57.211Z"
   },
   {
    "duration": 83,
    "start_time": "2025-02-16T15:42:58.108Z"
   },
   {
    "duration": 6,
    "start_time": "2025-02-16T15:42:58.193Z"
   },
   {
    "duration": 88,
    "start_time": "2025-02-16T15:42:58.202Z"
   },
   {
    "duration": 82,
    "start_time": "2025-02-16T15:42:58.293Z"
   },
   {
    "duration": 36,
    "start_time": "2025-02-16T15:42:58.377Z"
   },
   {
    "duration": 26,
    "start_time": "2025-02-16T15:42:58.415Z"
   },
   {
    "duration": 4,
    "start_time": "2025-02-16T15:42:58.443Z"
   },
   {
    "duration": 21,
    "start_time": "2025-02-16T15:42:58.449Z"
   },
   {
    "duration": 16,
    "start_time": "2025-02-16T15:42:58.471Z"
   },
   {
    "duration": 5,
    "start_time": "2025-02-16T15:42:58.489Z"
   },
   {
    "duration": 4,
    "start_time": "2025-02-16T15:42:58.496Z"
   },
   {
    "duration": 3,
    "start_time": "2025-02-16T15:42:58.532Z"
   },
   {
    "duration": 4,
    "start_time": "2025-02-16T15:42:58.539Z"
   },
   {
    "duration": 736,
    "start_time": "2025-02-16T15:42:58.545Z"
   },
   {
    "duration": 756,
    "start_time": "2025-02-16T15:42:59.283Z"
   },
   {
    "duration": 10,
    "start_time": "2025-02-16T15:43:00.041Z"
   },
   {
    "duration": 6,
    "start_time": "2025-02-16T15:43:00.052Z"
   },
   {
    "duration": 6,
    "start_time": "2025-02-16T15:43:00.059Z"
   },
   {
    "duration": 6,
    "start_time": "2025-02-16T15:43:00.066Z"
   },
   {
    "duration": 11,
    "start_time": "2025-02-16T15:43:00.074Z"
   },
   {
    "duration": 48,
    "start_time": "2025-02-16T15:43:00.087Z"
   },
   {
    "duration": 18,
    "start_time": "2025-02-16T15:43:00.137Z"
   },
   {
    "duration": 16,
    "start_time": "2025-02-16T15:43:00.157Z"
   },
   {
    "duration": 62,
    "start_time": "2025-02-16T15:43:00.175Z"
   },
   {
    "duration": 13,
    "start_time": "2025-02-16T15:43:00.240Z"
   },
   {
    "duration": 6,
    "start_time": "2025-02-16T15:43:00.255Z"
   },
   {
    "duration": 44,
    "start_time": "2025-02-16T15:43:00.262Z"
   },
   {
    "duration": 8,
    "start_time": "2025-02-16T15:43:00.330Z"
   },
   {
    "duration": 47,
    "start_time": "2025-02-16T15:43:00.339Z"
   },
   {
    "duration": 9,
    "start_time": "2025-02-16T15:43:00.388Z"
   },
   {
    "duration": 123,
    "start_time": "2025-02-16T15:46:21.811Z"
   },
   {
    "duration": 19,
    "start_time": "2025-02-16T15:46:32.693Z"
   },
   {
    "duration": 6,
    "start_time": "2025-02-16T15:47:08.196Z"
   },
   {
    "duration": 8,
    "start_time": "2025-02-16T15:47:15.685Z"
   },
   {
    "duration": 30,
    "start_time": "2025-02-16T15:47:58.554Z"
   },
   {
    "duration": 12,
    "start_time": "2025-02-16T15:48:09.353Z"
   },
   {
    "duration": 3,
    "start_time": "2025-02-16T15:48:44.485Z"
   },
   {
    "duration": 10,
    "start_time": "2025-02-16T15:48:47.389Z"
   },
   {
    "duration": 465,
    "start_time": "2025-02-16T15:49:16.914Z"
   },
   {
    "duration": 68,
    "start_time": "2025-02-16T15:49:40.407Z"
   },
   {
    "duration": 63,
    "start_time": "2025-02-16T15:49:57.766Z"
   },
   {
    "duration": 62,
    "start_time": "2025-02-16T15:50:17.410Z"
   },
   {
    "duration": 1548,
    "start_time": "2025-02-16T15:53:12.276Z"
   },
   {
    "duration": 98,
    "start_time": "2025-02-16T15:53:13.827Z"
   },
   {
    "duration": 8,
    "start_time": "2025-02-16T15:53:13.931Z"
   },
   {
    "duration": 100,
    "start_time": "2025-02-16T15:53:13.941Z"
   },
   {
    "duration": 93,
    "start_time": "2025-02-16T15:53:14.044Z"
   },
   {
    "duration": 43,
    "start_time": "2025-02-16T15:53:14.139Z"
   },
   {
    "duration": 11,
    "start_time": "2025-02-16T15:53:14.184Z"
   },
   {
    "duration": 6,
    "start_time": "2025-02-16T15:53:14.197Z"
   },
   {
    "duration": 42,
    "start_time": "2025-02-16T15:53:14.205Z"
   },
   {
    "duration": 14,
    "start_time": "2025-02-16T15:53:14.250Z"
   },
   {
    "duration": 4,
    "start_time": "2025-02-16T15:53:14.266Z"
   },
   {
    "duration": 5,
    "start_time": "2025-02-16T15:53:14.272Z"
   },
   {
    "duration": 4,
    "start_time": "2025-02-16T15:53:14.279Z"
   },
   {
    "duration": 4,
    "start_time": "2025-02-16T15:53:14.287Z"
   },
   {
    "duration": 804,
    "start_time": "2025-02-16T15:53:14.292Z"
   },
   {
    "duration": 758,
    "start_time": "2025-02-16T15:53:15.098Z"
   },
   {
    "duration": 10,
    "start_time": "2025-02-16T15:53:15.858Z"
   },
   {
    "duration": 6,
    "start_time": "2025-02-16T15:53:15.869Z"
   },
   {
    "duration": 5,
    "start_time": "2025-02-16T15:53:15.876Z"
   },
   {
    "duration": 5,
    "start_time": "2025-02-16T15:53:15.884Z"
   },
   {
    "duration": 41,
    "start_time": "2025-02-16T15:53:15.891Z"
   },
   {
    "duration": 7,
    "start_time": "2025-02-16T15:53:15.933Z"
   },
   {
    "duration": 16,
    "start_time": "2025-02-16T15:53:15.942Z"
   },
   {
    "duration": 16,
    "start_time": "2025-02-16T15:53:15.960Z"
   },
   {
    "duration": 58,
    "start_time": "2025-02-16T15:53:15.977Z"
   },
   {
    "duration": 12,
    "start_time": "2025-02-16T15:53:16.038Z"
   },
   {
    "duration": 5,
    "start_time": "2025-02-16T15:53:16.052Z"
   },
   {
    "duration": 43,
    "start_time": "2025-02-16T15:53:16.058Z"
   },
   {
    "duration": 29,
    "start_time": "2025-02-16T15:53:16.103Z"
   },
   {
    "duration": 48,
    "start_time": "2025-02-16T15:53:16.133Z"
   },
   {
    "duration": 7,
    "start_time": "2025-02-16T15:53:16.182Z"
   },
   {
    "duration": 187,
    "start_time": "2025-02-16T15:54:00.004Z"
   },
   {
    "duration": 6763,
    "start_time": "2025-02-16T15:54:08.261Z"
   },
   {
    "duration": 22,
    "start_time": "2025-02-16T15:54:40.164Z"
   },
   {
    "duration": 1497,
    "start_time": "2025-02-16T15:57:28.203Z"
   },
   {
    "duration": 93,
    "start_time": "2025-02-16T15:57:29.702Z"
   },
   {
    "duration": 8,
    "start_time": "2025-02-16T15:57:29.797Z"
   },
   {
    "duration": 105,
    "start_time": "2025-02-16T15:57:29.808Z"
   },
   {
    "duration": 90,
    "start_time": "2025-02-16T15:57:29.915Z"
   },
   {
    "duration": 60,
    "start_time": "2025-02-16T15:57:30.006Z"
   },
   {
    "duration": 12,
    "start_time": "2025-02-16T15:57:30.068Z"
   },
   {
    "duration": 5,
    "start_time": "2025-02-16T15:57:30.082Z"
   },
   {
    "duration": 22,
    "start_time": "2025-02-16T15:57:30.088Z"
   },
   {
    "duration": 19,
    "start_time": "2025-02-16T15:57:30.132Z"
   },
   {
    "duration": 6,
    "start_time": "2025-02-16T15:57:30.152Z"
   },
   {
    "duration": 6,
    "start_time": "2025-02-16T15:57:30.160Z"
   },
   {
    "duration": 5,
    "start_time": "2025-02-16T15:57:30.167Z"
   },
   {
    "duration": 4,
    "start_time": "2025-02-16T15:57:30.174Z"
   },
   {
    "duration": 786,
    "start_time": "2025-02-16T15:57:30.180Z"
   },
   {
    "duration": 743,
    "start_time": "2025-02-16T15:57:30.968Z"
   },
   {
    "duration": 9,
    "start_time": "2025-02-16T15:57:31.713Z"
   },
   {
    "duration": 5,
    "start_time": "2025-02-16T15:57:31.732Z"
   },
   {
    "duration": 5,
    "start_time": "2025-02-16T15:57:31.739Z"
   },
   {
    "duration": 6,
    "start_time": "2025-02-16T15:57:31.745Z"
   },
   {
    "duration": 12,
    "start_time": "2025-02-16T15:57:31.753Z"
   },
   {
    "duration": 7,
    "start_time": "2025-02-16T15:57:31.766Z"
   },
   {
    "duration": 16,
    "start_time": "2025-02-16T15:57:31.775Z"
   },
   {
    "duration": 53,
    "start_time": "2025-02-16T15:57:31.793Z"
   },
   {
    "duration": 30,
    "start_time": "2025-02-16T15:57:31.848Z"
   },
   {
    "duration": 12,
    "start_time": "2025-02-16T15:57:31.880Z"
   },
   {
    "duration": 36,
    "start_time": "2025-02-16T15:57:31.894Z"
   },
   {
    "duration": 48,
    "start_time": "2025-02-16T15:57:31.934Z"
   },
   {
    "duration": 6,
    "start_time": "2025-02-16T15:57:31.984Z"
   },
   {
    "duration": 60,
    "start_time": "2025-02-16T15:57:31.991Z"
   },
   {
    "duration": 9,
    "start_time": "2025-02-16T15:57:32.053Z"
   },
   {
    "duration": 137,
    "start_time": "2025-02-16T15:58:03.324Z"
   },
   {
    "duration": 162,
    "start_time": "2025-02-16T16:02:46.105Z"
   },
   {
    "duration": 1520,
    "start_time": "2025-02-16T16:02:51.413Z"
   },
   {
    "duration": 86,
    "start_time": "2025-02-16T16:02:52.935Z"
   },
   {
    "duration": 16,
    "start_time": "2025-02-16T16:02:53.022Z"
   },
   {
    "duration": 106,
    "start_time": "2025-02-16T16:02:53.041Z"
   },
   {
    "duration": 90,
    "start_time": "2025-02-16T16:02:53.149Z"
   },
   {
    "duration": 44,
    "start_time": "2025-02-16T16:02:53.241Z"
   },
   {
    "duration": 12,
    "start_time": "2025-02-16T16:02:53.287Z"
   },
   {
    "duration": 5,
    "start_time": "2025-02-16T16:02:53.300Z"
   },
   {
    "duration": 43,
    "start_time": "2025-02-16T16:02:53.307Z"
   },
   {
    "duration": 15,
    "start_time": "2025-02-16T16:02:53.353Z"
   },
   {
    "duration": 5,
    "start_time": "2025-02-16T16:02:53.369Z"
   },
   {
    "duration": 5,
    "start_time": "2025-02-16T16:02:53.376Z"
   },
   {
    "duration": 4,
    "start_time": "2025-02-16T16:02:53.382Z"
   },
   {
    "duration": 4,
    "start_time": "2025-02-16T16:02:53.388Z"
   },
   {
    "duration": 806,
    "start_time": "2025-02-16T16:02:53.394Z"
   },
   {
    "duration": 758,
    "start_time": "2025-02-16T16:02:54.202Z"
   },
   {
    "duration": 9,
    "start_time": "2025-02-16T16:02:54.962Z"
   },
   {
    "duration": 6,
    "start_time": "2025-02-16T16:02:54.973Z"
   },
   {
    "duration": 5,
    "start_time": "2025-02-16T16:02:54.981Z"
   },
   {
    "duration": 6,
    "start_time": "2025-02-16T16:02:54.988Z"
   },
   {
    "duration": 40,
    "start_time": "2025-02-16T16:02:54.996Z"
   },
   {
    "duration": 7,
    "start_time": "2025-02-16T16:02:55.038Z"
   },
   {
    "duration": 16,
    "start_time": "2025-02-16T16:02:55.047Z"
   },
   {
    "duration": 17,
    "start_time": "2025-02-16T16:02:55.065Z"
   },
   {
    "duration": 54,
    "start_time": "2025-02-16T16:02:55.084Z"
   },
   {
    "duration": 13,
    "start_time": "2025-02-16T16:02:55.140Z"
   },
   {
    "duration": 5,
    "start_time": "2025-02-16T16:02:55.154Z"
   },
   {
    "duration": 40,
    "start_time": "2025-02-16T16:02:55.163Z"
   },
   {
    "duration": 32,
    "start_time": "2025-02-16T16:02:55.205Z"
   },
   {
    "duration": 46,
    "start_time": "2025-02-16T16:02:55.239Z"
   },
   {
    "duration": 700,
    "start_time": "2025-02-16T16:02:55.286Z"
   },
   {
    "duration": 163,
    "start_time": "2025-02-16T16:04:18.063Z"
   },
   {
    "duration": 169,
    "start_time": "2025-02-16T16:05:18.603Z"
   },
   {
    "duration": 168,
    "start_time": "2025-02-16T16:05:45.303Z"
   },
   {
    "duration": 242,
    "start_time": "2025-02-16T16:07:10.995Z"
   },
   {
    "duration": 167,
    "start_time": "2025-02-16T16:07:17.165Z"
   },
   {
    "duration": 170,
    "start_time": "2025-02-16T16:07:38.723Z"
   },
   {
    "duration": 166,
    "start_time": "2025-02-16T16:08:02.963Z"
   },
   {
    "duration": 225,
    "start_time": "2025-02-16T16:08:14.155Z"
   },
   {
    "duration": 186,
    "start_time": "2025-02-16T16:08:19.746Z"
   },
   {
    "duration": 170,
    "start_time": "2025-02-16T16:08:24.755Z"
   },
   {
    "duration": 169,
    "start_time": "2025-02-16T16:08:28.702Z"
   },
   {
    "duration": 176,
    "start_time": "2025-02-16T16:08:35.712Z"
   },
   {
    "duration": 586,
    "start_time": "2025-02-16T16:08:41.688Z"
   },
   {
    "duration": 163,
    "start_time": "2025-02-16T16:08:45.627Z"
   },
   {
    "duration": 207,
    "start_time": "2025-02-16T16:09:25.468Z"
   },
   {
    "duration": 106,
    "start_time": "2025-02-16T16:09:41.055Z"
   },
   {
    "duration": 189,
    "start_time": "2025-02-16T16:10:33.899Z"
   },
   {
    "duration": 209,
    "start_time": "2025-02-16T16:12:29.664Z"
   },
   {
    "duration": 200,
    "start_time": "2025-02-16T16:12:39.185Z"
   },
   {
    "duration": 226,
    "start_time": "2025-02-16T16:12:45.511Z"
   },
   {
    "duration": 4,
    "start_time": "2025-02-16T16:12:54.024Z"
   },
   {
    "duration": 264,
    "start_time": "2025-02-16T16:13:01.403Z"
   },
   {
    "duration": 236,
    "start_time": "2025-02-16T16:13:16.809Z"
   },
   {
    "duration": 230,
    "start_time": "2025-02-16T16:13:22.533Z"
   },
   {
    "duration": 229,
    "start_time": "2025-02-16T16:13:30.205Z"
   },
   {
    "duration": 221,
    "start_time": "2025-02-16T16:13:43.881Z"
   },
   {
    "duration": 240,
    "start_time": "2025-02-16T16:14:11.817Z"
   },
   {
    "duration": 226,
    "start_time": "2025-02-16T16:14:59.119Z"
   },
   {
    "duration": 5,
    "start_time": "2025-02-16T17:17:48.091Z"
   },
   {
    "duration": 146,
    "start_time": "2025-02-16T17:18:00.017Z"
   },
   {
    "duration": 19,
    "start_time": "2025-02-16T17:18:06.340Z"
   },
   {
    "duration": 17,
    "start_time": "2025-02-16T17:18:10.911Z"
   },
   {
    "duration": 19,
    "start_time": "2025-02-16T17:18:39.064Z"
   },
   {
    "duration": 16,
    "start_time": "2025-02-16T17:18:50.964Z"
   },
   {
    "duration": 160,
    "start_time": "2025-02-16T17:19:14.234Z"
   },
   {
    "duration": 31,
    "start_time": "2025-02-16T17:19:22.131Z"
   },
   {
    "duration": 992,
    "start_time": "2025-02-16T17:19:25.932Z"
   },
   {
    "duration": 72,
    "start_time": "2025-02-16T17:19:26.927Z"
   },
   {
    "duration": 8,
    "start_time": "2025-02-16T17:19:27.000Z"
   },
   {
    "duration": 123,
    "start_time": "2025-02-16T17:19:27.010Z"
   },
   {
    "duration": 74,
    "start_time": "2025-02-16T17:19:27.135Z"
   },
   {
    "duration": 57,
    "start_time": "2025-02-16T17:19:27.211Z"
   },
   {
    "duration": 17,
    "start_time": "2025-02-16T17:19:27.271Z"
   },
   {
    "duration": 6,
    "start_time": "2025-02-16T17:19:27.290Z"
   },
   {
    "duration": 45,
    "start_time": "2025-02-16T17:19:27.298Z"
   },
   {
    "duration": 16,
    "start_time": "2025-02-16T17:19:27.347Z"
   },
   {
    "duration": 5,
    "start_time": "2025-02-16T17:19:27.366Z"
   },
   {
    "duration": 6,
    "start_time": "2025-02-16T17:19:27.373Z"
   },
   {
    "duration": 5,
    "start_time": "2025-02-16T17:19:27.381Z"
   },
   {
    "duration": 5,
    "start_time": "2025-02-16T17:19:27.389Z"
   },
   {
    "duration": 969,
    "start_time": "2025-02-16T17:19:27.396Z"
   },
   {
    "duration": 767,
    "start_time": "2025-02-16T17:19:28.369Z"
   },
   {
    "duration": 10,
    "start_time": "2025-02-16T17:19:29.138Z"
   },
   {
    "duration": 6,
    "start_time": "2025-02-16T17:19:29.150Z"
   },
   {
    "duration": 5,
    "start_time": "2025-02-16T17:19:29.157Z"
   },
   {
    "duration": 6,
    "start_time": "2025-02-16T17:19:29.164Z"
   },
   {
    "duration": 13,
    "start_time": "2025-02-16T17:19:29.173Z"
   },
   {
    "duration": 6,
    "start_time": "2025-02-16T17:19:29.188Z"
   },
   {
    "duration": 51,
    "start_time": "2025-02-16T17:19:29.195Z"
   },
   {
    "duration": 16,
    "start_time": "2025-02-16T17:19:29.248Z"
   },
   {
    "duration": 30,
    "start_time": "2025-02-16T17:19:29.265Z"
   },
   {
    "duration": 34,
    "start_time": "2025-02-16T17:19:29.297Z"
   },
   {
    "duration": 5,
    "start_time": "2025-02-16T17:19:29.334Z"
   },
   {
    "duration": 41,
    "start_time": "2025-02-16T17:19:29.342Z"
   },
   {
    "duration": 7,
    "start_time": "2025-02-16T17:19:29.384Z"
   },
   {
    "duration": 70,
    "start_time": "2025-02-16T17:19:29.392Z"
   },
   {
    "duration": 183,
    "start_time": "2025-02-16T17:19:29.464Z"
   },
   {
    "duration": 118,
    "start_time": "2025-02-16T17:19:29.649Z"
   },
   {
    "duration": 162,
    "start_time": "2025-02-16T17:19:29.771Z"
   },
   {
    "duration": 30,
    "start_time": "2025-02-16T17:19:29.935Z"
   },
   {
    "duration": 3,
    "start_time": "2025-02-16T17:19:43.106Z"
   },
   {
    "duration": 4,
    "start_time": "2025-02-16T17:19:51.946Z"
   },
   {
    "duration": 148,
    "start_time": "2025-02-16T17:20:32.216Z"
   },
   {
    "duration": 3,
    "start_time": "2025-02-16T17:20:40.476Z"
   },
   {
    "duration": 115,
    "start_time": "2025-02-16T17:20:44.407Z"
   },
   {
    "duration": 117,
    "start_time": "2025-02-16T17:21:13.550Z"
   },
   {
    "duration": 858,
    "start_time": "2025-02-16T17:21:28.863Z"
   },
   {
    "duration": 74,
    "start_time": "2025-02-16T17:21:29.723Z"
   },
   {
    "duration": 7,
    "start_time": "2025-02-16T17:21:29.798Z"
   },
   {
    "duration": 94,
    "start_time": "2025-02-16T17:21:29.807Z"
   },
   {
    "duration": 86,
    "start_time": "2025-02-16T17:21:29.903Z"
   },
   {
    "duration": 41,
    "start_time": "2025-02-16T17:21:29.991Z"
   },
   {
    "duration": 12,
    "start_time": "2025-02-16T17:21:30.034Z"
   },
   {
    "duration": 5,
    "start_time": "2025-02-16T17:21:30.048Z"
   },
   {
    "duration": 21,
    "start_time": "2025-02-16T17:21:30.055Z"
   },
   {
    "duration": 16,
    "start_time": "2025-02-16T17:21:30.078Z"
   },
   {
    "duration": 4,
    "start_time": "2025-02-16T17:21:30.095Z"
   },
   {
    "duration": 6,
    "start_time": "2025-02-16T17:21:30.131Z"
   },
   {
    "duration": 3,
    "start_time": "2025-02-16T17:21:30.139Z"
   },
   {
    "duration": 4,
    "start_time": "2025-02-16T17:21:30.146Z"
   },
   {
    "duration": 775,
    "start_time": "2025-02-16T17:21:30.151Z"
   },
   {
    "duration": 722,
    "start_time": "2025-02-16T17:21:30.930Z"
   },
   {
    "duration": 10,
    "start_time": "2025-02-16T17:21:31.654Z"
   },
   {
    "duration": 6,
    "start_time": "2025-02-16T17:21:31.666Z"
   },
   {
    "duration": 6,
    "start_time": "2025-02-16T17:21:31.674Z"
   },
   {
    "duration": 6,
    "start_time": "2025-02-16T17:21:31.682Z"
   },
   {
    "duration": 42,
    "start_time": "2025-02-16T17:21:31.689Z"
   },
   {
    "duration": 7,
    "start_time": "2025-02-16T17:21:31.734Z"
   },
   {
    "duration": 18,
    "start_time": "2025-02-16T17:21:31.743Z"
   },
   {
    "duration": 17,
    "start_time": "2025-02-16T17:21:31.763Z"
   },
   {
    "duration": 60,
    "start_time": "2025-02-16T17:21:31.782Z"
   },
   {
    "duration": 13,
    "start_time": "2025-02-16T17:21:31.844Z"
   },
   {
    "duration": 5,
    "start_time": "2025-02-16T17:21:31.858Z"
   },
   {
    "duration": 75,
    "start_time": "2025-02-16T17:21:31.864Z"
   },
   {
    "duration": 12,
    "start_time": "2025-02-16T17:21:31.942Z"
   },
   {
    "duration": 59,
    "start_time": "2025-02-16T17:21:31.956Z"
   },
   {
    "duration": 190,
    "start_time": "2025-02-16T17:21:32.017Z"
   },
   {
    "duration": 118,
    "start_time": "2025-02-16T17:21:32.209Z"
   },
   {
    "duration": 123,
    "start_time": "2025-02-16T17:21:32.331Z"
   },
   {
    "duration": 5,
    "start_time": "2025-02-16T17:21:32.457Z"
   },
   {
    "duration": 195,
    "start_time": "2025-02-16T17:21:55.788Z"
   },
   {
    "duration": 203,
    "start_time": "2025-02-16T17:22:09.341Z"
   },
   {
    "duration": 344,
    "start_time": "2025-02-16T17:22:16.036Z"
   },
   {
    "duration": 218,
    "start_time": "2025-02-16T17:22:21.235Z"
   },
   {
    "duration": 230,
    "start_time": "2025-02-16T17:22:28.077Z"
   },
   {
    "duration": 264,
    "start_time": "2025-02-16T17:22:32.529Z"
   },
   {
    "duration": 238,
    "start_time": "2025-02-16T17:22:39.434Z"
   },
   {
    "duration": 219,
    "start_time": "2025-02-16T17:22:43.776Z"
   },
   {
    "duration": 216,
    "start_time": "2025-02-16T17:22:55.800Z"
   },
   {
    "duration": 4,
    "start_time": "2025-02-16T17:22:58.592Z"
   },
   {
    "duration": 4,
    "start_time": "2025-02-16T17:24:08.167Z"
   },
   {
    "duration": 4,
    "start_time": "2025-02-16T17:24:14.282Z"
   },
   {
    "duration": 5,
    "start_time": "2025-02-16T17:24:18.485Z"
   },
   {
    "duration": 4,
    "start_time": "2025-02-16T17:24:31.691Z"
   },
   {
    "duration": 14,
    "start_time": "2025-02-16T17:24:37.430Z"
   },
   {
    "duration": 14,
    "start_time": "2025-02-16T17:24:41.700Z"
   },
   {
    "duration": 13,
    "start_time": "2025-02-16T17:24:45.227Z"
   },
   {
    "duration": 5,
    "start_time": "2025-02-16T17:25:29.151Z"
   },
   {
    "duration": 59,
    "start_time": "2025-02-16T17:27:29.104Z"
   },
   {
    "duration": 8,
    "start_time": "2025-02-16T17:27:38.596Z"
   },
   {
    "duration": 13,
    "start_time": "2025-02-16T17:28:02.062Z"
   },
   {
    "duration": 18,
    "start_time": "2025-02-16T17:28:16.507Z"
   },
   {
    "duration": 19,
    "start_time": "2025-02-16T17:28:18.941Z"
   },
   {
    "duration": 17,
    "start_time": "2025-02-16T17:28:20.473Z"
   },
   {
    "duration": 10,
    "start_time": "2025-02-16T17:28:23.936Z"
   },
   {
    "duration": 7,
    "start_time": "2025-02-16T17:29:23.067Z"
   },
   {
    "duration": 4,
    "start_time": "2025-02-16T17:29:29.346Z"
   },
   {
    "duration": 7,
    "start_time": "2025-02-16T17:30:05.561Z"
   },
   {
    "duration": 5,
    "start_time": "2025-02-16T17:30:09.094Z"
   },
   {
    "duration": 3,
    "start_time": "2025-02-16T17:30:14.643Z"
   },
   {
    "duration": 4,
    "start_time": "2025-02-16T17:30:23.163Z"
   },
   {
    "duration": 4,
    "start_time": "2025-02-16T17:30:34.009Z"
   },
   {
    "duration": 4,
    "start_time": "2025-02-16T17:30:36.216Z"
   },
   {
    "duration": 126,
    "start_time": "2025-02-16T17:31:52.990Z"
   },
   {
    "duration": 4,
    "start_time": "2025-02-16T17:32:31.285Z"
   },
   {
    "duration": 4,
    "start_time": "2025-02-16T17:32:36.657Z"
   },
   {
    "duration": 4,
    "start_time": "2025-02-16T17:32:43.961Z"
   },
   {
    "duration": 4,
    "start_time": "2025-02-16T17:34:30.438Z"
   },
   {
    "duration": 85,
    "start_time": "2025-02-16T17:34:46.347Z"
   },
   {
    "duration": 13,
    "start_time": "2025-02-16T17:34:51.706Z"
   },
   {
    "duration": 15,
    "start_time": "2025-02-16T17:34:58.100Z"
   },
   {
    "duration": 47,
    "start_time": "2025-02-16T17:35:02.926Z"
   },
   {
    "duration": 5,
    "start_time": "2025-02-16T17:35:10.471Z"
   },
   {
    "duration": 4,
    "start_time": "2025-02-16T17:35:29.702Z"
   },
   {
    "duration": 863,
    "start_time": "2025-02-16T17:39:09.125Z"
   },
   {
    "duration": 77,
    "start_time": "2025-02-16T17:39:09.990Z"
   },
   {
    "duration": 7,
    "start_time": "2025-02-16T17:39:10.069Z"
   },
   {
    "duration": 89,
    "start_time": "2025-02-16T17:39:10.079Z"
   },
   {
    "duration": 77,
    "start_time": "2025-02-16T17:39:10.170Z"
   },
   {
    "duration": 35,
    "start_time": "2025-02-16T17:39:10.249Z"
   },
   {
    "duration": 12,
    "start_time": "2025-02-16T17:39:10.285Z"
   },
   {
    "duration": 5,
    "start_time": "2025-02-16T17:39:10.299Z"
   },
   {
    "duration": 45,
    "start_time": "2025-02-16T17:39:10.305Z"
   },
   {
    "duration": 16,
    "start_time": "2025-02-16T17:39:10.354Z"
   },
   {
    "duration": 4,
    "start_time": "2025-02-16T17:39:10.372Z"
   },
   {
    "duration": 6,
    "start_time": "2025-02-16T17:39:10.378Z"
   },
   {
    "duration": 5,
    "start_time": "2025-02-16T17:39:10.386Z"
   },
   {
    "duration": 39,
    "start_time": "2025-02-16T17:39:10.392Z"
   },
   {
    "duration": 761,
    "start_time": "2025-02-16T17:39:10.435Z"
   },
   {
    "duration": 766,
    "start_time": "2025-02-16T17:39:11.198Z"
   },
   {
    "duration": 10,
    "start_time": "2025-02-16T17:39:11.966Z"
   },
   {
    "duration": 6,
    "start_time": "2025-02-16T17:39:11.978Z"
   },
   {
    "duration": 6,
    "start_time": "2025-02-16T17:39:11.985Z"
   },
   {
    "duration": 7,
    "start_time": "2025-02-16T17:39:11.992Z"
   },
   {
    "duration": 39,
    "start_time": "2025-02-16T17:39:12.000Z"
   },
   {
    "duration": 7,
    "start_time": "2025-02-16T17:39:12.041Z"
   },
   {
    "duration": 17,
    "start_time": "2025-02-16T17:39:12.049Z"
   },
   {
    "duration": 15,
    "start_time": "2025-02-16T17:39:12.068Z"
   },
   {
    "duration": 62,
    "start_time": "2025-02-16T17:39:12.084Z"
   },
   {
    "duration": 13,
    "start_time": "2025-02-16T17:39:12.147Z"
   },
   {
    "duration": 6,
    "start_time": "2025-02-16T17:39:12.161Z"
   },
   {
    "duration": 61,
    "start_time": "2025-02-16T17:39:12.171Z"
   },
   {
    "duration": 8,
    "start_time": "2025-02-16T17:39:12.234Z"
   },
   {
    "duration": 45,
    "start_time": "2025-02-16T17:39:12.243Z"
   },
   {
    "duration": 196,
    "start_time": "2025-02-16T17:39:12.290Z"
   },
   {
    "duration": 129,
    "start_time": "2025-02-16T17:39:12.488Z"
   },
   {
    "duration": 227,
    "start_time": "2025-02-16T17:39:12.619Z"
   },
   {
    "duration": 5,
    "start_time": "2025-02-16T17:39:12.848Z"
   },
   {
    "duration": 90,
    "start_time": "2025-02-16T17:39:42.081Z"
   },
   {
    "duration": 158,
    "start_time": "2025-02-16T17:39:56.735Z"
   },
   {
    "duration": 305,
    "start_time": "2025-02-16T17:43:36.665Z"
   },
   {
    "duration": 112,
    "start_time": "2025-02-16T17:43:53.329Z"
   },
   {
    "duration": 229,
    "start_time": "2025-02-16T17:44:01.562Z"
   },
   {
    "duration": 107,
    "start_time": "2025-02-16T17:45:31.333Z"
   },
   {
    "duration": 123,
    "start_time": "2025-02-16T17:45:35.613Z"
   },
   {
    "duration": 116,
    "start_time": "2025-02-16T17:45:40.924Z"
   },
   {
    "duration": 110,
    "start_time": "2025-02-16T17:45:49.490Z"
   },
   {
    "duration": 5,
    "start_time": "2025-02-16T17:51:04.200Z"
   },
   {
    "duration": 10,
    "start_time": "2025-02-16T17:51:11.171Z"
   },
   {
    "duration": 6,
    "start_time": "2025-02-16T17:52:57.063Z"
   },
   {
    "duration": 11,
    "start_time": "2025-02-16T17:53:03.739Z"
   },
   {
    "duration": 155,
    "start_time": "2025-02-16T17:53:53.261Z"
   },
   {
    "duration": 100,
    "start_time": "2025-02-16T17:54:23.495Z"
   },
   {
    "duration": 112,
    "start_time": "2025-02-16T17:54:52.918Z"
   },
   {
    "duration": 105,
    "start_time": "2025-02-16T17:55:38.933Z"
   },
   {
    "duration": 149,
    "start_time": "2025-02-16T17:58:52.848Z"
   },
   {
    "duration": 19,
    "start_time": "2025-02-16T17:59:37.519Z"
   },
   {
    "duration": 124,
    "start_time": "2025-02-16T17:59:44.687Z"
   },
   {
    "duration": 5,
    "start_time": "2025-02-16T18:00:06.280Z"
   },
   {
    "duration": 169,
    "start_time": "2025-02-16T18:00:10.863Z"
   },
   {
    "duration": 131,
    "start_time": "2025-02-16T18:00:16.729Z"
   },
   {
    "duration": 127,
    "start_time": "2025-02-16T18:00:21.918Z"
   },
   {
    "duration": 21,
    "start_time": "2025-02-16T18:00:34.333Z"
   },
   {
    "duration": 119,
    "start_time": "2025-02-16T18:00:44.943Z"
   },
   {
    "duration": 128,
    "start_time": "2025-02-16T18:00:59.663Z"
   },
   {
    "duration": 122,
    "start_time": "2025-02-16T18:01:09.214Z"
   },
   {
    "duration": 116,
    "start_time": "2025-02-16T18:01:13.272Z"
   },
   {
    "duration": 135,
    "start_time": "2025-02-16T18:01:37.590Z"
   },
   {
    "duration": 10,
    "start_time": "2025-02-16T18:01:47.387Z"
   },
   {
    "duration": 273,
    "start_time": "2025-02-16T18:01:50.445Z"
   },
   {
    "duration": 141,
    "start_time": "2025-02-16T18:02:13.898Z"
   },
   {
    "duration": 153,
    "start_time": "2025-02-16T18:02:21.997Z"
   },
   {
    "duration": 150,
    "start_time": "2025-02-16T18:02:34.252Z"
   },
   {
    "duration": 126,
    "start_time": "2025-02-16T18:02:41.596Z"
   },
   {
    "duration": 125,
    "start_time": "2025-02-16T18:02:47.783Z"
   },
   {
    "duration": 146,
    "start_time": "2025-02-16T18:02:53.501Z"
   },
   {
    "duration": 129,
    "start_time": "2025-02-16T18:03:10.462Z"
   },
   {
    "duration": 135,
    "start_time": "2025-02-16T18:03:41.692Z"
   },
   {
    "duration": 165,
    "start_time": "2025-02-16T18:03:56.792Z"
   },
   {
    "duration": 145,
    "start_time": "2025-02-16T18:07:50.195Z"
   },
   {
    "duration": 172,
    "start_time": "2025-02-16T18:07:57.198Z"
   },
   {
    "duration": 6,
    "start_time": "2025-02-16T18:08:18.681Z"
   },
   {
    "duration": 136,
    "start_time": "2025-02-16T18:08:22.176Z"
   },
   {
    "duration": 217,
    "start_time": "2025-02-16T18:08:34.305Z"
   },
   {
    "duration": 675,
    "start_time": "2025-02-16T18:08:59.235Z"
   },
   {
    "duration": 153,
    "start_time": "2025-02-16T18:09:59.011Z"
   },
   {
    "duration": 187,
    "start_time": "2025-02-16T18:10:14.451Z"
   },
   {
    "duration": 146,
    "start_time": "2025-02-16T18:10:17.388Z"
   },
   {
    "duration": 172,
    "start_time": "2025-02-16T18:10:40.790Z"
   },
   {
    "duration": 12,
    "start_time": "2025-02-16T18:20:57.081Z"
   },
   {
    "duration": 37,
    "start_time": "2025-02-16T18:21:49.645Z"
   },
   {
    "duration": 256,
    "start_time": "2025-02-16T18:22:14.652Z"
   },
   {
    "duration": 107,
    "start_time": "2025-02-16T18:22:20.370Z"
   },
   {
    "duration": 52,
    "start_time": "2025-02-16T18:22:24.260Z"
   },
   {
    "duration": 49,
    "start_time": "2025-02-16T18:22:47.523Z"
   },
   {
    "duration": 38,
    "start_time": "2025-02-16T18:22:52.861Z"
   },
   {
    "duration": 39,
    "start_time": "2025-02-16T18:22:58.911Z"
   },
   {
    "duration": 39,
    "start_time": "2025-02-16T18:23:01.827Z"
   },
   {
    "duration": 42,
    "start_time": "2025-02-16T18:23:08.048Z"
   },
   {
    "duration": 53,
    "start_time": "2025-02-16T18:23:21.458Z"
   },
   {
    "duration": 38,
    "start_time": "2025-02-16T18:23:31.184Z"
   },
   {
    "duration": 49,
    "start_time": "2025-02-16T18:23:49.997Z"
   },
   {
    "duration": 39,
    "start_time": "2025-02-16T18:24:08.941Z"
   },
   {
    "duration": 9,
    "start_time": "2025-02-16T18:24:15.125Z"
   },
   {
    "duration": 48,
    "start_time": "2025-02-16T18:25:16.025Z"
   },
   {
    "duration": 6,
    "start_time": "2025-02-16T18:25:35.784Z"
   },
   {
    "duration": 4,
    "start_time": "2025-02-16T18:25:41.706Z"
   },
   {
    "duration": 12,
    "start_time": "2025-02-16T18:25:49.070Z"
   },
   {
    "duration": 73,
    "start_time": "2025-02-16T18:26:03.528Z"
   },
   {
    "duration": 82,
    "start_time": "2025-02-16T18:26:13.151Z"
   },
   {
    "duration": 41,
    "start_time": "2025-02-16T18:27:35.283Z"
   },
   {
    "duration": 60,
    "start_time": "2025-02-16T18:28:07.441Z"
   },
   {
    "duration": 3,
    "start_time": "2025-02-16T18:28:29.279Z"
   },
   {
    "duration": 47,
    "start_time": "2025-02-16T18:28:31.469Z"
   },
   {
    "duration": 49,
    "start_time": "2025-02-16T18:28:42.674Z"
   },
   {
    "duration": 57,
    "start_time": "2025-02-16T18:28:48.218Z"
   },
   {
    "duration": 3,
    "start_time": "2025-02-16T18:28:51.654Z"
   },
   {
    "duration": 43,
    "start_time": "2025-02-16T18:28:53.348Z"
   },
   {
    "duration": 36,
    "start_time": "2025-02-16T18:29:04.083Z"
   },
   {
    "duration": 49,
    "start_time": "2025-02-16T18:29:21.055Z"
   },
   {
    "duration": 38,
    "start_time": "2025-02-16T18:29:27.474Z"
   },
   {
    "duration": 39,
    "start_time": "2025-02-16T18:29:35.552Z"
   },
   {
    "duration": 48,
    "start_time": "2025-02-16T18:29:41.265Z"
   },
   {
    "duration": 39,
    "start_time": "2025-02-16T18:29:48.578Z"
   },
   {
    "duration": 38,
    "start_time": "2025-02-16T18:29:59.280Z"
   },
   {
    "duration": 41,
    "start_time": "2025-02-16T18:30:08.479Z"
   },
   {
    "duration": 129,
    "start_time": "2025-02-16T18:30:43.194Z"
   },
   {
    "duration": 55,
    "start_time": "2025-02-16T18:31:10.722Z"
   },
   {
    "duration": 62,
    "start_time": "2025-02-16T18:31:47.379Z"
   },
   {
    "duration": 56,
    "start_time": "2025-02-16T18:32:03.604Z"
   },
   {
    "duration": 6,
    "start_time": "2025-02-16T18:32:15.459Z"
   },
   {
    "duration": 11,
    "start_time": "2025-02-16T18:32:25.748Z"
   },
   {
    "duration": 47,
    "start_time": "2025-02-16T18:33:39.026Z"
   },
   {
    "duration": 10,
    "start_time": "2025-02-16T18:34:19.129Z"
   },
   {
    "duration": 14,
    "start_time": "2025-02-16T18:34:34.934Z"
   },
   {
    "duration": 11,
    "start_time": "2025-02-16T18:34:45.519Z"
   },
   {
    "duration": 69,
    "start_time": "2025-02-16T18:36:03.469Z"
   },
   {
    "duration": 9,
    "start_time": "2025-02-16T18:36:25.431Z"
   },
   {
    "duration": 52,
    "start_time": "2025-02-16T18:36:40.956Z"
   },
   {
    "duration": 13,
    "start_time": "2025-02-16T18:36:52.916Z"
   },
   {
    "duration": 55,
    "start_time": "2025-02-16T18:38:34.055Z"
   },
   {
    "duration": 44,
    "start_time": "2025-02-16T18:38:41.555Z"
   },
   {
    "duration": 46,
    "start_time": "2025-02-16T18:39:00.669Z"
   },
   {
    "duration": 11,
    "start_time": "2025-02-16T18:39:04.812Z"
   },
   {
    "duration": 15,
    "start_time": "2025-02-16T18:39:15.043Z"
   },
   {
    "duration": 9,
    "start_time": "2025-02-16T18:39:21.894Z"
   },
   {
    "duration": 8,
    "start_time": "2025-02-16T18:40:19.367Z"
   },
   {
    "duration": 13,
    "start_time": "2025-02-16T18:40:47.966Z"
   },
   {
    "duration": 42,
    "start_time": "2025-02-16T18:42:15.011Z"
   },
   {
    "duration": 42,
    "start_time": "2025-02-16T18:42:19.556Z"
   },
   {
    "duration": 50,
    "start_time": "2025-02-16T18:42:23.648Z"
   },
   {
    "duration": 43,
    "start_time": "2025-02-16T18:42:28.992Z"
   },
   {
    "duration": 49,
    "start_time": "2025-02-16T18:42:35.315Z"
   },
   {
    "duration": 107,
    "start_time": "2025-02-16T18:43:25.379Z"
   },
   {
    "duration": 13,
    "start_time": "2025-02-16T18:45:59.452Z"
   },
   {
    "duration": 29,
    "start_time": "2025-02-16T18:47:21.417Z"
   },
   {
    "duration": 31,
    "start_time": "2025-02-16T18:47:28.728Z"
   },
   {
    "duration": 42,
    "start_time": "2025-02-16T18:49:50.200Z"
   },
   {
    "duration": 57,
    "start_time": "2025-02-16T18:50:01.800Z"
   },
   {
    "duration": 1673,
    "start_time": "2025-02-16T18:52:56.581Z"
   },
   {
    "duration": 104,
    "start_time": "2025-02-16T18:52:58.256Z"
   },
   {
    "duration": 10,
    "start_time": "2025-02-16T18:52:58.362Z"
   },
   {
    "duration": 212,
    "start_time": "2025-02-16T18:52:58.375Z"
   },
   {
    "duration": 125,
    "start_time": "2025-02-16T18:52:58.590Z"
   },
   {
    "duration": 70,
    "start_time": "2025-02-16T18:52:58.717Z"
   },
   {
    "duration": 13,
    "start_time": "2025-02-16T18:52:58.788Z"
   },
   {
    "duration": 6,
    "start_time": "2025-02-16T18:52:58.803Z"
   },
   {
    "duration": 38,
    "start_time": "2025-02-16T18:52:58.812Z"
   },
   {
    "duration": 16,
    "start_time": "2025-02-16T18:52:58.852Z"
   },
   {
    "duration": 4,
    "start_time": "2025-02-16T18:52:58.870Z"
   },
   {
    "duration": 5,
    "start_time": "2025-02-16T18:52:58.876Z"
   },
   {
    "duration": 4,
    "start_time": "2025-02-16T18:52:58.884Z"
   },
   {
    "duration": 5,
    "start_time": "2025-02-16T18:52:58.892Z"
   },
   {
    "duration": 800,
    "start_time": "2025-02-16T18:52:58.932Z"
   },
   {
    "duration": 832,
    "start_time": "2025-02-16T18:52:59.734Z"
   },
   {
    "duration": 12,
    "start_time": "2025-02-16T18:53:00.569Z"
   },
   {
    "duration": 7,
    "start_time": "2025-02-16T18:53:00.583Z"
   },
   {
    "duration": 7,
    "start_time": "2025-02-16T18:53:00.592Z"
   },
   {
    "duration": 34,
    "start_time": "2025-02-16T18:53:00.600Z"
   },
   {
    "duration": 16,
    "start_time": "2025-02-16T18:53:00.636Z"
   },
   {
    "duration": 8,
    "start_time": "2025-02-16T18:53:00.654Z"
   },
   {
    "duration": 18,
    "start_time": "2025-02-16T18:53:00.664Z"
   },
   {
    "duration": 18,
    "start_time": "2025-02-16T18:53:00.684Z"
   },
   {
    "duration": 32,
    "start_time": "2025-02-16T18:53:00.732Z"
   },
   {
    "duration": 14,
    "start_time": "2025-02-16T18:53:00.766Z"
   },
   {
    "duration": 7,
    "start_time": "2025-02-16T18:53:00.783Z"
   },
   {
    "duration": 69,
    "start_time": "2025-02-16T18:53:00.792Z"
   },
   {
    "duration": 7,
    "start_time": "2025-02-16T18:53:00.863Z"
   },
   {
    "duration": 69,
    "start_time": "2025-02-16T18:53:00.872Z"
   },
   {
    "duration": 193,
    "start_time": "2025-02-16T18:53:00.944Z"
   },
   {
    "duration": 165,
    "start_time": "2025-02-16T18:53:01.139Z"
   },
   {
    "duration": 250,
    "start_time": "2025-02-16T18:53:01.306Z"
   },
   {
    "duration": 5,
    "start_time": "2025-02-16T18:53:01.558Z"
   },
   {
    "duration": 223,
    "start_time": "2025-02-16T18:53:01.565Z"
   },
   {
    "duration": 184,
    "start_time": "2025-02-16T18:53:01.791Z"
   },
   {
    "duration": 46,
    "start_time": "2025-02-16T18:54:17.315Z"
   },
   {
    "duration": 44,
    "start_time": "2025-02-16T18:55:14.548Z"
   },
   {
    "duration": 56,
    "start_time": "2025-02-16T18:55:34.316Z"
   },
   {
    "duration": 129,
    "start_time": "2025-02-16T18:57:26.294Z"
   },
   {
    "duration": 163,
    "start_time": "2025-02-16T18:57:37.350Z"
   },
   {
    "duration": 231,
    "start_time": "2025-02-16T18:58:05.633Z"
   },
   {
    "duration": 1494,
    "start_time": "2025-02-16T18:59:19.896Z"
   },
   {
    "duration": 216,
    "start_time": "2025-02-16T18:59:24.664Z"
   },
   {
    "duration": 8,
    "start_time": "2025-02-16T19:00:03.585Z"
   },
   {
    "duration": 282,
    "start_time": "2025-02-16T19:00:17.927Z"
   },
   {
    "duration": 308,
    "start_time": "2025-02-16T19:03:03.324Z"
   },
   {
    "duration": 295,
    "start_time": "2025-02-16T19:03:43.199Z"
   },
   {
    "duration": 226,
    "start_time": "2025-02-16T19:03:50.562Z"
   },
   {
    "duration": 306,
    "start_time": "2025-02-16T19:04:17.613Z"
   },
   {
    "duration": 413,
    "start_time": "2025-02-16T19:05:10.650Z"
   },
   {
    "duration": 192,
    "start_time": "2025-02-16T19:22:15.562Z"
   },
   {
    "duration": 22,
    "start_time": "2025-02-16T19:23:02.748Z"
   },
   {
    "duration": 5,
    "start_time": "2025-02-16T19:25:15.432Z"
   },
   {
    "duration": 4,
    "start_time": "2025-02-16T19:25:34.992Z"
   },
   {
    "duration": 49,
    "start_time": "2025-02-16T19:25:50.249Z"
   },
   {
    "duration": 62,
    "start_time": "2025-02-16T19:26:13.886Z"
   },
   {
    "duration": 44,
    "start_time": "2025-02-16T19:26:27.377Z"
   },
   {
    "duration": 409,
    "start_time": "2025-02-16T19:26:50.733Z"
   },
   {
    "duration": 96,
    "start_time": "2025-02-16T19:27:03.640Z"
   },
   {
    "duration": 51,
    "start_time": "2025-02-16T19:27:30.251Z"
   },
   {
    "duration": 6,
    "start_time": "2025-02-16T19:28:10.649Z"
   },
   {
    "duration": 3,
    "start_time": "2025-02-16T19:28:39.916Z"
   },
   {
    "duration": 320,
    "start_time": "2025-02-16T19:29:05.283Z"
   },
   {
    "duration": 5,
    "start_time": "2025-02-16T19:29:34.490Z"
   },
   {
    "duration": 10,
    "start_time": "2025-02-16T19:29:43.088Z"
   },
   {
    "duration": 11,
    "start_time": "2025-02-16T19:29:48.647Z"
   },
   {
    "duration": 10,
    "start_time": "2025-02-16T19:29:59.630Z"
   },
   {
    "duration": 27,
    "start_time": "2025-02-16T19:30:38.439Z"
   },
   {
    "duration": 17,
    "start_time": "2025-02-16T19:31:21.903Z"
   },
   {
    "duration": 9,
    "start_time": "2025-02-16T19:32:40.372Z"
   },
   {
    "duration": 395,
    "start_time": "2025-02-16T19:33:02.690Z"
   },
   {
    "duration": 71,
    "start_time": "2025-02-16T19:33:30.858Z"
   },
   {
    "duration": 13,
    "start_time": "2025-02-16T19:33:52.644Z"
   },
   {
    "duration": 22,
    "start_time": "2025-02-16T19:35:48.033Z"
   },
   {
    "duration": 21,
    "start_time": "2025-02-16T19:36:52.339Z"
   },
   {
    "duration": 17,
    "start_time": "2025-02-16T19:37:09.338Z"
   },
   {
    "duration": 10,
    "start_time": "2025-02-16T19:37:23.048Z"
   },
   {
    "duration": 9,
    "start_time": "2025-02-16T19:47:37.532Z"
   },
   {
    "duration": 9,
    "start_time": "2025-02-16T19:47:46.496Z"
   },
   {
    "duration": 140,
    "start_time": "2025-02-16T19:48:13.786Z"
   },
   {
    "duration": 48,
    "start_time": "2025-02-16T19:48:43.856Z"
   },
   {
    "duration": 57,
    "start_time": "2025-02-16T19:49:57.750Z"
   },
   {
    "duration": 54,
    "start_time": "2025-02-16T19:50:01.062Z"
   },
   {
    "duration": 319,
    "start_time": "2025-02-16T19:50:24.349Z"
   },
   {
    "duration": 56,
    "start_time": "2025-02-16T19:50:39.242Z"
   },
   {
    "duration": 225,
    "start_time": "2025-02-16T19:51:38.474Z"
   },
   {
    "duration": 60,
    "start_time": "2025-02-16T19:52:03.918Z"
   },
   {
    "duration": 63,
    "start_time": "2025-02-16T19:52:34.737Z"
   },
   {
    "duration": 62,
    "start_time": "2025-02-16T19:52:40.704Z"
   },
   {
    "duration": 56,
    "start_time": "2025-02-16T19:52:50.107Z"
   },
   {
    "duration": 39,
    "start_time": "2025-02-16T19:53:22.345Z"
   },
   {
    "duration": 266,
    "start_time": "2025-02-16T19:53:50.178Z"
   },
   {
    "duration": 251,
    "start_time": "2025-02-16T19:54:00.204Z"
   },
   {
    "duration": 40,
    "start_time": "2025-02-16T19:54:14.123Z"
   },
   {
    "duration": 44,
    "start_time": "2025-02-16T19:54:20.417Z"
   },
   {
    "duration": 1007,
    "start_time": "2025-02-16T19:54:29.899Z"
   },
   {
    "duration": 84,
    "start_time": "2025-02-16T19:54:30.908Z"
   },
   {
    "duration": 8,
    "start_time": "2025-02-16T19:54:30.994Z"
   },
   {
    "duration": 182,
    "start_time": "2025-02-16T19:54:31.004Z"
   },
   {
    "duration": 114,
    "start_time": "2025-02-16T19:54:31.189Z"
   },
   {
    "duration": 56,
    "start_time": "2025-02-16T19:54:31.304Z"
   },
   {
    "duration": 13,
    "start_time": "2025-02-16T19:54:31.362Z"
   },
   {
    "duration": 8,
    "start_time": "2025-02-16T19:54:31.378Z"
   },
   {
    "duration": 25,
    "start_time": "2025-02-16T19:54:31.388Z"
   },
   {
    "duration": 30,
    "start_time": "2025-02-16T19:54:31.415Z"
   },
   {
    "duration": 4,
    "start_time": "2025-02-16T19:54:31.447Z"
   },
   {
    "duration": 5,
    "start_time": "2025-02-16T19:54:31.453Z"
   },
   {
    "duration": 5,
    "start_time": "2025-02-16T19:54:31.459Z"
   },
   {
    "duration": 4,
    "start_time": "2025-02-16T19:54:31.468Z"
   },
   {
    "duration": 841,
    "start_time": "2025-02-16T19:54:31.474Z"
   },
   {
    "duration": 837,
    "start_time": "2025-02-16T19:54:32.317Z"
   },
   {
    "duration": 10,
    "start_time": "2025-02-16T19:54:33.156Z"
   },
   {
    "duration": 8,
    "start_time": "2025-02-16T19:54:33.167Z"
   },
   {
    "duration": 6,
    "start_time": "2025-02-16T19:54:33.177Z"
   },
   {
    "duration": 7,
    "start_time": "2025-02-16T19:54:33.185Z"
   },
   {
    "duration": 40,
    "start_time": "2025-02-16T19:54:33.194Z"
   },
   {
    "duration": 8,
    "start_time": "2025-02-16T19:54:33.236Z"
   },
   {
    "duration": 23,
    "start_time": "2025-02-16T19:54:33.246Z"
   },
   {
    "duration": 24,
    "start_time": "2025-02-16T19:54:33.271Z"
   },
   {
    "duration": 61,
    "start_time": "2025-02-16T19:54:33.297Z"
   },
   {
    "duration": 13,
    "start_time": "2025-02-16T19:54:33.360Z"
   },
   {
    "duration": 7,
    "start_time": "2025-02-16T19:54:33.375Z"
   },
   {
    "duration": 59,
    "start_time": "2025-02-16T19:54:33.384Z"
   },
   {
    "duration": 8,
    "start_time": "2025-02-16T19:54:33.445Z"
   },
   {
    "duration": 45,
    "start_time": "2025-02-16T19:54:33.455Z"
   },
   {
    "duration": 198,
    "start_time": "2025-02-16T19:54:33.503Z"
   },
   {
    "duration": 121,
    "start_time": "2025-02-16T19:54:33.703Z"
   },
   {
    "duration": 234,
    "start_time": "2025-02-16T19:54:33.826Z"
   },
   {
    "duration": 5,
    "start_time": "2025-02-16T19:54:34.063Z"
   },
   {
    "duration": 243,
    "start_time": "2025-02-16T19:54:34.070Z"
   },
   {
    "duration": 43,
    "start_time": "2025-02-16T19:54:34.315Z"
   },
   {
    "duration": 3,
    "start_time": "2025-02-16T19:54:34.360Z"
   },
   {
    "duration": 69,
    "start_time": "2025-02-16T19:54:34.364Z"
   },
   {
    "duration": 50,
    "start_time": "2025-02-16T19:54:55.576Z"
   },
   {
    "duration": 50,
    "start_time": "2025-02-16T19:55:01.769Z"
   },
   {
    "duration": 168,
    "start_time": "2025-02-16T19:55:22.791Z"
   },
   {
    "duration": 344,
    "start_time": "2025-02-16T19:56:21.320Z"
   },
   {
    "duration": 155,
    "start_time": "2025-02-16T19:56:48.912Z"
   },
   {
    "duration": 145,
    "start_time": "2025-02-16T19:57:12.805Z"
   },
   {
    "duration": 168,
    "start_time": "2025-02-16T19:57:17.577Z"
   },
   {
    "duration": 43,
    "start_time": "2025-02-16T19:58:08.101Z"
   },
   {
    "duration": 38,
    "start_time": "2025-02-16T19:58:14.443Z"
   },
   {
    "duration": 154,
    "start_time": "2025-02-16T19:58:59.243Z"
   },
   {
    "duration": 181,
    "start_time": "2025-02-16T20:02:27.383Z"
   },
   {
    "duration": 192,
    "start_time": "2025-02-16T20:02:41.361Z"
   },
   {
    "duration": 130,
    "start_time": "2025-02-16T20:03:02.844Z"
   },
   {
    "duration": 223,
    "start_time": "2025-02-16T20:09:19.230Z"
   },
   {
    "duration": 261,
    "start_time": "2025-02-16T20:09:45.951Z"
   },
   {
    "duration": 312,
    "start_time": "2025-02-16T20:10:18.170Z"
   },
   {
    "duration": 260,
    "start_time": "2025-02-16T20:10:49.726Z"
   },
   {
    "duration": 212,
    "start_time": "2025-02-16T20:10:58.276Z"
   },
   {
    "duration": 234,
    "start_time": "2025-02-16T20:11:35.302Z"
   },
   {
    "duration": 167,
    "start_time": "2025-02-16T20:13:58.377Z"
   },
   {
    "duration": 227,
    "start_time": "2025-02-16T20:15:45.183Z"
   },
   {
    "duration": 235,
    "start_time": "2025-02-16T20:16:35.399Z"
   },
   {
    "duration": 217,
    "start_time": "2025-02-16T20:17:06.697Z"
   },
   {
    "duration": 218,
    "start_time": "2025-02-16T20:17:20.490Z"
   },
   {
    "duration": 59,
    "start_time": "2025-02-16T20:17:34.819Z"
   },
   {
    "duration": 211,
    "start_time": "2025-02-16T20:17:53.997Z"
   },
   {
    "duration": 278,
    "start_time": "2025-02-16T20:18:02.630Z"
   },
   {
    "duration": 437,
    "start_time": "2025-02-16T20:18:12.568Z"
   },
   {
    "duration": 10,
    "start_time": "2025-02-16T20:18:46.698Z"
   },
   {
    "duration": 14,
    "start_time": "2025-02-16T20:19:08.548Z"
   },
   {
    "duration": 8,
    "start_time": "2025-02-16T20:20:20.468Z"
   },
   {
    "duration": 10,
    "start_time": "2025-02-16T20:20:24.020Z"
   },
   {
    "duration": 160,
    "start_time": "2025-02-16T20:22:30.223Z"
   },
   {
    "duration": 143,
    "start_time": "2025-02-16T20:22:37.625Z"
   },
   {
    "duration": 146,
    "start_time": "2025-02-16T20:22:45.135Z"
   },
   {
    "duration": 12,
    "start_time": "2025-02-16T20:22:58.787Z"
   },
   {
    "duration": 12,
    "start_time": "2025-02-16T20:23:25.906Z"
   },
   {
    "duration": 135,
    "start_time": "2025-02-16T20:24:03.675Z"
   },
   {
    "duration": 139,
    "start_time": "2025-02-16T20:24:12.082Z"
   },
   {
    "duration": 168,
    "start_time": "2025-02-16T20:24:25.918Z"
   },
   {
    "duration": 155,
    "start_time": "2025-02-16T20:24:50.420Z"
   },
   {
    "duration": 153,
    "start_time": "2025-02-16T20:25:02.116Z"
   },
   {
    "duration": 141,
    "start_time": "2025-02-16T20:25:18.008Z"
   },
   {
    "duration": 122,
    "start_time": "2025-02-16T20:25:23.593Z"
   },
   {
    "duration": 149,
    "start_time": "2025-02-16T20:25:30.161Z"
   },
   {
    "duration": 93,
    "start_time": "2025-02-16T20:25:56.469Z"
   },
   {
    "duration": 128,
    "start_time": "2025-02-16T20:26:14.735Z"
   },
   {
    "duration": 133,
    "start_time": "2025-02-16T20:26:21.229Z"
   },
   {
    "duration": 162,
    "start_time": "2025-02-16T20:27:00.261Z"
   },
   {
    "duration": 148,
    "start_time": "2025-02-16T20:27:26.792Z"
   },
   {
    "duration": 143,
    "start_time": "2025-02-16T20:27:34.687Z"
   },
   {
    "duration": 216,
    "start_time": "2025-02-16T20:27:43.131Z"
   },
   {
    "duration": 92,
    "start_time": "2025-02-16T20:28:42.764Z"
   },
   {
    "duration": 124,
    "start_time": "2025-02-16T20:28:46.652Z"
   },
   {
    "duration": 95,
    "start_time": "2025-02-16T20:29:00.516Z"
   },
   {
    "duration": 136,
    "start_time": "2025-02-16T20:29:07.052Z"
   },
   {
    "duration": 135,
    "start_time": "2025-02-16T20:29:18.162Z"
   },
   {
    "duration": 95,
    "start_time": "2025-02-16T20:30:16.412Z"
   },
   {
    "duration": 125,
    "start_time": "2025-02-16T20:31:15.723Z"
   },
   {
    "duration": 95,
    "start_time": "2025-02-16T20:31:30.788Z"
   },
   {
    "duration": 108,
    "start_time": "2025-02-16T20:32:00.507Z"
   },
   {
    "duration": 632,
    "start_time": "2025-02-16T20:33:41.822Z"
   },
   {
    "duration": 661,
    "start_time": "2025-02-16T20:33:49.608Z"
   },
   {
    "duration": 629,
    "start_time": "2025-02-16T20:34:02.291Z"
   },
   {
    "duration": 741,
    "start_time": "2025-02-16T20:35:35.127Z"
   },
   {
    "duration": 761,
    "start_time": "2025-02-16T20:35:55.042Z"
   },
   {
    "duration": 805,
    "start_time": "2025-02-16T20:36:03.258Z"
   },
   {
    "duration": 766,
    "start_time": "2025-02-16T20:36:55.779Z"
   },
   {
    "duration": 9,
    "start_time": "2025-02-16T20:37:34.340Z"
   },
   {
    "duration": 9,
    "start_time": "2025-02-16T20:37:39.853Z"
   },
   {
    "duration": 9,
    "start_time": "2025-02-16T20:37:45.410Z"
   },
   {
    "duration": 12,
    "start_time": "2025-02-16T20:37:50.765Z"
   },
   {
    "duration": 18,
    "start_time": "2025-02-16T20:38:26.146Z"
   },
   {
    "duration": 94,
    "start_time": "2025-02-16T20:38:31.271Z"
   },
   {
    "duration": 116,
    "start_time": "2025-02-16T20:38:49.788Z"
   },
   {
    "duration": 120,
    "start_time": "2025-02-16T20:39:01.979Z"
   },
   {
    "duration": 97,
    "start_time": "2025-02-16T20:39:23.162Z"
   },
   {
    "duration": 4,
    "start_time": "2025-02-16T20:40:43.101Z"
   },
   {
    "duration": 16,
    "start_time": "2025-02-16T20:40:55.346Z"
   },
   {
    "duration": 26,
    "start_time": "2025-02-16T20:41:01.279Z"
   },
   {
    "duration": 28,
    "start_time": "2025-02-16T20:41:15.451Z"
   },
   {
    "duration": 154,
    "start_time": "2025-02-16T20:41:49.900Z"
   },
   {
    "duration": 15,
    "start_time": "2025-02-16T20:42:06.518Z"
   },
   {
    "duration": 18,
    "start_time": "2025-02-16T20:42:11.260Z"
   },
   {
    "duration": 22,
    "start_time": "2025-02-16T20:42:38.472Z"
   },
   {
    "duration": 17,
    "start_time": "2025-02-16T20:43:09.608Z"
   },
   {
    "duration": 60,
    "start_time": "2025-02-16T20:43:42.804Z"
   },
   {
    "duration": 202,
    "start_time": "2025-02-16T20:43:49.824Z"
   },
   {
    "duration": 20,
    "start_time": "2025-02-16T20:44:07.393Z"
   },
   {
    "duration": 404,
    "start_time": "2025-02-16T20:49:45.012Z"
   },
   {
    "duration": 427,
    "start_time": "2025-02-16T20:49:50.389Z"
   },
   {
    "duration": 8,
    "start_time": "2025-02-16T20:50:15.970Z"
   },
   {
    "duration": 398,
    "start_time": "2025-02-16T20:50:48.367Z"
   },
   {
    "duration": 359,
    "start_time": "2025-02-16T20:50:54.023Z"
   },
   {
    "duration": 385,
    "start_time": "2025-02-16T20:51:03.585Z"
   },
   {
    "duration": 412,
    "start_time": "2025-02-16T20:51:15.211Z"
   },
   {
    "duration": 531,
    "start_time": "2025-02-16T20:53:09.434Z"
   },
   {
    "duration": 561,
    "start_time": "2025-02-16T20:53:47.484Z"
   },
   {
    "duration": 599,
    "start_time": "2025-02-16T20:54:25.379Z"
   },
   {
    "duration": 598,
    "start_time": "2025-02-16T20:54:34.692Z"
   },
   {
    "duration": 626,
    "start_time": "2025-02-16T20:54:48.426Z"
   },
   {
    "duration": 647,
    "start_time": "2025-02-16T20:54:55.906Z"
   },
   {
    "duration": 674,
    "start_time": "2025-02-16T20:55:02.975Z"
   },
   {
    "duration": 607,
    "start_time": "2025-02-16T20:55:36.880Z"
   },
   {
    "duration": 884,
    "start_time": "2025-02-16T20:55:53.855Z"
   },
   {
    "duration": 620,
    "start_time": "2025-02-16T20:56:16.680Z"
   },
   {
    "duration": 702,
    "start_time": "2025-02-16T20:56:28.055Z"
   },
   {
    "duration": 691,
    "start_time": "2025-02-16T20:56:39.877Z"
   },
   {
    "duration": 645,
    "start_time": "2025-02-16T20:57:31.318Z"
   },
   {
    "duration": 680,
    "start_time": "2025-02-16T20:58:48.859Z"
   },
   {
    "duration": 19,
    "start_time": "2025-02-16T20:59:44.559Z"
   },
   {
    "duration": 11,
    "start_time": "2025-02-16T21:06:24.711Z"
   },
   {
    "duration": 154,
    "start_time": "2025-02-16T21:06:52.978Z"
   },
   {
    "duration": 160,
    "start_time": "2025-02-16T21:07:00.600Z"
   },
   {
    "duration": 158,
    "start_time": "2025-02-16T21:07:06.027Z"
   },
   {
    "duration": 138,
    "start_time": "2025-02-16T21:07:13.719Z"
   },
   {
    "duration": 156,
    "start_time": "2025-02-16T21:07:24.418Z"
   },
   {
    "duration": 168,
    "start_time": "2025-02-16T21:08:20.371Z"
   },
   {
    "duration": 4,
    "start_time": "2025-02-16T21:08:24.246Z"
   },
   {
    "duration": 158,
    "start_time": "2025-02-16T21:08:26.413Z"
   },
   {
    "duration": 111,
    "start_time": "2025-02-16T21:08:51.705Z"
   },
   {
    "duration": 115,
    "start_time": "2025-02-16T21:09:03.992Z"
   },
   {
    "duration": 120,
    "start_time": "2025-02-16T21:09:17.497Z"
   },
   {
    "duration": 150,
    "start_time": "2025-02-16T21:10:05.740Z"
   },
   {
    "duration": 125,
    "start_time": "2025-02-16T21:10:18.295Z"
   },
   {
    "duration": 10,
    "start_time": "2025-02-16T21:13:30.682Z"
   },
   {
    "duration": 9,
    "start_time": "2025-02-16T21:13:37.327Z"
   },
   {
    "duration": 138,
    "start_time": "2025-02-16T21:15:18.718Z"
   },
   {
    "duration": 146,
    "start_time": "2025-02-16T21:15:43.246Z"
   },
   {
    "duration": 10,
    "start_time": "2025-02-16T21:17:22.751Z"
   },
   {
    "duration": 160,
    "start_time": "2025-02-16T21:17:40.535Z"
   },
   {
    "duration": 144,
    "start_time": "2025-02-16T21:17:48.566Z"
   },
   {
    "duration": 153,
    "start_time": "2025-02-16T21:17:53.345Z"
   },
   {
    "duration": 139,
    "start_time": "2025-02-16T21:17:57.337Z"
   },
   {
    "duration": 157,
    "start_time": "2025-02-16T21:18:04.133Z"
   },
   {
    "duration": 155,
    "start_time": "2025-02-16T21:18:07.927Z"
   },
   {
    "duration": 146,
    "start_time": "2025-02-16T21:18:36.151Z"
   },
   {
    "duration": 193,
    "start_time": "2025-02-16T21:19:36.100Z"
   },
   {
    "duration": 234,
    "start_time": "2025-02-16T21:20:01.932Z"
   },
   {
    "duration": 207,
    "start_time": "2025-02-16T21:20:08.576Z"
   },
   {
    "duration": 232,
    "start_time": "2025-02-16T21:21:47.764Z"
   },
   {
    "duration": 172,
    "start_time": "2025-02-16T21:21:54.893Z"
   },
   {
    "duration": 160,
    "start_time": "2025-02-16T21:22:16.583Z"
   },
   {
    "duration": 18,
    "start_time": "2025-02-16T21:22:56.211Z"
   },
   {
    "duration": 145,
    "start_time": "2025-02-16T21:23:01.841Z"
   },
   {
    "duration": 144,
    "start_time": "2025-02-16T21:23:09.220Z"
   },
   {
    "duration": 167,
    "start_time": "2025-02-16T21:23:28.507Z"
   },
   {
    "duration": 313,
    "start_time": "2025-02-16T21:24:04.069Z"
   },
   {
    "duration": 354,
    "start_time": "2025-02-16T21:24:20.102Z"
   },
   {
    "duration": 307,
    "start_time": "2025-02-16T21:26:08.990Z"
   },
   {
    "duration": 319,
    "start_time": "2025-02-16T21:26:16.225Z"
   },
   {
    "duration": 372,
    "start_time": "2025-02-16T21:27:19.533Z"
   },
   {
    "duration": 320,
    "start_time": "2025-02-16T21:27:24.895Z"
   },
   {
    "duration": 328,
    "start_time": "2025-02-16T21:27:46.331Z"
   },
   {
    "duration": 337,
    "start_time": "2025-02-16T21:27:58.482Z"
   },
   {
    "duration": 361,
    "start_time": "2025-02-16T21:28:11.758Z"
   },
   {
    "duration": 15,
    "start_time": "2025-02-16T21:28:53.311Z"
   },
   {
    "duration": 330,
    "start_time": "2025-02-16T21:29:26.905Z"
   },
   {
    "duration": 325,
    "start_time": "2025-02-16T21:29:34.759Z"
   },
   {
    "duration": 340,
    "start_time": "2025-02-16T21:29:39.646Z"
   },
   {
    "duration": 9,
    "start_time": "2025-02-16T21:30:26.386Z"
   },
   {
    "duration": 370,
    "start_time": "2025-02-16T21:30:30.358Z"
   },
   {
    "duration": 11,
    "start_time": "2025-02-16T21:37:49.585Z"
   },
   {
    "duration": 13,
    "start_time": "2025-02-16T21:38:02.890Z"
   },
   {
    "duration": 17,
    "start_time": "2025-02-16T21:38:06.816Z"
   },
   {
    "duration": 21,
    "start_time": "2025-02-16T21:38:48.045Z"
   },
   {
    "duration": 123,
    "start_time": "2025-02-16T21:38:52.623Z"
   },
   {
    "duration": 149,
    "start_time": "2025-02-16T21:39:41.057Z"
   },
   {
    "duration": 141,
    "start_time": "2025-02-16T21:39:52.392Z"
   },
   {
    "duration": 59,
    "start_time": "2025-02-16T21:41:12.736Z"
   },
   {
    "duration": 72,
    "start_time": "2025-02-16T21:42:11.688Z"
   },
   {
    "duration": 61,
    "start_time": "2025-02-16T21:42:16.833Z"
   },
   {
    "duration": 12,
    "start_time": "2025-02-16T21:42:25.287Z"
   },
   {
    "duration": 931,
    "start_time": "2025-02-16T21:43:20.620Z"
   },
   {
    "duration": 980,
    "start_time": "2025-02-16T21:43:25.281Z"
   },
   {
    "duration": 2058,
    "start_time": "2025-02-16T21:44:02.137Z"
   },
   {
    "duration": 2131,
    "start_time": "2025-02-16T21:44:27.140Z"
   },
   {
    "duration": 2180,
    "start_time": "2025-02-16T21:44:31.926Z"
   },
   {
    "duration": 68,
    "start_time": "2025-02-16T21:45:05.302Z"
   },
   {
    "duration": 18,
    "start_time": "2025-02-16T21:45:28.469Z"
   },
   {
    "duration": 13,
    "start_time": "2025-02-16T21:46:05.605Z"
   },
   {
    "duration": 1098,
    "start_time": "2025-02-16T21:46:26.513Z"
   },
   {
    "duration": 1252,
    "start_time": "2025-02-16T21:47:26.231Z"
   },
   {
    "duration": 1324,
    "start_time": "2025-02-16T21:47:51.137Z"
   },
   {
    "duration": 1341,
    "start_time": "2025-02-16T21:48:17.936Z"
   },
   {
    "duration": 1167,
    "start_time": "2025-02-16T21:48:24.340Z"
   },
   {
    "duration": 31,
    "start_time": "2025-02-16T21:49:51.578Z"
   },
   {
    "duration": 34,
    "start_time": "2025-02-16T21:50:02.628Z"
   },
   {
    "duration": 43,
    "start_time": "2025-02-16T21:50:40.378Z"
   },
   {
    "duration": 43,
    "start_time": "2025-02-16T21:50:48.249Z"
   },
   {
    "duration": 49,
    "start_time": "2025-02-16T21:51:35.304Z"
   },
   {
    "duration": 42,
    "start_time": "2025-02-16T21:51:41.861Z"
   },
   {
    "duration": 55,
    "start_time": "2025-02-16T21:52:48.909Z"
   },
   {
    "duration": 53,
    "start_time": "2025-02-16T21:53:02.273Z"
   },
   {
    "duration": 1903,
    "start_time": "2025-02-16T21:56:21.096Z"
   },
   {
    "duration": 120,
    "start_time": "2025-02-16T21:56:23.009Z"
   },
   {
    "duration": 17,
    "start_time": "2025-02-16T21:56:23.136Z"
   },
   {
    "duration": 233,
    "start_time": "2025-02-16T21:56:23.159Z"
   },
   {
    "duration": 117,
    "start_time": "2025-02-16T21:56:23.399Z"
   },
   {
    "duration": 63,
    "start_time": "2025-02-16T21:56:23.522Z"
   },
   {
    "duration": 24,
    "start_time": "2025-02-16T21:56:23.590Z"
   },
   {
    "duration": 9,
    "start_time": "2025-02-16T21:56:23.623Z"
   },
   {
    "duration": 40,
    "start_time": "2025-02-16T21:56:23.637Z"
   },
   {
    "duration": 26,
    "start_time": "2025-02-16T21:56:23.683Z"
   },
   {
    "duration": 9,
    "start_time": "2025-02-16T21:56:23.715Z"
   },
   {
    "duration": 10,
    "start_time": "2025-02-16T21:56:23.730Z"
   },
   {
    "duration": 8,
    "start_time": "2025-02-16T21:56:23.746Z"
   },
   {
    "duration": 9,
    "start_time": "2025-02-16T21:56:23.764Z"
   },
   {
    "duration": 2613,
    "start_time": "2025-02-16T21:56:54.840Z"
   },
   {
    "duration": 129,
    "start_time": "2025-02-16T21:56:57.459Z"
   },
   {
    "duration": 12,
    "start_time": "2025-02-16T21:56:57.593Z"
   },
   {
    "duration": 315,
    "start_time": "2025-02-16T21:56:57.611Z"
   },
   {
    "duration": 154,
    "start_time": "2025-02-16T21:56:57.933Z"
   },
   {
    "duration": 78,
    "start_time": "2025-02-16T21:56:58.092Z"
   },
   {
    "duration": 23,
    "start_time": "2025-02-16T21:56:58.175Z"
   },
   {
    "duration": 11,
    "start_time": "2025-02-16T21:56:58.203Z"
   },
   {
    "duration": 43,
    "start_time": "2025-02-16T21:56:58.219Z"
   },
   {
    "duration": 23,
    "start_time": "2025-02-16T21:56:58.271Z"
   },
   {
    "duration": 11,
    "start_time": "2025-02-16T21:56:58.299Z"
   },
   {
    "duration": 10,
    "start_time": "2025-02-16T21:56:58.316Z"
   },
   {
    "duration": 7,
    "start_time": "2025-02-16T21:56:58.332Z"
   },
   {
    "duration": 9,
    "start_time": "2025-02-16T21:56:58.348Z"
   },
   {
    "duration": 1261,
    "start_time": "2025-02-16T21:56:58.362Z"
   },
   {
    "duration": 1255,
    "start_time": "2025-02-16T21:56:59.631Z"
   },
   {
    "duration": 14,
    "start_time": "2025-02-16T21:57:00.892Z"
   },
   {
    "duration": 9,
    "start_time": "2025-02-16T21:57:00.911Z"
   },
   {
    "duration": 9,
    "start_time": "2025-02-16T21:57:00.925Z"
   },
   {
    "duration": 9,
    "start_time": "2025-02-16T21:57:00.939Z"
   },
   {
    "duration": 18,
    "start_time": "2025-02-16T21:57:00.954Z"
   },
   {
    "duration": 12,
    "start_time": "2025-02-16T21:57:00.978Z"
   },
   {
    "duration": 26,
    "start_time": "2025-02-16T21:57:00.995Z"
   },
   {
    "duration": 29,
    "start_time": "2025-02-16T21:57:01.026Z"
   },
   {
    "duration": 50,
    "start_time": "2025-02-16T21:57:01.060Z"
   },
   {
    "duration": 21,
    "start_time": "2025-02-16T21:57:01.116Z"
   },
   {
    "duration": 7,
    "start_time": "2025-02-16T21:57:01.142Z"
   },
   {
    "duration": 62,
    "start_time": "2025-02-16T21:57:01.155Z"
   },
   {
    "duration": 11,
    "start_time": "2025-02-16T21:57:01.222Z"
   },
   {
    "duration": 67,
    "start_time": "2025-02-16T21:57:01.238Z"
   },
   {
    "duration": 248,
    "start_time": "2025-02-16T21:57:01.310Z"
   },
   {
    "duration": 149,
    "start_time": "2025-02-16T21:57:01.564Z"
   },
   {
    "duration": 293,
    "start_time": "2025-02-16T21:57:01.718Z"
   },
   {
    "duration": 8,
    "start_time": "2025-02-16T21:57:02.018Z"
   },
   {
    "duration": 239,
    "start_time": "2025-02-16T21:57:02.031Z"
   },
   {
    "duration": 51,
    "start_time": "2025-02-16T21:57:02.275Z"
   },
   {
    "duration": 193,
    "start_time": "2025-02-16T21:57:02.333Z"
   },
   {
    "duration": 162,
    "start_time": "2025-02-16T21:57:02.533Z"
   },
   {
    "duration": 20,
    "start_time": "2025-02-16T21:57:02.701Z"
   },
   {
    "duration": 697,
    "start_time": "2025-02-16T21:57:02.726Z"
   },
   {
    "duration": 21,
    "start_time": "2025-02-16T21:57:03.433Z"
   },
   {
    "duration": 183,
    "start_time": "2025-02-16T21:57:03.460Z"
   },
   {
    "duration": 323,
    "start_time": "2025-02-16T21:57:03.648Z"
   },
   {
    "duration": 121,
    "start_time": "2025-02-16T21:57:03.976Z"
   },
   {
    "duration": 3132,
    "start_time": "2025-02-16T22:12:30.526Z"
   },
   {
    "duration": 86,
    "start_time": "2025-02-16T22:12:33.661Z"
   },
   {
    "duration": 8,
    "start_time": "2025-02-16T22:12:33.749Z"
   },
   {
    "duration": 180,
    "start_time": "2025-02-16T22:12:33.760Z"
   },
   {
    "duration": 90,
    "start_time": "2025-02-16T22:12:33.942Z"
   },
   {
    "duration": 53,
    "start_time": "2025-02-16T22:12:34.034Z"
   },
   {
    "duration": 22,
    "start_time": "2025-02-16T22:12:34.089Z"
   },
   {
    "duration": 5,
    "start_time": "2025-02-16T22:12:34.113Z"
   },
   {
    "duration": 22,
    "start_time": "2025-02-16T22:12:34.120Z"
   },
   {
    "duration": 14,
    "start_time": "2025-02-16T22:12:34.145Z"
   },
   {
    "duration": 4,
    "start_time": "2025-02-16T22:12:34.161Z"
   },
   {
    "duration": 5,
    "start_time": "2025-02-16T22:12:34.167Z"
   },
   {
    "duration": 37,
    "start_time": "2025-02-16T22:12:34.173Z"
   },
   {
    "duration": 4,
    "start_time": "2025-02-16T22:12:34.212Z"
   },
   {
    "duration": 743,
    "start_time": "2025-02-16T22:12:34.217Z"
   },
   {
    "duration": 747,
    "start_time": "2025-02-16T22:12:34.962Z"
   },
   {
    "duration": 10,
    "start_time": "2025-02-16T22:12:35.710Z"
   },
   {
    "duration": 5,
    "start_time": "2025-02-16T22:12:35.721Z"
   },
   {
    "duration": 6,
    "start_time": "2025-02-16T22:12:35.728Z"
   },
   {
    "duration": 5,
    "start_time": "2025-02-16T22:12:35.736Z"
   },
   {
    "duration": 13,
    "start_time": "2025-02-16T22:12:35.743Z"
   },
   {
    "duration": 6,
    "start_time": "2025-02-16T22:12:35.758Z"
   },
   {
    "duration": 52,
    "start_time": "2025-02-16T22:12:35.766Z"
   },
   {
    "duration": 16,
    "start_time": "2025-02-16T22:12:35.821Z"
   },
   {
    "duration": 31,
    "start_time": "2025-02-16T22:12:35.838Z"
   },
   {
    "duration": 11,
    "start_time": "2025-02-16T22:12:35.871Z"
   },
   {
    "duration": 4,
    "start_time": "2025-02-16T22:12:35.909Z"
   },
   {
    "duration": 39,
    "start_time": "2025-02-16T22:12:35.917Z"
   },
   {
    "duration": 7,
    "start_time": "2025-02-16T22:12:35.958Z"
   },
   {
    "duration": 66,
    "start_time": "2025-02-16T22:12:35.966Z"
   },
   {
    "duration": 190,
    "start_time": "2025-02-16T22:12:36.033Z"
   },
   {
    "duration": 153,
    "start_time": "2025-02-16T22:12:36.224Z"
   },
   {
    "duration": 216,
    "start_time": "2025-02-16T22:12:36.379Z"
   },
   {
    "duration": 13,
    "start_time": "2025-02-16T22:12:36.596Z"
   },
   {
    "duration": 176,
    "start_time": "2025-02-16T22:12:36.610Z"
   },
   {
    "duration": 45,
    "start_time": "2025-02-16T22:12:36.788Z"
   },
   {
    "duration": 140,
    "start_time": "2025-02-16T22:12:36.835Z"
   },
   {
    "duration": 117,
    "start_time": "2025-02-16T22:12:36.977Z"
   },
   {
    "duration": 16,
    "start_time": "2025-02-16T22:12:37.096Z"
   },
   {
    "duration": 455,
    "start_time": "2025-02-16T22:12:37.114Z"
   },
   {
    "duration": 14,
    "start_time": "2025-02-16T22:12:37.571Z"
   },
   {
    "duration": 140,
    "start_time": "2025-02-16T22:12:37.588Z"
   },
   {
    "duration": 230,
    "start_time": "2025-02-16T22:12:37.730Z"
   },
   {
    "duration": 103,
    "start_time": "2025-02-16T22:12:37.962Z"
   },
   {
    "duration": 8,
    "start_time": "2025-02-17T18:37:56.064Z"
   },
   {
    "duration": 4,
    "start_time": "2025-02-17T18:38:16.527Z"
   },
   {
    "duration": 3,
    "start_time": "2025-02-17T18:38:29.296Z"
   },
   {
    "duration": 3,
    "start_time": "2025-02-17T18:38:51.297Z"
   },
   {
    "duration": 161,
    "start_time": "2025-02-17T18:47:23.827Z"
   },
   {
    "duration": 3331,
    "start_time": "2025-02-17T18:47:29.545Z"
   },
   {
    "duration": 97,
    "start_time": "2025-02-17T18:47:32.878Z"
   },
   {
    "duration": 9,
    "start_time": "2025-02-17T18:47:32.977Z"
   },
   {
    "duration": 188,
    "start_time": "2025-02-17T18:47:32.988Z"
   },
   {
    "duration": 97,
    "start_time": "2025-02-17T18:47:33.178Z"
   },
   {
    "duration": 58,
    "start_time": "2025-02-17T18:47:33.277Z"
   },
   {
    "duration": 13,
    "start_time": "2025-02-17T18:47:33.337Z"
   },
   {
    "duration": 6,
    "start_time": "2025-02-17T18:47:33.352Z"
   },
   {
    "duration": 28,
    "start_time": "2025-02-17T18:47:33.360Z"
   },
   {
    "duration": 47,
    "start_time": "2025-02-17T18:47:33.391Z"
   },
   {
    "duration": 6,
    "start_time": "2025-02-17T18:47:33.439Z"
   },
   {
    "duration": 5,
    "start_time": "2025-02-17T18:47:33.446Z"
   },
   {
    "duration": 4,
    "start_time": "2025-02-17T18:47:33.452Z"
   },
   {
    "duration": 5,
    "start_time": "2025-02-17T18:47:33.457Z"
   },
   {
    "duration": 803,
    "start_time": "2025-02-17T18:47:33.464Z"
   },
   {
    "duration": 818,
    "start_time": "2025-02-17T18:47:34.269Z"
   },
   {
    "duration": 9,
    "start_time": "2025-02-17T18:47:35.090Z"
   },
   {
    "duration": 5,
    "start_time": "2025-02-17T18:47:35.101Z"
   },
   {
    "duration": 25,
    "start_time": "2025-02-17T18:47:35.108Z"
   },
   {
    "duration": 6,
    "start_time": "2025-02-17T18:47:35.135Z"
   },
   {
    "duration": 11,
    "start_time": "2025-02-17T18:47:35.143Z"
   },
   {
    "duration": 8,
    "start_time": "2025-02-17T18:47:35.156Z"
   },
   {
    "duration": 18,
    "start_time": "2025-02-17T18:47:35.165Z"
   },
   {
    "duration": 49,
    "start_time": "2025-02-17T18:47:35.185Z"
   },
   {
    "duration": 32,
    "start_time": "2025-02-17T18:47:35.236Z"
   },
   {
    "duration": 13,
    "start_time": "2025-02-17T18:47:35.270Z"
   },
   {
    "duration": 5,
    "start_time": "2025-02-17T18:47:35.285Z"
   },
   {
    "duration": 70,
    "start_time": "2025-02-17T18:47:35.293Z"
   },
   {
    "duration": 7,
    "start_time": "2025-02-17T18:47:35.365Z"
   },
   {
    "duration": 57,
    "start_time": "2025-02-17T18:47:35.374Z"
   },
   {
    "duration": 238,
    "start_time": "2025-02-17T18:47:35.433Z"
   },
   {
    "duration": 123,
    "start_time": "2025-02-17T18:47:35.673Z"
   },
   {
    "duration": 223,
    "start_time": "2025-02-17T18:47:35.798Z"
   },
   {
    "duration": 10,
    "start_time": "2025-02-17T18:47:36.023Z"
   },
   {
    "duration": 189,
    "start_time": "2025-02-17T18:47:36.035Z"
   },
   {
    "duration": 45,
    "start_time": "2025-02-17T18:47:36.226Z"
   },
   {
    "duration": 144,
    "start_time": "2025-02-17T18:47:36.272Z"
   },
   {
    "duration": 110,
    "start_time": "2025-02-17T18:47:36.418Z"
   },
   {
    "duration": 13,
    "start_time": "2025-02-17T18:47:36.531Z"
   },
   {
    "duration": 469,
    "start_time": "2025-02-17T18:47:36.546Z"
   },
   {
    "duration": 23,
    "start_time": "2025-02-17T18:47:37.018Z"
   },
   {
    "duration": 133,
    "start_time": "2025-02-17T18:47:37.043Z"
   },
   {
    "duration": 224,
    "start_time": "2025-02-17T18:47:37.178Z"
   },
   {
    "duration": 103,
    "start_time": "2025-02-17T18:47:37.404Z"
   },
   {
    "duration": 3167,
    "start_time": "2025-02-18T22:09:29.627Z"
   },
   {
    "duration": 83,
    "start_time": "2025-02-18T22:09:32.796Z"
   },
   {
    "duration": 8,
    "start_time": "2025-02-18T22:09:32.881Z"
   },
   {
    "duration": 182,
    "start_time": "2025-02-18T22:09:32.891Z"
   },
   {
    "duration": 86,
    "start_time": "2025-02-18T22:09:33.076Z"
   },
   {
    "duration": 45,
    "start_time": "2025-02-18T22:09:33.165Z"
   },
   {
    "duration": 11,
    "start_time": "2025-02-18T22:09:33.212Z"
   },
   {
    "duration": 4,
    "start_time": "2025-02-18T22:09:33.225Z"
   },
   {
    "duration": 21,
    "start_time": "2025-02-18T22:09:33.231Z"
   },
   {
    "duration": 14,
    "start_time": "2025-02-18T22:09:33.254Z"
   },
   {
    "duration": 4,
    "start_time": "2025-02-18T22:09:33.269Z"
   },
   {
    "duration": 36,
    "start_time": "2025-02-18T22:09:33.275Z"
   },
   {
    "duration": 4,
    "start_time": "2025-02-18T22:09:33.313Z"
   },
   {
    "duration": 4,
    "start_time": "2025-02-18T22:09:33.321Z"
   },
   {
    "duration": 774,
    "start_time": "2025-02-18T22:09:33.327Z"
   },
   {
    "duration": 743,
    "start_time": "2025-02-18T22:09:34.103Z"
   },
   {
    "duration": 10,
    "start_time": "2025-02-18T22:09:34.848Z"
   },
   {
    "duration": 6,
    "start_time": "2025-02-18T22:09:34.859Z"
   },
   {
    "duration": 5,
    "start_time": "2025-02-18T22:09:34.866Z"
   },
   {
    "duration": 6,
    "start_time": "2025-02-18T22:09:34.873Z"
   },
   {
    "duration": 36,
    "start_time": "2025-02-18T22:09:34.880Z"
   },
   {
    "duration": 8,
    "start_time": "2025-02-18T22:09:34.917Z"
   },
   {
    "duration": 16,
    "start_time": "2025-02-18T22:09:34.926Z"
   },
   {
    "duration": 16,
    "start_time": "2025-02-18T22:09:34.944Z"
   },
   {
    "duration": 58,
    "start_time": "2025-02-18T22:09:34.961Z"
   },
   {
    "duration": 11,
    "start_time": "2025-02-18T22:09:35.021Z"
   },
   {
    "duration": 6,
    "start_time": "2025-02-18T22:09:35.034Z"
   },
   {
    "duration": 40,
    "start_time": "2025-02-18T22:09:35.042Z"
   },
   {
    "duration": 31,
    "start_time": "2025-02-18T22:09:35.083Z"
   },
   {
    "duration": 43,
    "start_time": "2025-02-18T22:09:35.116Z"
   },
   {
    "duration": 194,
    "start_time": "2025-02-18T22:09:35.160Z"
   },
   {
    "duration": 118,
    "start_time": "2025-02-18T22:09:35.356Z"
   },
   {
    "duration": 238,
    "start_time": "2025-02-18T22:09:35.475Z"
   },
   {
    "duration": 5,
    "start_time": "2025-02-18T22:09:35.715Z"
   },
   {
    "duration": 219,
    "start_time": "2025-02-18T22:09:35.722Z"
   },
   {
    "duration": 38,
    "start_time": "2025-02-18T22:09:35.943Z"
   },
   {
    "duration": 139,
    "start_time": "2025-02-18T22:09:35.983Z"
   },
   {
    "duration": 110,
    "start_time": "2025-02-18T22:09:36.124Z"
   },
   {
    "duration": 12,
    "start_time": "2025-02-18T22:09:36.236Z"
   },
   {
    "duration": 408,
    "start_time": "2025-02-18T22:09:36.250Z"
   },
   {
    "duration": 16,
    "start_time": "2025-02-18T22:09:36.663Z"
   },
   {
    "duration": 133,
    "start_time": "2025-02-18T22:09:36.682Z"
   },
   {
    "duration": 224,
    "start_time": "2025-02-18T22:09:36.818Z"
   },
   {
    "duration": 100,
    "start_time": "2025-02-18T22:09:37.044Z"
   },
   {
    "duration": 1388,
    "start_time": "2025-02-19T04:27:19.536Z"
   },
   {
    "duration": 102,
    "start_time": "2025-02-19T04:27:20.927Z"
   },
   {
    "duration": 8,
    "start_time": "2025-02-19T04:27:21.031Z"
   },
   {
    "duration": 181,
    "start_time": "2025-02-19T04:27:21.040Z"
   },
   {
    "duration": 91,
    "start_time": "2025-02-19T04:27:21.224Z"
   },
   {
    "duration": 44,
    "start_time": "2025-02-19T04:27:21.316Z"
   },
   {
    "duration": 12,
    "start_time": "2025-02-19T04:27:21.362Z"
   },
   {
    "duration": 6,
    "start_time": "2025-02-19T04:27:21.377Z"
   },
   {
    "duration": 41,
    "start_time": "2025-02-19T04:27:21.385Z"
   },
   {
    "duration": 15,
    "start_time": "2025-02-19T04:27:21.427Z"
   },
   {
    "duration": 4,
    "start_time": "2025-02-19T04:27:21.444Z"
   },
   {
    "duration": 4,
    "start_time": "2025-02-19T04:27:21.450Z"
   },
   {
    "duration": 3,
    "start_time": "2025-02-19T04:27:21.456Z"
   },
   {
    "duration": 5,
    "start_time": "2025-02-19T04:27:21.463Z"
   },
   {
    "duration": 786,
    "start_time": "2025-02-19T04:27:21.470Z"
   },
   {
    "duration": 768,
    "start_time": "2025-02-19T04:27:22.258Z"
   },
   {
    "duration": 10,
    "start_time": "2025-02-19T04:27:23.028Z"
   },
   {
    "duration": 6,
    "start_time": "2025-02-19T04:27:23.039Z"
   },
   {
    "duration": 6,
    "start_time": "2025-02-19T04:27:23.047Z"
   },
   {
    "duration": 6,
    "start_time": "2025-02-19T04:27:23.054Z"
   },
   {
    "duration": 10,
    "start_time": "2025-02-19T04:27:23.062Z"
   },
   {
    "duration": 40,
    "start_time": "2025-02-19T04:27:23.074Z"
   },
   {
    "duration": 18,
    "start_time": "2025-02-19T04:27:23.116Z"
   },
   {
    "duration": 19,
    "start_time": "2025-02-19T04:27:23.136Z"
   },
   {
    "duration": 52,
    "start_time": "2025-02-19T04:27:23.157Z"
   },
   {
    "duration": 12,
    "start_time": "2025-02-19T04:27:23.210Z"
   },
   {
    "duration": 5,
    "start_time": "2025-02-19T04:27:23.224Z"
   },
   {
    "duration": 41,
    "start_time": "2025-02-19T04:27:23.231Z"
   },
   {
    "duration": 7,
    "start_time": "2025-02-19T04:27:23.274Z"
   },
   {
    "duration": 43,
    "start_time": "2025-02-19T04:27:23.309Z"
   },
   {
    "duration": 207,
    "start_time": "2025-02-19T04:27:23.354Z"
   },
   {
    "duration": 117,
    "start_time": "2025-02-19T04:27:23.563Z"
   },
   {
    "duration": 219,
    "start_time": "2025-02-19T04:27:23.682Z"
   },
   {
    "duration": 8,
    "start_time": "2025-02-19T04:27:23.903Z"
   },
   {
    "duration": 179,
    "start_time": "2025-02-19T04:27:23.914Z"
   },
   {
    "duration": 41,
    "start_time": "2025-02-19T04:27:24.095Z"
   },
   {
    "duration": 150,
    "start_time": "2025-02-19T04:27:24.137Z"
   },
   {
    "duration": 114,
    "start_time": "2025-02-19T04:27:24.288Z"
   },
   {
    "duration": 15,
    "start_time": "2025-02-19T04:27:24.404Z"
   },
   {
    "duration": 406,
    "start_time": "2025-02-19T04:27:24.422Z"
   },
   {
    "duration": 13,
    "start_time": "2025-02-19T04:27:24.833Z"
   },
   {
    "duration": 139,
    "start_time": "2025-02-19T04:27:24.848Z"
   },
   {
    "duration": 229,
    "start_time": "2025-02-19T04:27:24.988Z"
   },
   {
    "duration": 106,
    "start_time": "2025-02-19T04:27:25.219Z"
   }
  ],
  "kernelspec": {
   "display_name": "Python 3 (ipykernel)",
   "language": "python",
   "name": "python3"
  },
  "language_info": {
   "codemirror_mode": {
    "name": "ipython",
    "version": 3
   },
   "file_extension": ".py",
   "mimetype": "text/x-python",
   "name": "python",
   "nbconvert_exporter": "python",
   "pygments_lexer": "ipython3",
   "version": "3.9.19"
  },
  "toc": {
   "base_numbering": 1,
   "nav_menu": {},
   "number_sections": true,
   "sideBar": true,
   "skip_h1_title": true,
   "title_cell": "Table of Contents",
   "title_sidebar": "Contents",
   "toc_cell": false,
   "toc_position": {
    "height": "calc(100% - 180px)",
    "left": "10px",
    "top": "150px",
    "width": "357px"
   },
   "toc_section_display": true,
   "toc_window_display": true
  },
  "vscode": {
   "interpreter": {
    "hash": "01a7be9ec63e704a62cefc5fe7a4756944464ee731be31632bdf42a4cb4688cf"
   }
  }
 },
 "nbformat": 4,
 "nbformat_minor": 5
}
